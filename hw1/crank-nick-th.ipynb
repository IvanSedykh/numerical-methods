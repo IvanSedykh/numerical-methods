{
 "cells": [
  {
   "cell_type": "code",
   "execution_count": 46,
   "source": [
    "from sympy import symbols, Function, series, latex\n",
    "from IPython.display import display, Math\n",
    "\n",
    "def pprint(expr):\n",
    "    display(Math(latex(expr.simplify())))"
   ],
   "outputs": [],
   "metadata": {}
  },
  {
   "cell_type": "code",
   "execution_count": 67,
   "source": [
    "x, h, t, tau = symbols('x, h, t, tau')\n",
    "sigma = 0.1\n",
    "u = Function('u')"
   ],
   "outputs": [],
   "metadata": {}
  },
  {
   "cell_type": "code",
   "execution_count": 48,
   "source": [
    "# если Вы знаете, как более адекватно сделать разложение в нужной точке в sympy,\n",
    "# я был бы рад это услышать\n",
    "\n",
    "def time_approx(u, T):\n",
    "    t0 = symbols('t_0')\n",
    "\n",
    "    expr = u(x, T).series(T, x0 = t0, n=5)\n",
    "    expr = expr.subs(t-t0, 0).subs(t0, t)\n",
    "    return expr"
   ],
   "outputs": [],
   "metadata": {}
  },
  {
   "cell_type": "markdown",
   "source": [
    "Посчитаем как $\\frac{y_j^{n+1} - y_j^{n}}{\\tau}$ аппроксимирует $\\dot{u}$"
   ],
   "metadata": {}
  },
  {
   "cell_type": "code",
   "execution_count": 70,
   "source": [
    "y_j_n = time_approx(u, t)\n",
    "y_j_nplus1 = time_approx(u, t+tau)\n",
    "\n",
    "lhs = (y_j_nplus1 - y_j_n) / tau\n",
    "\n",
    "pprint(lhs)"
   ],
   "outputs": [
    {
     "output_type": "display_data",
     "data": {
      "text/latex": [
       "$\\displaystyle \\left. \\frac{\\partial}{\\partial \\xi_{2}} u{\\left (x,\\xi_{2} \\right )} \\right|_{\\substack{ \\xi_{2}=t }} + \\frac{\\tau \\left. \\frac{\\partial^{2}}{\\partial \\xi_{2}^{2}} u{\\left (x,\\xi_{2} \\right )} \\right|_{\\substack{ \\xi_{2}=t }}}{2} + \\frac{\\tau^{2} \\left. \\frac{\\partial^{3}}{\\partial \\xi_{2}^{3}} u{\\left (x,\\xi_{2} \\right )} \\right|_{\\substack{ \\xi_{2}=t }}}{6} + \\frac{\\tau^{3} \\left. \\frac{\\partial^{4}}{\\partial \\xi_{2}^{4}} u{\\left (x,\\xi_{2} \\right )} \\right|_{\\substack{ \\xi_{2}=t }}}{24} + O\\left(\\frac{t^{5}}{\\tau} + t^{4} + t^{3} \\tau + t^{2} \\tau^{2} + t \\tau^{3} + \\tau^{4}; \\left ( t, \\quad \\tau\\right )\\rightarrow \\left ( 0, \\quad 0\\right )\\right)$"
      ],
      "text/plain": [
       "<IPython.core.display.Math object>"
      ]
     },
     "metadata": {}
    }
   ],
   "metadata": {}
  },
  {
   "cell_type": "markdown",
   "source": [
    "Видим, что первый член это в точности $\\dot{u}$, а другие члены это $O(\\tau)$, значит это первый порядок аппроксимации."
   ],
   "metadata": {}
  },
  {
   "cell_type": "code",
   "execution_count": 57,
   "source": [
    "def space_approx(u, X, t):\n",
    "    x0 = symbols('x_0')\n",
    "\n",
    "    expr = u(X, t).series(X, x0 = x0, n=5)\n",
    "    expr = expr.subs(x-x0, 0).subs(x0, x)\n",
    "    return expr"
   ],
   "outputs": [],
   "metadata": {}
  },
  {
   "cell_type": "code",
   "execution_count": 64,
   "source": [
    "def Dxx(u, t):\n",
    "    y_jminus1 = space_approx(u, x-h, t)\n",
    "    y_j = space_approx(u, x, t)\n",
    "    y_jplus1 = space_approx(u, x+h, t)\n",
    "\n",
    "    return (y_jminus1 - 2*y_j + y_jplus1) / h**2"
   ],
   "outputs": [],
   "metadata": {}
  },
  {
   "cell_type": "code",
   "execution_count": 71,
   "source": [
    "rhs = sigma * Dxx(u, t) + (1-sigma) * Dxx(u, t+tau)\n",
    "pprint(rhs)"
   ],
   "outputs": [
    {
     "output_type": "display_data",
     "data": {
      "text/latex": [
       "$\\displaystyle 0.1 \\left. \\frac{\\partial^{2}}{\\partial \\xi_{1}^{2}} u{\\left (\\xi_{1},t \\right )} \\right|_{\\substack{ \\xi_{1}=x }} + 0.9 \\left. \\frac{\\partial^{2}}{\\partial \\xi_{1}^{2}} u{\\left (\\xi_{1},t + \\tau \\right )} \\right|_{\\substack{ \\xi_{1}=x }} + 0.00833333333333333 h^{2} \\left. \\frac{\\partial^{4}}{\\partial \\xi_{1}^{4}} u{\\left (\\xi_{1},t \\right )} \\right|_{\\substack{ \\xi_{1}=x }} + 0.075 h^{2} \\left. \\frac{\\partial^{4}}{\\partial \\xi_{1}^{4}} u{\\left (\\xi_{1},t + \\tau \\right )} \\right|_{\\substack{ \\xi_{1}=x }} + O\\left(h^{3} + h^{2} x + h x^{2} + x^{3} + \\frac{x^{4}}{h} + \\frac{x^{5}}{h^{2}}; \\left ( h, \\quad x\\right )\\rightarrow \\left ( 0, \\quad 0\\right )\\right)$"
      ],
      "text/plain": [
       "<IPython.core.display.Math object>"
      ]
     },
     "metadata": {}
    }
   ],
   "metadata": {}
  },
  {
   "cell_type": "code",
   "execution_count": 72,
   "source": [
    "pprint(lhs)\n",
    "pprint(rhs)"
   ],
   "outputs": [
    {
     "output_type": "display_data",
     "data": {
      "text/latex": [
       "$\\displaystyle \\left. \\frac{\\partial}{\\partial \\xi_{2}} u{\\left (x,\\xi_{2} \\right )} \\right|_{\\substack{ \\xi_{2}=t }} + \\frac{\\tau \\left. \\frac{\\partial^{2}}{\\partial \\xi_{2}^{2}} u{\\left (x,\\xi_{2} \\right )} \\right|_{\\substack{ \\xi_{2}=t }}}{2} + \\frac{\\tau^{2} \\left. \\frac{\\partial^{3}}{\\partial \\xi_{2}^{3}} u{\\left (x,\\xi_{2} \\right )} \\right|_{\\substack{ \\xi_{2}=t }}}{6} + \\frac{\\tau^{3} \\left. \\frac{\\partial^{4}}{\\partial \\xi_{2}^{4}} u{\\left (x,\\xi_{2} \\right )} \\right|_{\\substack{ \\xi_{2}=t }}}{24} + O\\left(\\frac{t^{5}}{\\tau} + t^{4} + t^{3} \\tau + t^{2} \\tau^{2} + t \\tau^{3} + \\tau^{4}; \\left ( t, \\quad \\tau\\right )\\rightarrow \\left ( 0, \\quad 0\\right )\\right)$"
      ],
      "text/plain": [
       "<IPython.core.display.Math object>"
      ]
     },
     "metadata": {}
    },
    {
     "output_type": "display_data",
     "data": {
      "text/latex": [
       "$\\displaystyle 0.1 \\left. \\frac{\\partial^{2}}{\\partial \\xi_{1}^{2}} u{\\left (\\xi_{1},t \\right )} \\right|_{\\substack{ \\xi_{1}=x }} + 0.9 \\left. \\frac{\\partial^{2}}{\\partial \\xi_{1}^{2}} u{\\left (\\xi_{1},t + \\tau \\right )} \\right|_{\\substack{ \\xi_{1}=x }} + 0.00833333333333333 h^{2} \\left. \\frac{\\partial^{4}}{\\partial \\xi_{1}^{4}} u{\\left (\\xi_{1},t \\right )} \\right|_{\\substack{ \\xi_{1}=x }} + 0.075 h^{2} \\left. \\frac{\\partial^{4}}{\\partial \\xi_{1}^{4}} u{\\left (\\xi_{1},t + \\tau \\right )} \\right|_{\\substack{ \\xi_{1}=x }} + O\\left(h^{3} + h^{2} x + h x^{2} + x^{3} + \\frac{x^{4}}{h} + \\frac{x^{5}}{h^{2}}; \\left ( h, \\quad x\\right )\\rightarrow \\left ( 0, \\quad 0\\right )\\right)$"
      ],
      "text/plain": [
       "<IPython.core.display.Math object>"
      ]
     },
     "metadata": {}
    }
   ],
   "metadata": {}
  },
  {
   "cell_type": "code",
   "execution_count": 87,
   "source": [
    "def time_approx(u, T):\n",
    "    t0 = symbols('t_0')\n",
    "\n",
    "    expr = u(x, t+tau/2).series(T, x0 = t0+tau, n=5)\n",
    "    # expr = expr.subs(t-t0, 0).subs(t0, t)\n",
    "    return expr\n",
    "\n",
    "pprint(time_approx(u, t + tau))"
   ],
   "outputs": [
    {
     "output_type": "display_data",
     "data": {
      "text/latex": [
       "$\\displaystyle u{\\left (x,t + \\frac{\\tau}{2} \\right )}$"
      ],
      "text/plain": [
       "<IPython.core.display.Math object>"
      ]
     },
     "metadata": {}
    }
   ],
   "metadata": {}
  },
  {
   "cell_type": "code",
   "execution_count": null,
   "source": [],
   "outputs": [],
   "metadata": {}
  },
  {
   "cell_type": "code",
   "execution_count": null,
   "source": [],
   "outputs": [],
   "metadata": {}
  },
  {
   "cell_type": "code",
   "execution_count": null,
   "source": [],
   "outputs": [],
   "metadata": {}
  },
  {
   "cell_type": "code",
   "execution_count": null,
   "source": [],
   "outputs": [],
   "metadata": {}
  },
  {
   "cell_type": "code",
   "execution_count": null,
   "source": [],
   "outputs": [],
   "metadata": {}
  },
  {
   "cell_type": "code",
   "execution_count": null,
   "source": [],
   "outputs": [],
   "metadata": {}
  },
  {
   "cell_type": "code",
   "execution_count": null,
   "source": [],
   "outputs": [],
   "metadata": {}
  },
  {
   "cell_type": "code",
   "execution_count": 49,
   "source": [
    "# t0 = symbols('t_0')\n",
    "\n",
    "# E1 = u(x, t+tau).series(t+tau, x0=t0, n=5)\n",
    "# E1 = E1.subs(t-t0, 0).subs(t0, t)\n",
    "\n",
    "# pprint(E1)\n",
    "\n",
    "# t0 = symbols('t_0')\n",
    "\n",
    "# E2 = u(x, t-tau).series(t-tau, x0=t0, n=5)\n",
    "# E2 = E2.subs(t-t0, 0).subs(t0, t)\n",
    "\n",
    "# pprint(E2)"
   ],
   "outputs": [
    {
     "output_type": "display_data",
     "data": {
      "text/latex": [
       "$\\displaystyle u{\\left (x,t \\right )} + \\tau \\left. \\frac{\\partial}{\\partial \\xi_{2}} u{\\left (x,\\xi_{2} \\right )} \\right|_{\\substack{ \\xi_{2}=t }} + \\frac{\\tau^{2} \\left. \\frac{\\partial^{2}}{\\partial \\xi_{2}^{2}} u{\\left (x,\\xi_{2} \\right )} \\right|_{\\substack{ \\xi_{2}=t }}}{2} + \\frac{\\tau^{3} \\left. \\frac{\\partial^{3}}{\\partial \\xi_{2}^{3}} u{\\left (x,\\xi_{2} \\right )} \\right|_{\\substack{ \\xi_{2}=t }}}{6} + \\frac{\\tau^{4} \\left. \\frac{\\partial^{4}}{\\partial \\xi_{2}^{4}} u{\\left (x,\\xi_{2} \\right )} \\right|_{\\substack{ \\xi_{2}=t }}}{24} + O\\left(t^{5} + t^{4} \\tau + t^{3} \\tau^{2} + t^{2} \\tau^{3} + t \\tau^{4} + \\tau^{5}; \\left ( t, \\quad \\tau\\right )\\rightarrow \\left ( 0, \\quad 0\\right )\\right)$"
      ],
      "text/plain": [
       "<IPython.core.display.Math object>"
      ]
     },
     "metadata": {}
    },
    {
     "output_type": "display_data",
     "data": {
      "text/latex": [
       "$\\displaystyle u{\\left (x,t \\right )} - \\tau \\left. \\frac{\\partial}{\\partial \\xi_{2}} u{\\left (x,\\xi_{2} \\right )} \\right|_{\\substack{ \\xi_{2}=t }} + \\frac{\\tau^{2} \\left. \\frac{\\partial^{2}}{\\partial \\xi_{2}^{2}} u{\\left (x,\\xi_{2} \\right )} \\right|_{\\substack{ \\xi_{2}=t }}}{2} - \\frac{\\tau^{3} \\left. \\frac{\\partial^{3}}{\\partial \\xi_{2}^{3}} u{\\left (x,\\xi_{2} \\right )} \\right|_{\\substack{ \\xi_{2}=t }}}{6} + \\frac{\\tau^{4} \\left. \\frac{\\partial^{4}}{\\partial \\xi_{2}^{4}} u{\\left (x,\\xi_{2} \\right )} \\right|_{\\substack{ \\xi_{2}=t }}}{24} + O\\left(t^{5} + t^{4} \\tau + t^{3} \\tau^{2} + t^{2} \\tau^{3} + t \\tau^{4} + \\tau^{5}; \\left ( t, \\quad \\tau\\right )\\rightarrow \\left ( 0, \\quad 0\\right )\\right)$"
      ],
      "text/plain": [
       "<IPython.core.display.Math object>"
      ]
     },
     "metadata": {}
    }
   ],
   "metadata": {}
  },
  {
   "cell_type": "code",
   "execution_count": 24,
   "source": [
    "# f = Function('f')\n",
    "# x0 = symbols('x_0')\n",
    "\n",
    "# FW = f(x+h).series(x+h, x0=x0, n=3)\n",
    "# FW = FW.subs(x-x0,0).subs(x0, x)\n",
    "\n",
    "# display(Math(latex(FW)))"
   ],
   "outputs": [
    {
     "output_type": "display_data",
     "data": {
      "text/latex": [
       "$\\displaystyle f{\\left (x \\right )} + h \\left. \\frac{d}{d \\xi_{1}} f{\\left (\\xi_{1} \\right )} \\right|_{\\substack{ \\xi_{1}=x }} + \\frac{h^{2} \\left. \\frac{d^{2}}{d \\xi_{1}^{2}} f{\\left (\\xi_{1} \\right )} \\right|_{\\substack{ \\xi_{1}=x }}}{2} + O\\left(h^{3} + h^{2} x + h x^{2} + x^{3}; \\left ( h, \\quad x\\right )\\rightarrow \\left ( 0, \\quad 0\\right )\\right)$"
      ],
      "text/plain": [
       "<IPython.core.display.Math object>"
      ]
     },
     "metadata": {}
    }
   ],
   "metadata": {}
  },
  {
   "cell_type": "code",
   "execution_count": null,
   "source": [],
   "outputs": [],
   "metadata": {}
  },
  {
   "cell_type": "code",
   "execution_count": null,
   "source": [],
   "outputs": [],
   "metadata": {}
  },
  {
   "cell_type": "code",
   "execution_count": null,
   "source": [],
   "outputs": [],
   "metadata": {}
  }
 ],
 "metadata": {
  "orig_nbformat": 4,
  "language_info": {
   "name": "python",
   "version": "3.9.4",
   "mimetype": "text/x-python",
   "codemirror_mode": {
    "name": "ipython",
    "version": 3
   },
   "pygments_lexer": "ipython3",
   "nbconvert_exporter": "python",
   "file_extension": ".py"
  },
  "kernelspec": {
   "name": "python3",
   "display_name": "Python 3.9.4 64-bit"
  },
  "interpreter": {
   "hash": "aee8b7b246df8f9039afb4144a1f6fd8d2ca17a180786b69acc140d282b71a49"
  }
 },
 "nbformat": 4,
 "nbformat_minor": 2
}