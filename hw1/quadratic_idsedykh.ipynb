{
 "cells": [
  {
   "cell_type": "markdown",
   "metadata": {},
   "source": [
    "Before you turn this problem in, make sure everything runs as expected. First, **restart the kernel** (in the menubar, select Kernel$\\rightarrow$Restart) and then **run all cells** (in the menubar, select Cell$\\rightarrow$Run All).\n",
    "\n",
    "Make sure you fill in any place that says `YOUR CODE HERE` or \"YOUR ANSWER HERE\", as well as your name and collaborators below:"
   ]
  },
  {
   "cell_type": "code",
   "execution_count": 1,
   "metadata": {},
   "outputs": [],
   "source": [
    "NAME = \"Sedykh Ivan\"\n",
    "COLLABORATORS = \"\""
   ]
  },
  {
   "cell_type": "markdown",
   "metadata": {},
   "source": [
    "---"
   ]
  },
  {
   "cell_type": "markdown",
   "metadata": {
    "deletable": false,
    "editable": false,
    "nbgrader": {
     "cell_type": "markdown",
     "checksum": "74073e87d382d0355e85faeba52e8453",
     "grade": false,
     "grade_id": "cell-eb39a9ff603592f6",
     "locked": true,
     "schema_version": 3,
     "solution": false
    }
   },
   "source": [
    "Write a function which solves a quadratic equation, $x^2 + b x + c = 0$. Your function must receive two values for coefficients and return two real or complex roots. Always return two roots, even if the equation has a single double root. "
   ]
  },
  {
   "cell_type": "code",
   "execution_count": 21,
   "metadata": {
    "deletable": false,
    "nbgrader": {
     "cell_type": "code",
     "checksum": "60c2d35c9cce948edb2dca582d5f63b5",
     "grade": false,
     "grade_id": "cell-2032efc64a327acc",
     "locked": false,
     "schema_version": 3,
     "solution": true
    }
   },
   "outputs": [],
   "source": [
    "from math import sqrt, copysign\n",
    "from cmath import sqrt as c_sqrt\n",
    "\n",
    "def solve_quad(b, c):\n",
    "    ''' Parameters\n",
    "    ----------\n",
    "    b, c : float\n",
    "       Coefficients\n",
    "       \n",
    "    Returns\n",
    "    -------\n",
    "    x1, x2 : float or complex\n",
    "        Roots.\n",
    "    '''\n",
    "    D = b**2 - 4*c\n",
    "    # sign function is used to avoid catastropic cancellation\n",
    "    # when b = sqrt(b^2- 4c)\n",
    "    x1 = (-b - copysign(1, b) * c_sqrt(D)) / 2\n",
    "    if c == 0:\n",
    "        x2 = 0\n",
    "    else:\n",
    "        x2 = c / x1\n",
    "\n",
    "    return x1, x2"
   ]
  },
  {
   "cell_type": "code",
   "execution_count": 22,
   "metadata": {
    "deletable": false,
    "editable": false,
    "nbgrader": {
     "cell_type": "code",
     "checksum": "cba52b9e7e77f925b1f2fb3334a99b92",
     "grade": true,
     "grade_id": "cell-89cf7badb387b0e0",
     "locked": true,
     "points": 5,
     "schema_version": 3,
     "solution": false
    }
   },
   "outputs": [],
   "source": [
    "#\n",
    "# Your implementation should pass tests in this cell.\n",
    "#\n",
    "# Do not remove or alter this cell. You may run it, but do not remove or alter it.\n",
    "# Your changes to this cell will be ignored on grading.\n",
    "# There will be additional tests.\n",
    "#\n",
    "from numpy.testing import assert_allclose\n",
    "\n",
    "variants = [{'b': 4.0, 'c': 3.0},\n",
    "            {'b': 2.0, 'c': 1.0},\n",
    "            {'b': 0.5, 'c': 4.0},\n",
    "            {'b': 1e10, 'c': 3.0},\n",
    "           ]\n",
    "\n",
    "for var in variants:\n",
    "    x1, x2 = solve_quad(**var)\n",
    "    assert_allclose(x1*x2, var['c'], rtol=1e-15)"
   ]
  },
  {
   "cell_type": "code",
   "execution_count": null,
   "metadata": {
    "deletable": false,
    "editable": false,
    "nbgrader": {
     "cell_type": "code",
     "checksum": "5b5fc0da6dc8c015736ff9e557a54fd9",
     "grade": true,
     "grade_id": "cell-0970e4298cb77486",
     "locked": true,
     "points": 5,
     "schema_version": 3,
     "solution": false,
     "task": false
    }
   },
   "outputs": [],
   "source": []
  }
 ],
 "metadata": {
  "kernelspec": {
   "name": "python3",
   "display_name": "Python 3.9.1 64-bit",
   "metadata": {
    "interpreter": {
     "hash": "aee8b7b246df8f9039afb4144a1f6fd8d2ca17a180786b69acc140d282b71a49"
    }
   }
  },
  "language_info": {
   "codemirror_mode": {
    "name": "ipython",
    "version": 3
   },
   "file_extension": ".py",
   "mimetype": "text/x-python",
   "name": "python",
   "nbconvert_exporter": "python",
   "pygments_lexer": "ipython3",
   "version": "3.9.1-final"
  }
 },
 "nbformat": 4,
 "nbformat_minor": 2
}