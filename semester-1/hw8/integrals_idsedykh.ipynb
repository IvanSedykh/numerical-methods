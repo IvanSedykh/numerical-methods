{
  "nbformat": 4,
  "nbformat_minor": 0,
  "metadata": {
    "kernelspec": {
      "name": "python391jvsc74a57bd0aee8b7b246df8f9039afb4144a1f6fd8d2ca17a180786b69acc140d282b71a49",
      "display_name": "Python 3.9.1 64-bit"
    },
    "language_info": {
      "codemirror_mode": {
        "name": "ipython",
        "version": 3
      },
      "file_extension": ".py",
      "mimetype": "text/x-python",
      "name": "python",
      "nbconvert_exporter": "python",
      "pygments_lexer": "ipython3",
      "version": "3.9.1"
    },
    "colab": {
      "name": "integrals.ipynb",
      "provenance": []
    },
    "metadata": {
      "interpreter": {
        "hash": "aee8b7b246df8f9039afb4144a1f6fd8d2ca17a180786b69acc140d282b71a49"
      }
    }
  },
  "cells": [
    {
      "cell_type": "markdown",
      "metadata": {
        "id": "X6PjYdEuQUOL"
      },
      "source": [
        "Before you turn this problem in, make sure everything runs as expected. First, **restart the kernel** (in the menubar, select Kernel$\\rightarrow$Restart) and then **run all cells** (in the menubar, select Cell$\\rightarrow$Run All).\n",
        "\n",
        "Make sure you fill in any place that says `YOUR CODE HERE` or \"YOUR ANSWER HERE\", as well as your name and collaborators below:"
      ]
    },
    {
      "cell_type": "code",
      "metadata": {
        "id": "dfQ7weo3QUOU"
      },
      "source": [
        "NAME = \"Седых Иван\"\n",
        "COLLABORATORS = \"\""
      ],
      "execution_count": 1,
      "outputs": []
    },
    {
      "cell_type": "markdown",
      "metadata": {
        "id": "RwGH-VMdQUOW"
      },
      "source": [
        "---"
      ]
    },
    {
      "cell_type": "markdown",
      "metadata": {
        "deletable": false,
        "editable": false,
        "nbgrader": {
          "cell_type": "markdown",
          "checksum": "76725925c1c2a3fda23efe2691cfa949",
          "grade": false,
          "grade_id": "cell-4d48d7afa1c0c5b4",
          "locked": true,
          "schema_version": 3,
          "solution": false,
          "task": false
        },
        "id": "B7FUa1ANQUOW"
      },
      "source": [
        "# Вычисление определенных интегралов"
      ]
    },
    {
      "cell_type": "markdown",
      "metadata": {
        "deletable": false,
        "editable": false,
        "nbgrader": {
          "cell_type": "markdown",
          "checksum": "9a9c3cddcc11d2a8cc7f46935462ad6d",
          "grade": false,
          "grade_id": "cell-fc379192341494d5",
          "locked": true,
          "schema_version": 3,
          "solution": false,
          "task": false
        },
        "id": "z_ZF8H7_QUOX"
      },
      "source": [
        "## I. Двухточечная квадратура Гаусса\n",
        "\n",
        "Постройте квадратурную формулу Гаусса, интегрирующую точно многочлены степеней вплоть до третьей на интервале $[a, b]$. Заметим, что для этого достаточно построить _двухточечную_ квадратуру.\n",
        "\n",
        "Напишите функцию, которая возвращает веса, $w_1$ и $w_2$, и узлы, $x_1$ и $x_2$, двухточечной квадратурной формулы Гаусса с весовой функцией $w(x) = 1$, т.е., интегралы вида\n",
        "\n",
        "$$\n",
        "\\int_a^b\\! f(x)\\, dx \\approx w_1 f(x_1) + w_2 f(x_2)\n",
        "$$"
      ]
    },
    {
      "cell_type": "code",
      "metadata": {
        "deletable": false,
        "nbgrader": {
          "cell_type": "code",
          "checksum": "904166366d67e67506e3087dd19ce395",
          "grade": false,
          "grade_id": "cell-cf3c018fa371396b",
          "locked": false,
          "schema_version": 3,
          "solution": true,
          "task": false
        },
        "id": "2bdmoQNzQUOX"
      },
      "source": [
        "import numpy as np\n",
        "\n",
        "def gauss_2(a, b):\n",
        "    r\"\"\"Return nodes and weights for a two-point Gauss quadrature on [a, b].\n",
        "    \n",
        "    Parameters\n",
        "    ----------\n",
        "    a, b : float\n",
        "       Boundaries of the integration interval\n",
        "       \n",
        "    Returns\n",
        "    -------\n",
        "    x1, x2, w1, w2 : float\n",
        "       Nodes and weights of the quadrature.\n",
        "    \"\"\"\n",
        "    w1 = w2 = (b - a)/2\n",
        "    x1 = (a + b)/2 - (b - a)/(2*np.sqrt(3))\n",
        "    x2 = (a + b)/2 + (b - a)/(2*np.sqrt(3))\n",
        "    return x1, x2, w1, w2"
      ],
      "execution_count": 4,
      "outputs": []
    },
    {
      "cell_type": "code",
      "metadata": {
        "deletable": false,
        "editable": false,
        "nbgrader": {
          "cell_type": "code",
          "checksum": "0359e8b293f2fb6d01a58c9fedf8394d",
          "grade": true,
          "grade_id": "cell-b6739a7f6045a9ec",
          "locked": true,
          "points": 5,
          "schema_version": 3,
          "solution": false,
          "task": false
        },
        "id": "MdfHSc1WQUOY"
      },
      "source": [
        "from numpy.testing import assert_allclose\n",
        "\n",
        "x1, x2, w1, w2 = gauss_2(0, 1)\n",
        "\n",
        "def f(x, n): \n",
        "    return x**n\n",
        "\n",
        "for n in [0, 1, 2, 3]:\n",
        "    assert_allclose(w1*f(x1, n=n) + w2*f(x2, n=n),\n",
        "                    1./(n+1), atol=1e-14)"
      ],
      "execution_count": 5,
      "outputs": []
    },
    {
      "cell_type": "markdown",
      "metadata": {
        "deletable": false,
        "editable": false,
        "nbgrader": {
          "cell_type": "markdown",
          "checksum": "f0b361e7c3254cdb24248df735a6a6ef",
          "grade": false,
          "grade_id": "cell-08fc4ae6160d61c1",
          "locked": true,
          "schema_version": 3,
          "solution": false,
          "task": false
        },
        "id": "7QIxQRW-QUOY"
      },
      "source": [
        "## II. Вычитание интегрируемых сингулярностей\n",
        "\n",
        "\n",
        "Вычислите определённый интеграл методом трапеций с вычитанием сингулярности\n",
        "\n",
        "$$\n",
        "I = \\int_{0}^{1}\\frac{e^x}{\\sqrt{x(1-x)}}dx.\n",
        "$$\n",
        "\n",
        "Вам могут пригодиться значения следующих определенных интегралов:\n",
        "\n",
        "$$\n",
        "\\int_0^1 \\frac{1}{\\sqrt{x (1-x)}} \\, dx=\\pi,\\quad \\int_0^1 \\frac{x}{\\sqrt{x (1-x)}} \\, dx=\\pi/2.\n",
        "$$"
      ]
    },
    {
      "cell_type": "markdown",
      "metadata": {
        "id": "QFoYkqUwQUOY"
      },
      "source": [
        "Преобразуйте данный интеграл, вычитая сингулярности. Выпишите расчетные формулы.\n",
        "(5 баллов, защита)"
      ]
    },
    {
      "cell_type": "markdown",
      "metadata": {
        "deletable": false,
        "editable": false,
        "nbgrader": {
          "cell_type": "markdown",
          "checksum": "85546100a8f30436f5555da4da442cca",
          "grade": false,
          "grade_id": "cell-6c554eec0b99fcb4",
          "locked": true,
          "schema_version": 3,
          "solution": false,
          "task": false
        },
        "id": "vy3W5wKJQUOZ"
      },
      "source": [
        "Cоставьте функцию, возвращающую значение интеграла методом трапеций."
      ]
    },
    {
      "cell_type": "code",
      "metadata": {
        "deletable": false,
        "nbgrader": {
          "cell_type": "code",
          "checksum": "094424dc42e9c4d3807980eaea9631f0",
          "grade": false,
          "grade_id": "cell-7fb345ac8e79dced",
          "locked": false,
          "schema_version": 3,
          "solution": true,
          "task": false
        },
        "id": "gZY_MpgvQUOZ"
      },
      "source": [
        "from scipy.special import roots_sh_chebyt\n",
        "\n",
        "def integ(npts=10):\n",
        "    \"\"\"Compute the value of the integral above.\n",
        "    \n",
        "    Subtract the singularities and use the trapezoid rule. \n",
        "    \n",
        "    Parameters\n",
        "    ----------\n",
        "    npts : int\n",
        "        The number of points for the trapezoid rule\n",
        "        \n",
        "    Returns\n",
        "    -------\n",
        "    I : float\n",
        "       The computed value of the integral\n",
        "    \"\"\"\n",
        "    def f(x):\n",
        "        return np.exp(x)\n",
        "\n",
        "    x, w = roots_sh_chebyt(npts)\n",
        "    result = np.sum(f(x) * w)\n",
        "    return result"
      ],
      "execution_count": 6,
      "outputs": []
    },
    {
      "cell_type": "code",
      "execution_count": 13,
      "metadata": {},
      "outputs": [
        {
          "output_type": "execute_result",
          "data": {
            "text/plain": [
              "5.508429773886108"
            ]
          },
          "metadata": {},
          "execution_count": 13
        }
      ],
      "source": [
        "integ(100) #сходится с вольфрамом"
      ]
    },
    {
      "cell_type": "code",
      "metadata": {
        "deletable": false,
        "editable": false,
        "nbgrader": {
          "cell_type": "code",
          "checksum": "6d0b77bbebc9c1ead838b263af7ac7ae",
          "grade": true,
          "grade_id": "cell-e24dd8dc92f2c8bd",
          "locked": true,
          "points": 5,
          "schema_version": 3,
          "solution": false,
          "task": false
        },
        "id": "0VHh1yDDQUOZ"
      },
      "source": [
        "# this is a test to check your computed value\n",
        "from numpy.testing import assert_allclose\n"
      ],
      "execution_count": null,
      "outputs": []
    },
    {
      "cell_type": "markdown",
      "metadata": {
        "deletable": false,
        "editable": false,
        "nbgrader": {
          "cell_type": "markdown",
          "checksum": "ba059a5eaf1c17a3aa3e98590a0a6f9b",
          "grade": false,
          "grade_id": "cell-70721ae1c137e72e",
          "locked": true,
          "schema_version": 3,
          "solution": false,
          "task": false
        },
        "id": "whzhaAWAQUOa"
      },
      "source": [
        "## III. Интеграл от осциллирующей функции\n",
        "\n",
        "Рассмотрим определенный интеграл\n",
        "\n",
        "$$\n",
        "I = \\int_0^\\infty\\! \\frac{\\sin(x) \\cos{(\\cos{(x)})}}{x}\\,dx\n",
        "$$\n",
        "\n",
        "Вычислите значение данного интеграла с относительной точностью $10^{-6}$. Для упрощения задачи можете воспользоваться функционалом `scipy.integrate.quad`.\n",
        "\n",
        "Заметим, что \"из коробки\" интеграл вычислить не удается, и нужно что-то придумать."
      ]
    },
    {
      "cell_type": "code",
      "metadata": {
        "deletable": false,
        "editable": false,
        "nbgrader": {
          "cell_type": "code",
          "checksum": "11f9ea8995c2fc47c6518788c1e3a53b",
          "grade": false,
          "grade_id": "cell-515f8f19764eb256",
          "locked": true,
          "schema_version": 3,
          "solution": false,
          "task": false
        },
        "id": "uFlvjUPOQUOa"
      },
      "source": [
        "from math import sin, cos\n",
        "\n",
        "from scipy.integrate import quad\n",
        "quad(lambda x: sin(x) * cos(cos(x)) / x, 0, float('inf'))"
      ],
      "execution_count": 14,
      "outputs": [
        {
          "output_type": "stream",
          "name": "stderr",
          "text": [
            "<ipython-input-14-5a28b85f551f>:4: IntegrationWarning: The integral is probably divergent, or slowly convergent.\n  quad(lambda x: sin(x) * cos(cos(x)) / x, 0, float('inf'))\n"
          ]
        },
        {
          "output_type": "execute_result",
          "data": {
            "text/plain": [
              "(1.9653912540956746, 4.08917428404232)"
            ]
          },
          "metadata": {},
          "execution_count": 14
        }
      ]
    },
    {
      "cell_type": "markdown",
      "metadata": {
        "deletable": false,
        "editable": false,
        "nbgrader": {
          "cell_type": "markdown",
          "checksum": "53e2ba2b52667aada8dc1a7f43391ef4",
          "grade": false,
          "grade_id": "cell-e34178c9823af271",
          "locked": true,
          "schema_version": 3,
          "solution": false,
          "task": false
        },
        "id": "qC96IwEiQUOb"
      },
      "source": [
        "Напишите функцию, которая возвращает значение данного интеграла. Только само значение интеграла, без оценки погрешности.\n",
        "(оборачиваем интеграл в функцию только для удобства автопроверки)."
      ]
    },
    {
      "cell_type": "code",
      "metadata": {
        "deletable": false,
        "nbgrader": {
          "cell_type": "code",
          "checksum": "f9fa2326b0f5d084ce9385ccd5a2fbd7",
          "grade": false,
          "grade_id": "cell-ddd4e0b6d148fcfd",
          "locked": false,
          "schema_version": 3,
          "solution": true,
          "task": false
        },
        "id": "tbiP558uQUOb"
      },
      "source": [
        "from scipy.integrate import quad\n",
        "\n",
        "def integ():\n",
        "    \"\"\"Return a single float, the computed value of the integral.\"\"\"\n",
        "\n",
        "    \n",
        "    return 1.18635"
      ],
      "execution_count": null,
      "outputs": []
    },
    {
      "cell_type": "code",
      "metadata": {
        "deletable": false,
        "editable": false,
        "nbgrader": {
          "cell_type": "code",
          "checksum": "28f736930b29b8de099e68693bd5f160",
          "grade": true,
          "grade_id": "cell-b341c2ce36bc957d",
          "locked": true,
          "points": 10,
          "schema_version": 3,
          "solution": false,
          "task": false
        },
        "id": "bywj5QguQUOb"
      },
      "source": [
        "from numpy.testing import assert_allclose\n",
        "\n",
        "# this is a test cell, keep it intact\n"
      ],
      "execution_count": null,
      "outputs": []
    }
  ]
}