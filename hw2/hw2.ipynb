{
 "metadata": {
  "language_info": {
   "codemirror_mode": {
    "name": "ipython",
    "version": 3
   },
   "file_extension": ".py",
   "mimetype": "text/x-python",
   "name": "python",
   "nbconvert_exporter": "python",
   "pygments_lexer": "ipython3",
   "version": "3.9.1-final"
  },
  "orig_nbformat": 2,
  "kernelspec": {
   "name": "python3",
   "display_name": "Python 3.9.1 64-bit",
   "metadata": {
    "interpreter": {
     "hash": "a8e73444cd85779debfbed2ff850992c15fb63378866812fd7bb614c3cbdab4a"
    }
   }
  }
 },
 "nbformat": 4,
 "nbformat_minor": 2,
 "cells": [
  {
   "source": [
    "Седых Иван Дмитриевич БПМ181"
   ],
   "cell_type": "markdown",
   "metadata": {}
  },
  {
   "cell_type": "code",
   "execution_count": 339,
   "metadata": {},
   "outputs": [],
   "source": [
    "import math\n",
    "\n",
    "import numpy as np\n",
    "import sympy as sym\n",
    "from scipy import odr\n",
    "from matplotlib import pyplot as plt\n",
    "import tqdm\n",
    "import seaborn as sns\n",
    "\n",
    "\n",
    "plt.style.use('ggplot')"
   ]
  },
  {
   "source": [
    "---\n",
    "## Task 3"
   ],
   "cell_type": "markdown",
   "metadata": {}
  },
  {
   "source": [
    "[Threften Bau book](https://mseas.mit.edu/group/References/Books/Trefethen_Bau%20-%20Numerical%20Linear%20Algebra.pdf)  \n",
    "[code](https://hadrienj.github.io/posts/Deep-Learning-Book-Series-2.8-Singular-Value-Decomposition/)"
   ],
   "cell_type": "markdown",
   "metadata": {}
  },
  {
   "cell_type": "code",
   "execution_count": 479,
   "metadata": {},
   "outputs": [],
   "source": [
    "def plot_svd_vectors(A):\n",
    "    U, s, V = np.linalg.svd(A, full_matrices=False)\n",
    "\n",
    "    fig, (ax1, ax2) = plt.subplots(2, 1, figsize=(8,12))\n",
    "    ax1.axis('equal')\n",
    "    ax2.axis('equal')\n",
    "\n",
    "    # plot circle\n",
    "    x = np.linspace(-1, 1, 1000)\n",
    "    y = np.sqrt(1 - x ** 2)\n",
    "    color1 = '#1190FF'\n",
    "    ax1.plot(x, y, c=color1)\n",
    "    ax1.plot(x, -y, c=color1)\n",
    "    # draw right singular vectors\n",
    "    origin = np.zeros_like(V.T)\n",
    "    ax1.quiver(*origin, V[0], V[1], scale_units='xy', scale=1, color=color1)\n",
    "    ax1.text(*0.5 * V[:, 0], r\"$\\vec{v_1}$\", color=color1, size=15)\n",
    "    ax1.text(*0.5 * V[:, 1], r\"$\\vec{v_2}$\", color=color1, size=15)\n",
    "\n",
    "    # make transformation and plot ellipse\n",
    "    color2 = '#FF9A13'\n",
    "    x, y = A[:2] @ np.array([x, y])\n",
    "    ax2.plot(x, y, color=color2)\n",
    "    ax2.plot(-x, -y, color=color2)\n",
    "    # plot left singluar vectors\n",
    "    US = U * s # multiply by singuar values to stretch\n",
    "    origin = np.zeros((2,2))\n",
    "    ax2.quiver(*origin, US[0], US[1], scale_units='xy', scale=1, color=color2)\n",
    "    ax2.text(*0.5 * US[:2, 0], r\"$\\vec{\\sigma_1 u_1}$\", color=color2, size=15)\n",
    "    ax2.text(*0.5 * US[:2, 1], r\"$\\vec{\\sigma_2 u_2}$\", color=color2, size=15)\n",
    "\n",
    "    fig.show()"
   ]
  },
  {
   "cell_type": "code",
   "execution_count": 481,
   "metadata": {},
   "outputs": [
    {
     "output_type": "display_data",
     "data": {
      "text/plain": "<Figure size 576x864 with 2 Axes>",
      "image/svg+xml": "<?xml version=\"1.0\" encoding=\"utf-8\" standalone=\"no\"?>\n<!DOCTYPE svg PUBLIC \"-//W3C//DTD SVG 1.1//EN\"\n  \"http://www.w3.org/Graphics/SVG/1.1/DTD/svg11.dtd\">\n<!-- Created with matplotlib (https://matplotlib.org/) -->\n<svg height=\"683.398125pt\" version=\"1.1\" viewBox=\"0 0 498.445312 683.398125\" width=\"498.445312pt\" xmlns=\"http://www.w3.org/2000/svg\" xmlns:xlink=\"http://www.w3.org/1999/xlink\">\n <metadata>\n  <rdf:RDF xmlns:cc=\"http://creativecommons.org/ns#\" xmlns:dc=\"http://purl.org/dc/elements/1.1/\" xmlns:rdf=\"http://www.w3.org/1999/02/22-rdf-syntax-ns#\">\n   <cc:Work>\n    <dc:type rdf:resource=\"http://purl.org/dc/dcmitype/StillImage\"/>\n    <dc:date>2021-01-25T17:05:22.420629</dc:date>\n    <dc:format>image/svg+xml</dc:format>\n    <dc:creator>\n     <cc:Agent>\n      <dc:title>Matplotlib v3.3.3, https://matplotlib.org/</dc:title>\n     </cc:Agent>\n    </dc:creator>\n   </cc:Work>\n  </rdf:RDF>\n </metadata>\n <defs>\n  <style type=\"text/css\">*{stroke-linecap:butt;stroke-linejoin:round;}</style>\n </defs>\n <g id=\"figure_1\">\n  <g id=\"patch_1\">\n   <path d=\"M 0 683.398125 \nL 498.445312 683.398125 \nL 498.445312 -0 \nL 0 -0 \nz\n\" style=\"fill:#ffffff;\"/>\n  </g>\n  <g id=\"axes_1\">\n   <g id=\"patch_2\">\n    <path d=\"M 44.845313 303.709091 \nL 491.245312 303.709091 \nL 491.245312 7.2 \nL 44.845313 7.2 \nz\n\" style=\"fill:#e5e5e5;\"/>\n   </g>\n   <g id=\"matplotlib.axis_1\">\n    <g id=\"xtick_1\">\n     <g id=\"line2d_1\">\n      <path clip-path=\"url(#p6c64d6d827)\" d=\"M 65.879922 303.709091 \nL 65.879922 7.2 \n\" style=\"fill:none;stroke:#ffffff;stroke-linecap:square;stroke-width:0.8;\"/>\n     </g>\n     <g id=\"line2d_2\">\n      <defs>\n       <path d=\"M 0 0 \nL 0 3.5 \n\" id=\"mb4a16b3b9d\" style=\"stroke:#555555;stroke-width:0.8;\"/>\n      </defs>\n      <g>\n       <use style=\"fill:#555555;stroke:#555555;stroke-width:0.8;\" x=\"65.879922\" xlink:href=\"#mb4a16b3b9d\" y=\"303.709091\"/>\n      </g>\n     </g>\n     <g id=\"text_1\">\n      <!-- −1.5 -->\n      <g style=\"fill:#555555;\" transform=\"translate(53.738516 318.307528)scale(0.1 -0.1)\">\n       <defs>\n        <path d=\"M 10.59375 35.5 \nL 73.1875 35.5 \nL 73.1875 27.203125 \nL 10.59375 27.203125 \nz\n\" id=\"DejaVuSans-8722\"/>\n        <path d=\"M 12.40625 8.296875 \nL 28.515625 8.296875 \nL 28.515625 63.921875 \nL 10.984375 60.40625 \nL 10.984375 69.390625 \nL 28.421875 72.90625 \nL 38.28125 72.90625 \nL 38.28125 8.296875 \nL 54.390625 8.296875 \nL 54.390625 0 \nL 12.40625 0 \nz\n\" id=\"DejaVuSans-49\"/>\n        <path d=\"M 10.6875 12.40625 \nL 21 12.40625 \nL 21 0 \nL 10.6875 0 \nz\n\" id=\"DejaVuSans-46\"/>\n        <path d=\"M 10.796875 72.90625 \nL 49.515625 72.90625 \nL 49.515625 64.59375 \nL 19.828125 64.59375 \nL 19.828125 46.734375 \nQ 21.96875 47.46875 24.109375 47.828125 \nQ 26.265625 48.1875 28.421875 48.1875 \nQ 40.625 48.1875 47.75 41.5 \nQ 54.890625 34.8125 54.890625 23.390625 \nQ 54.890625 11.625 47.5625 5.09375 \nQ 40.234375 -1.421875 26.90625 -1.421875 \nQ 22.3125 -1.421875 17.546875 -0.640625 \nQ 12.796875 0.140625 7.71875 1.703125 \nL 7.71875 11.625 \nQ 12.109375 9.234375 16.796875 8.0625 \nQ 21.484375 6.890625 26.703125 6.890625 \nQ 35.15625 6.890625 40.078125 11.328125 \nQ 45.015625 15.765625 45.015625 23.390625 \nQ 45.015625 31 40.078125 35.4375 \nQ 35.15625 39.890625 26.703125 39.890625 \nQ 22.75 39.890625 18.8125 39.015625 \nQ 14.890625 38.140625 10.796875 36.28125 \nz\n\" id=\"DejaVuSans-53\"/>\n       </defs>\n       <use xlink:href=\"#DejaVuSans-8722\"/>\n       <use x=\"83.789062\" xlink:href=\"#DejaVuSans-49\"/>\n       <use x=\"147.412109\" xlink:href=\"#DejaVuSans-46\"/>\n       <use x=\"179.199219\" xlink:href=\"#DejaVuSans-53\"/>\n      </g>\n     </g>\n    </g>\n    <g id=\"xtick_2\">\n     <g id=\"line2d_3\">\n      <path clip-path=\"url(#p6c64d6d827)\" d=\"M 133.268385 303.709091 \nL 133.268385 7.2 \n\" style=\"fill:none;stroke:#ffffff;stroke-linecap:square;stroke-width:0.8;\"/>\n     </g>\n     <g id=\"line2d_4\">\n      <g>\n       <use style=\"fill:#555555;stroke:#555555;stroke-width:0.8;\" x=\"133.268385\" xlink:href=\"#mb4a16b3b9d\" y=\"303.709091\"/>\n      </g>\n     </g>\n     <g id=\"text_2\">\n      <!-- −1.0 -->\n      <g style=\"fill:#555555;\" transform=\"translate(121.126979 318.307528)scale(0.1 -0.1)\">\n       <defs>\n        <path d=\"M 31.78125 66.40625 \nQ 24.171875 66.40625 20.328125 58.90625 \nQ 16.5 51.421875 16.5 36.375 \nQ 16.5 21.390625 20.328125 13.890625 \nQ 24.171875 6.390625 31.78125 6.390625 \nQ 39.453125 6.390625 43.28125 13.890625 \nQ 47.125 21.390625 47.125 36.375 \nQ 47.125 51.421875 43.28125 58.90625 \nQ 39.453125 66.40625 31.78125 66.40625 \nz\nM 31.78125 74.21875 \nQ 44.046875 74.21875 50.515625 64.515625 \nQ 56.984375 54.828125 56.984375 36.375 \nQ 56.984375 17.96875 50.515625 8.265625 \nQ 44.046875 -1.421875 31.78125 -1.421875 \nQ 19.53125 -1.421875 13.0625 8.265625 \nQ 6.59375 17.96875 6.59375 36.375 \nQ 6.59375 54.828125 13.0625 64.515625 \nQ 19.53125 74.21875 31.78125 74.21875 \nz\n\" id=\"DejaVuSans-48\"/>\n       </defs>\n       <use xlink:href=\"#DejaVuSans-8722\"/>\n       <use x=\"83.789062\" xlink:href=\"#DejaVuSans-49\"/>\n       <use x=\"147.412109\" xlink:href=\"#DejaVuSans-46\"/>\n       <use x=\"179.199219\" xlink:href=\"#DejaVuSans-48\"/>\n      </g>\n     </g>\n    </g>\n    <g id=\"xtick_3\">\n     <g id=\"line2d_5\">\n      <path clip-path=\"url(#p6c64d6d827)\" d=\"M 200.656849 303.709091 \nL 200.656849 7.2 \n\" style=\"fill:none;stroke:#ffffff;stroke-linecap:square;stroke-width:0.8;\"/>\n     </g>\n     <g id=\"line2d_6\">\n      <g>\n       <use style=\"fill:#555555;stroke:#555555;stroke-width:0.8;\" x=\"200.656849\" xlink:href=\"#mb4a16b3b9d\" y=\"303.709091\"/>\n      </g>\n     </g>\n     <g id=\"text_3\">\n      <!-- −0.5 -->\n      <g style=\"fill:#555555;\" transform=\"translate(188.515443 318.307528)scale(0.1 -0.1)\">\n       <use xlink:href=\"#DejaVuSans-8722\"/>\n       <use x=\"83.789062\" xlink:href=\"#DejaVuSans-48\"/>\n       <use x=\"147.412109\" xlink:href=\"#DejaVuSans-46\"/>\n       <use x=\"179.199219\" xlink:href=\"#DejaVuSans-53\"/>\n      </g>\n     </g>\n    </g>\n    <g id=\"xtick_4\">\n     <g id=\"line2d_7\">\n      <path clip-path=\"url(#p6c64d6d827)\" d=\"M 268.045313 303.709091 \nL 268.045313 7.2 \n\" style=\"fill:none;stroke:#ffffff;stroke-linecap:square;stroke-width:0.8;\"/>\n     </g>\n     <g id=\"line2d_8\">\n      <g>\n       <use style=\"fill:#555555;stroke:#555555;stroke-width:0.8;\" x=\"268.045313\" xlink:href=\"#mb4a16b3b9d\" y=\"303.709091\"/>\n      </g>\n     </g>\n     <g id=\"text_4\">\n      <!-- 0.0 -->\n      <g style=\"fill:#555555;\" transform=\"translate(260.09375 318.307528)scale(0.1 -0.1)\">\n       <use xlink:href=\"#DejaVuSans-48\"/>\n       <use x=\"63.623047\" xlink:href=\"#DejaVuSans-46\"/>\n       <use x=\"95.410156\" xlink:href=\"#DejaVuSans-48\"/>\n      </g>\n     </g>\n    </g>\n    <g id=\"xtick_5\">\n     <g id=\"line2d_9\">\n      <path clip-path=\"url(#p6c64d6d827)\" d=\"M 335.433776 303.709091 \nL 335.433776 7.2 \n\" style=\"fill:none;stroke:#ffffff;stroke-linecap:square;stroke-width:0.8;\"/>\n     </g>\n     <g id=\"line2d_10\">\n      <g>\n       <use style=\"fill:#555555;stroke:#555555;stroke-width:0.8;\" x=\"335.433776\" xlink:href=\"#mb4a16b3b9d\" y=\"303.709091\"/>\n      </g>\n     </g>\n     <g id=\"text_5\">\n      <!-- 0.5 -->\n      <g style=\"fill:#555555;\" transform=\"translate(327.482214 318.307528)scale(0.1 -0.1)\">\n       <use xlink:href=\"#DejaVuSans-48\"/>\n       <use x=\"63.623047\" xlink:href=\"#DejaVuSans-46\"/>\n       <use x=\"95.410156\" xlink:href=\"#DejaVuSans-53\"/>\n      </g>\n     </g>\n    </g>\n    <g id=\"xtick_6\">\n     <g id=\"line2d_11\">\n      <path clip-path=\"url(#p6c64d6d827)\" d=\"M 402.82224 303.709091 \nL 402.82224 7.2 \n\" style=\"fill:none;stroke:#ffffff;stroke-linecap:square;stroke-width:0.8;\"/>\n     </g>\n     <g id=\"line2d_12\">\n      <g>\n       <use style=\"fill:#555555;stroke:#555555;stroke-width:0.8;\" x=\"402.82224\" xlink:href=\"#mb4a16b3b9d\" y=\"303.709091\"/>\n      </g>\n     </g>\n     <g id=\"text_6\">\n      <!-- 1.0 -->\n      <g style=\"fill:#555555;\" transform=\"translate(394.870677 318.307528)scale(0.1 -0.1)\">\n       <use xlink:href=\"#DejaVuSans-49\"/>\n       <use x=\"63.623047\" xlink:href=\"#DejaVuSans-46\"/>\n       <use x=\"95.410156\" xlink:href=\"#DejaVuSans-48\"/>\n      </g>\n     </g>\n    </g>\n    <g id=\"xtick_7\">\n     <g id=\"line2d_13\">\n      <path clip-path=\"url(#p6c64d6d827)\" d=\"M 470.210703 303.709091 \nL 470.210703 7.2 \n\" style=\"fill:none;stroke:#ffffff;stroke-linecap:square;stroke-width:0.8;\"/>\n     </g>\n     <g id=\"line2d_14\">\n      <g>\n       <use style=\"fill:#555555;stroke:#555555;stroke-width:0.8;\" x=\"470.210703\" xlink:href=\"#mb4a16b3b9d\" y=\"303.709091\"/>\n      </g>\n     </g>\n     <g id=\"text_7\">\n      <!-- 1.5 -->\n      <g style=\"fill:#555555;\" transform=\"translate(462.259141 318.307528)scale(0.1 -0.1)\">\n       <use xlink:href=\"#DejaVuSans-49\"/>\n       <use x=\"63.623047\" xlink:href=\"#DejaVuSans-46\"/>\n       <use x=\"95.410156\" xlink:href=\"#DejaVuSans-53\"/>\n      </g>\n     </g>\n    </g>\n   </g>\n   <g id=\"matplotlib.axis_2\">\n    <g id=\"ytick_1\">\n     <g id=\"line2d_15\">\n      <path clip-path=\"url(#p6c64d6d827)\" d=\"M 44.845313 290.231472 \nL 491.245312 290.231472 \n\" style=\"fill:none;stroke:#ffffff;stroke-linecap:square;stroke-width:0.8;\"/>\n     </g>\n     <g id=\"line2d_16\">\n      <defs>\n       <path d=\"M 0 0 \nL -3.5 0 \n\" id=\"m8931a6c711\" style=\"stroke:#555555;stroke-width:0.8;\"/>\n      </defs>\n      <g>\n       <use style=\"fill:#555555;stroke:#555555;stroke-width:0.8;\" x=\"44.845313\" xlink:href=\"#m8931a6c711\" y=\"290.231472\"/>\n      </g>\n     </g>\n     <g id=\"text_8\">\n      <!-- −1.00 -->\n      <g style=\"fill:#555555;\" transform=\"translate(7.2 294.030691)scale(0.1 -0.1)\">\n       <use xlink:href=\"#DejaVuSans-8722\"/>\n       <use x=\"83.789062\" xlink:href=\"#DejaVuSans-49\"/>\n       <use x=\"147.412109\" xlink:href=\"#DejaVuSans-46\"/>\n       <use x=\"179.199219\" xlink:href=\"#DejaVuSans-48\"/>\n       <use x=\"242.822266\" xlink:href=\"#DejaVuSans-48\"/>\n      </g>\n     </g>\n    </g>\n    <g id=\"ytick_2\">\n     <g id=\"line2d_17\">\n      <path clip-path=\"url(#p6c64d6d827)\" d=\"M 44.845313 256.537241 \nL 491.245312 256.537241 \n\" style=\"fill:none;stroke:#ffffff;stroke-linecap:square;stroke-width:0.8;\"/>\n     </g>\n     <g id=\"line2d_18\">\n      <g>\n       <use style=\"fill:#555555;stroke:#555555;stroke-width:0.8;\" x=\"44.845313\" xlink:href=\"#m8931a6c711\" y=\"256.537241\"/>\n      </g>\n     </g>\n     <g id=\"text_9\">\n      <!-- −0.75 -->\n      <g style=\"fill:#555555;\" transform=\"translate(7.2 260.336459)scale(0.1 -0.1)\">\n       <defs>\n        <path d=\"M 8.203125 72.90625 \nL 55.078125 72.90625 \nL 55.078125 68.703125 \nL 28.609375 0 \nL 18.3125 0 \nL 43.21875 64.59375 \nL 8.203125 64.59375 \nz\n\" id=\"DejaVuSans-55\"/>\n       </defs>\n       <use xlink:href=\"#DejaVuSans-8722\"/>\n       <use x=\"83.789062\" xlink:href=\"#DejaVuSans-48\"/>\n       <use x=\"147.412109\" xlink:href=\"#DejaVuSans-46\"/>\n       <use x=\"179.199219\" xlink:href=\"#DejaVuSans-55\"/>\n       <use x=\"242.822266\" xlink:href=\"#DejaVuSans-53\"/>\n      </g>\n     </g>\n    </g>\n    <g id=\"ytick_3\">\n     <g id=\"line2d_19\">\n      <path clip-path=\"url(#p6c64d6d827)\" d=\"M 44.845313 222.843009 \nL 491.245312 222.843009 \n\" style=\"fill:none;stroke:#ffffff;stroke-linecap:square;stroke-width:0.8;\"/>\n     </g>\n     <g id=\"line2d_20\">\n      <g>\n       <use style=\"fill:#555555;stroke:#555555;stroke-width:0.8;\" x=\"44.845313\" xlink:href=\"#m8931a6c711\" y=\"222.843009\"/>\n      </g>\n     </g>\n     <g id=\"text_10\">\n      <!-- −0.50 -->\n      <g style=\"fill:#555555;\" transform=\"translate(7.2 226.642228)scale(0.1 -0.1)\">\n       <use xlink:href=\"#DejaVuSans-8722\"/>\n       <use x=\"83.789062\" xlink:href=\"#DejaVuSans-48\"/>\n       <use x=\"147.412109\" xlink:href=\"#DejaVuSans-46\"/>\n       <use x=\"179.199219\" xlink:href=\"#DejaVuSans-53\"/>\n       <use x=\"242.822266\" xlink:href=\"#DejaVuSans-48\"/>\n      </g>\n     </g>\n    </g>\n    <g id=\"ytick_4\">\n     <g id=\"line2d_21\">\n      <path clip-path=\"url(#p6c64d6d827)\" d=\"M 44.845313 189.148777 \nL 491.245312 189.148777 \n\" style=\"fill:none;stroke:#ffffff;stroke-linecap:square;stroke-width:0.8;\"/>\n     </g>\n     <g id=\"line2d_22\">\n      <g>\n       <use style=\"fill:#555555;stroke:#555555;stroke-width:0.8;\" x=\"44.845313\" xlink:href=\"#m8931a6c711\" y=\"189.148777\"/>\n      </g>\n     </g>\n     <g id=\"text_11\">\n      <!-- −0.25 -->\n      <g style=\"fill:#555555;\" transform=\"translate(7.2 192.947996)scale(0.1 -0.1)\">\n       <defs>\n        <path d=\"M 19.1875 8.296875 \nL 53.609375 8.296875 \nL 53.609375 0 \nL 7.328125 0 \nL 7.328125 8.296875 \nQ 12.9375 14.109375 22.625 23.890625 \nQ 32.328125 33.6875 34.8125 36.53125 \nQ 39.546875 41.84375 41.421875 45.53125 \nQ 43.3125 49.21875 43.3125 52.78125 \nQ 43.3125 58.59375 39.234375 62.25 \nQ 35.15625 65.921875 28.609375 65.921875 \nQ 23.96875 65.921875 18.8125 64.3125 \nQ 13.671875 62.703125 7.8125 59.421875 \nL 7.8125 69.390625 \nQ 13.765625 71.78125 18.9375 73 \nQ 24.125 74.21875 28.421875 74.21875 \nQ 39.75 74.21875 46.484375 68.546875 \nQ 53.21875 62.890625 53.21875 53.421875 \nQ 53.21875 48.921875 51.53125 44.890625 \nQ 49.859375 40.875 45.40625 35.40625 \nQ 44.1875 33.984375 37.640625 27.21875 \nQ 31.109375 20.453125 19.1875 8.296875 \nz\n\" id=\"DejaVuSans-50\"/>\n       </defs>\n       <use xlink:href=\"#DejaVuSans-8722\"/>\n       <use x=\"83.789062\" xlink:href=\"#DejaVuSans-48\"/>\n       <use x=\"147.412109\" xlink:href=\"#DejaVuSans-46\"/>\n       <use x=\"179.199219\" xlink:href=\"#DejaVuSans-50\"/>\n       <use x=\"242.822266\" xlink:href=\"#DejaVuSans-53\"/>\n      </g>\n     </g>\n    </g>\n    <g id=\"ytick_5\">\n     <g id=\"line2d_23\">\n      <path clip-path=\"url(#p6c64d6d827)\" d=\"M 44.845313 155.454545 \nL 491.245312 155.454545 \n\" style=\"fill:none;stroke:#ffffff;stroke-linecap:square;stroke-width:0.8;\"/>\n     </g>\n     <g id=\"line2d_24\">\n      <g>\n       <use style=\"fill:#555555;stroke:#555555;stroke-width:0.8;\" x=\"44.845313\" xlink:href=\"#m8931a6c711\" y=\"155.454545\"/>\n      </g>\n     </g>\n     <g id=\"text_12\">\n      <!-- 0.00 -->\n      <g style=\"fill:#555555;\" transform=\"translate(15.579688 159.253764)scale(0.1 -0.1)\">\n       <use xlink:href=\"#DejaVuSans-48\"/>\n       <use x=\"63.623047\" xlink:href=\"#DejaVuSans-46\"/>\n       <use x=\"95.410156\" xlink:href=\"#DejaVuSans-48\"/>\n       <use x=\"159.033203\" xlink:href=\"#DejaVuSans-48\"/>\n      </g>\n     </g>\n    </g>\n    <g id=\"ytick_6\">\n     <g id=\"line2d_25\">\n      <path clip-path=\"url(#p6c64d6d827)\" d=\"M 44.845313 121.760314 \nL 491.245312 121.760314 \n\" style=\"fill:none;stroke:#ffffff;stroke-linecap:square;stroke-width:0.8;\"/>\n     </g>\n     <g id=\"line2d_26\">\n      <g>\n       <use style=\"fill:#555555;stroke:#555555;stroke-width:0.8;\" x=\"44.845313\" xlink:href=\"#m8931a6c711\" y=\"121.760314\"/>\n      </g>\n     </g>\n     <g id=\"text_13\">\n      <!-- 0.25 -->\n      <g style=\"fill:#555555;\" transform=\"translate(15.579688 125.559532)scale(0.1 -0.1)\">\n       <use xlink:href=\"#DejaVuSans-48\"/>\n       <use x=\"63.623047\" xlink:href=\"#DejaVuSans-46\"/>\n       <use x=\"95.410156\" xlink:href=\"#DejaVuSans-50\"/>\n       <use x=\"159.033203\" xlink:href=\"#DejaVuSans-53\"/>\n      </g>\n     </g>\n    </g>\n    <g id=\"ytick_7\">\n     <g id=\"line2d_27\">\n      <path clip-path=\"url(#p6c64d6d827)\" d=\"M 44.845313 88.066082 \nL 491.245312 88.066082 \n\" style=\"fill:none;stroke:#ffffff;stroke-linecap:square;stroke-width:0.8;\"/>\n     </g>\n     <g id=\"line2d_28\">\n      <g>\n       <use style=\"fill:#555555;stroke:#555555;stroke-width:0.8;\" x=\"44.845313\" xlink:href=\"#m8931a6c711\" y=\"88.066082\"/>\n      </g>\n     </g>\n     <g id=\"text_14\">\n      <!-- 0.50 -->\n      <g style=\"fill:#555555;\" transform=\"translate(15.579688 91.865301)scale(0.1 -0.1)\">\n       <use xlink:href=\"#DejaVuSans-48\"/>\n       <use x=\"63.623047\" xlink:href=\"#DejaVuSans-46\"/>\n       <use x=\"95.410156\" xlink:href=\"#DejaVuSans-53\"/>\n       <use x=\"159.033203\" xlink:href=\"#DejaVuSans-48\"/>\n      </g>\n     </g>\n    </g>\n    <g id=\"ytick_8\">\n     <g id=\"line2d_29\">\n      <path clip-path=\"url(#p6c64d6d827)\" d=\"M 44.845313 54.37185 \nL 491.245312 54.37185 \n\" style=\"fill:none;stroke:#ffffff;stroke-linecap:square;stroke-width:0.8;\"/>\n     </g>\n     <g id=\"line2d_30\">\n      <g>\n       <use style=\"fill:#555555;stroke:#555555;stroke-width:0.8;\" x=\"44.845313\" xlink:href=\"#m8931a6c711\" y=\"54.37185\"/>\n      </g>\n     </g>\n     <g id=\"text_15\">\n      <!-- 0.75 -->\n      <g style=\"fill:#555555;\" transform=\"translate(15.579688 58.171069)scale(0.1 -0.1)\">\n       <use xlink:href=\"#DejaVuSans-48\"/>\n       <use x=\"63.623047\" xlink:href=\"#DejaVuSans-46\"/>\n       <use x=\"95.410156\" xlink:href=\"#DejaVuSans-55\"/>\n       <use x=\"159.033203\" xlink:href=\"#DejaVuSans-53\"/>\n      </g>\n     </g>\n    </g>\n    <g id=\"ytick_9\">\n     <g id=\"line2d_31\">\n      <path clip-path=\"url(#p6c64d6d827)\" d=\"M 44.845313 20.677618 \nL 491.245312 20.677618 \n\" style=\"fill:none;stroke:#ffffff;stroke-linecap:square;stroke-width:0.8;\"/>\n     </g>\n     <g id=\"line2d_32\">\n      <g>\n       <use style=\"fill:#555555;stroke:#555555;stroke-width:0.8;\" x=\"44.845313\" xlink:href=\"#m8931a6c711\" y=\"20.677618\"/>\n      </g>\n     </g>\n     <g id=\"text_16\">\n      <!-- 1.00 -->\n      <g style=\"fill:#555555;\" transform=\"translate(15.579688 24.476837)scale(0.1 -0.1)\">\n       <use xlink:href=\"#DejaVuSans-49\"/>\n       <use x=\"63.623047\" xlink:href=\"#DejaVuSans-46\"/>\n       <use x=\"95.410156\" xlink:href=\"#DejaVuSans-48\"/>\n       <use x=\"159.033203\" xlink:href=\"#DejaVuSans-48\"/>\n      </g>\n     </g>\n    </g>\n   </g>\n   <g id=\"Quiver_1\">\n    <path clip-path=\"url(#p6c64d6d827)\" d=\"M 268.045313 153.780545 \nL 387.75624 153.780545 \nL 386.08224 150.432545 \nL 402.82224 155.454545 \nL 386.08224 160.476545 \nL 387.75624 157.128545 \nL 268.045313 157.128545 \nL 268.045313 153.780545 \n\" style=\"fill:#1190ff;\"/>\n    <path clip-path=\"url(#p6c64d6d827)\" d=\"M 269.719313 155.454545 \nL 269.719313 275.165472 \nL 273.067313 273.491472 \nL 268.045313 290.231472 \nL 263.023313 273.491472 \nL 266.371313 275.165472 \nL 266.371313 155.454545 \nL 269.719313 155.454545 \n\" style=\"fill:#1190ff;\"/>\n   </g>\n   <g id=\"line2d_33\">\n    <path clip-path=\"url(#p6c64d6d827)\" d=\"M 133.268385 155.454545 \nL 133.538209 146.930508 \nL 134.077857 140.705281 \nL 134.887328 134.627373 \nL 135.966622 128.620991 \nL 137.315741 122.673467 \nL 138.664859 117.698509 \nL 140.283801 112.538159 \nL 142.172567 107.279116 \nL 144.331156 101.979059 \nL 146.489746 97.238875 \nL 148.918159 92.418514 \nL 151.616396 87.563991 \nL 154.584456 82.712164 \nL 157.552516 78.27837 \nL 160.790401 73.838346 \nL 164.298108 69.423518 \nL 167.805816 65.360908 \nL 171.583348 61.327454 \nL 175.360879 57.605601 \nL 179.408234 53.924804 \nL 183.725413 50.311906 \nL 188.042592 46.990797 \nL 192.629595 43.752757 \nL 197.216597 40.789323 \nL 201.8036 38.079695 \nL 206.660426 35.468231 \nL 211.517252 33.105052 \nL 216.643902 30.864357 \nL 221.770552 28.870713 \nL 226.897202 27.112608 \nL 232.023852 25.580474 \nL 237.420325 24.203145 \nL 242.816799 23.0599 \nL 248.213272 22.144717 \nL 253.609746 21.452924 \nL 259.006219 20.981073 \nL 264.402693 20.726852 \nL 269.799166 20.68903 \nL 275.19564 20.867425 \nL 280.592114 21.2629 \nL 285.988587 21.877381 \nL 291.385061 22.71391 \nL 296.781534 23.77672 \nL 302.178008 25.071344 \nL 307.574481 26.604769 \nL 312.701131 28.290565 \nL 317.827781 30.208684 \nL 322.954431 32.369986 \nL 327.811257 34.653668 \nL 332.668083 37.180636 \nL 337.52491 39.966859 \nL 342.111912 42.853662 \nL 346.698915 46.008527 \nL 351.016093 49.244049 \nL 355.333272 52.762617 \nL 359.380627 56.345109 \nL 363.427983 60.233926 \nL 367.205514 64.174348 \nL 370.713222 68.138336 \nL 374.22093 72.439135 \nL 377.458814 76.755716 \nL 380.426874 81.05559 \nL 383.394935 85.745976 \nL 386.093172 90.419762 \nL 388.521585 95.036933 \nL 390.949998 100.143982 \nL 393.108587 105.215145 \nL 394.997353 110.199717 \nL 396.616295 115.02779 \nL 398.235237 120.591906 \nL 399.584355 126.089596 \nL 400.66365 131.429629 \nL 401.473121 136.432455 \nL 402.012768 140.705281 \nL 402.552416 146.930508 \nL 402.82224 155.454545 \nL 402.82224 155.454545 \n\" style=\"fill:none;stroke:#1190ff;stroke-linecap:square;stroke-width:1.5;\"/>\n   </g>\n   <g id=\"line2d_34\">\n    <path clip-path=\"url(#p6c64d6d827)\" d=\"M 133.268385 155.454545 \nL 133.538209 163.978582 \nL 134.077857 170.20381 \nL 134.887328 176.281718 \nL 135.966622 182.2881 \nL 137.315741 188.235624 \nL 138.664859 193.210582 \nL 140.283801 198.370932 \nL 142.172567 203.629974 \nL 144.331156 208.930031 \nL 146.489746 213.670215 \nL 148.918159 218.490577 \nL 151.616396 223.3451 \nL 154.584456 228.196927 \nL 157.552516 232.630721 \nL 160.790401 237.070744 \nL 164.298108 241.485573 \nL 167.805816 245.548183 \nL 171.583348 249.581637 \nL 175.360879 253.30349 \nL 179.408234 256.984287 \nL 183.725413 260.597185 \nL 188.042592 263.918294 \nL 192.629595 267.156334 \nL 197.216597 270.119767 \nL 201.8036 272.829396 \nL 206.660426 275.44086 \nL 211.517252 277.804038 \nL 216.643902 280.044734 \nL 221.770552 282.038378 \nL 226.897202 283.796483 \nL 232.023852 285.328617 \nL 237.420325 286.705946 \nL 242.816799 287.849191 \nL 248.213272 288.764373 \nL 253.609746 289.456167 \nL 259.006219 289.928018 \nL 264.402693 290.182239 \nL 269.799166 290.220061 \nL 275.19564 290.041665 \nL 280.592114 289.646191 \nL 285.988587 289.03171 \nL 291.385061 288.195181 \nL 296.781534 287.132371 \nL 302.178008 285.837747 \nL 307.574481 284.304322 \nL 312.701131 282.618526 \nL 317.827781 280.700407 \nL 322.954431 278.539105 \nL 327.811257 276.255423 \nL 332.668083 273.728454 \nL 337.52491 270.942232 \nL 342.111912 268.055429 \nL 346.698915 264.900564 \nL 351.016093 261.665042 \nL 355.333272 258.146474 \nL 359.380627 254.563981 \nL 363.427983 250.675165 \nL 367.205514 246.734743 \nL 370.713222 242.770755 \nL 374.22093 238.469956 \nL 377.458814 234.153375 \nL 380.426874 229.853501 \nL 383.394935 225.163115 \nL 386.093172 220.489329 \nL 388.521585 215.872158 \nL 390.949998 210.765109 \nL 393.108587 205.693946 \nL 394.997353 200.709374 \nL 396.616295 195.881301 \nL 398.235237 190.317185 \nL 399.584355 184.819495 \nL 400.66365 179.479461 \nL 401.473121 174.476636 \nL 402.012768 170.20381 \nL 402.552416 163.978582 \nL 402.82224 155.454545 \nL 402.82224 155.454545 \n\" style=\"fill:none;stroke:#1190ff;stroke-linecap:square;stroke-width:1.5;\"/>\n   </g>\n   <g id=\"patch_3\">\n    <path d=\"M 44.845313 303.709091 \nL 44.845313 7.2 \n\" style=\"fill:none;stroke:#ffffff;stroke-linecap:square;stroke-linejoin:miter;\"/>\n   </g>\n   <g id=\"patch_4\">\n    <path d=\"M 491.245312 303.709091 \nL 491.245312 7.2 \n\" style=\"fill:none;stroke:#ffffff;stroke-linecap:square;stroke-linejoin:miter;\"/>\n   </g>\n   <g id=\"patch_5\">\n    <path d=\"M 44.845313 303.709091 \nL 491.245313 303.709091 \n\" style=\"fill:none;stroke:#ffffff;stroke-linecap:square;stroke-linejoin:miter;\"/>\n   </g>\n   <g id=\"patch_6\">\n    <path d=\"M 44.845313 7.2 \nL 491.245313 7.2 \n\" style=\"fill:none;stroke:#ffffff;stroke-linecap:square;stroke-linejoin:miter;\"/>\n   </g>\n   <g id=\"text_17\">\n    <!-- $\\vec{v_1}$ -->\n    <g style=\"fill:#1190ff;\" transform=\"translate(335.433776 155.454545)scale(0.15 -0.15)\">\n     <defs>\n      <path d=\"M -47.015625 63.53125 \nL -47.015625 68.40625 \nL -10.84375 68.40625 \nL -17.28125 75.984375 \nL -11.140625 75.984375 \nL -2.59375 65.96875 \nL -11.140625 55.953125 \nL -17.28125 55.953125 \nL -10.84375 63.53125 \nz\n\" id=\"DejaVuSans-8407\"/>\n      <path d=\"M 7.171875 54.6875 \nL 16.703125 54.6875 \nL 24.703125 8.203125 \nL 50.875 54.6875 \nL 60.40625 54.6875 \nL 29.296875 0 \nL 17.1875 0 \nz\n\" id=\"DejaVuSans-Oblique-118\"/>\n     </defs>\n     <use transform=\"translate(91.628174 12.015625)\" xlink:href=\"#DejaVuSans-8407\"/>\n     <use transform=\"translate(0 0.78125)\" xlink:href=\"#DejaVuSans-Oblique-118\"/>\n     <use transform=\"translate(59.179688 -15.625)scale(0.7)\" xlink:href=\"#DejaVuSans-49\"/>\n    </g>\n   </g>\n   <g id=\"text_18\">\n    <!-- $\\vec{v_2}$ -->\n    <g style=\"fill:#1190ff;\" transform=\"translate(268.045313 222.843009)scale(0.15 -0.15)\">\n     <use transform=\"translate(91.628174 12.015625)\" xlink:href=\"#DejaVuSans-8407\"/>\n     <use transform=\"translate(0 0.78125)\" xlink:href=\"#DejaVuSans-Oblique-118\"/>\n     <use transform=\"translate(59.179688 -15.625)scale(0.7)\" xlink:href=\"#DejaVuSans-50\"/>\n    </g>\n   </g>\n  </g>\n  <g id=\"axes_2\">\n   <g id=\"patch_7\">\n    <path d=\"M 44.845313 659.52 \nL 491.245312 659.52 \nL 491.245312 363.010909 \nL 44.845313 363.010909 \nz\n\" style=\"fill:#e5e5e5;\"/>\n   </g>\n   <g id=\"matplotlib.axis_3\">\n    <g id=\"xtick_8\">\n     <g id=\"line2d_35\">\n      <path clip-path=\"url(#p33682d68a6)\" d=\"M 65.136222 659.52 \nL 65.136222 363.010909 \n\" style=\"fill:none;stroke:#ffffff;stroke-linecap:square;stroke-width:0.8;\"/>\n     </g>\n     <g id=\"line2d_36\">\n      <g>\n       <use style=\"fill:#555555;stroke:#555555;stroke-width:0.8;\" x=\"65.136222\" xlink:href=\"#mb4a16b3b9d\" y=\"659.52\"/>\n      </g>\n     </g>\n     <g id=\"text_19\">\n      <!-- −3 -->\n      <g style=\"fill:#555555;\" transform=\"translate(57.765128 674.118437)scale(0.1 -0.1)\">\n       <defs>\n        <path d=\"M 40.578125 39.3125 \nQ 47.65625 37.796875 51.625 33 \nQ 55.609375 28.21875 55.609375 21.1875 \nQ 55.609375 10.40625 48.1875 4.484375 \nQ 40.765625 -1.421875 27.09375 -1.421875 \nQ 22.515625 -1.421875 17.65625 -0.515625 \nQ 12.796875 0.390625 7.625 2.203125 \nL 7.625 11.71875 \nQ 11.71875 9.328125 16.59375 8.109375 \nQ 21.484375 6.890625 26.8125 6.890625 \nQ 36.078125 6.890625 40.9375 10.546875 \nQ 45.796875 14.203125 45.796875 21.1875 \nQ 45.796875 27.640625 41.28125 31.265625 \nQ 36.765625 34.90625 28.71875 34.90625 \nL 20.21875 34.90625 \nL 20.21875 43.015625 \nL 29.109375 43.015625 \nQ 36.375 43.015625 40.234375 45.921875 \nQ 44.09375 48.828125 44.09375 54.296875 \nQ 44.09375 59.90625 40.109375 62.90625 \nQ 36.140625 65.921875 28.71875 65.921875 \nQ 24.65625 65.921875 20.015625 65.03125 \nQ 15.375 64.15625 9.8125 62.3125 \nL 9.8125 71.09375 \nQ 15.4375 72.65625 20.34375 73.4375 \nQ 25.25 74.21875 29.59375 74.21875 \nQ 40.828125 74.21875 47.359375 69.109375 \nQ 53.90625 64.015625 53.90625 55.328125 \nQ 53.90625 49.265625 50.4375 45.09375 \nQ 46.96875 40.921875 40.578125 39.3125 \nz\n\" id=\"DejaVuSans-51\"/>\n       </defs>\n       <use xlink:href=\"#DejaVuSans-8722\"/>\n       <use x=\"83.789062\" xlink:href=\"#DejaVuSans-51\"/>\n      </g>\n     </g>\n    </g>\n    <g id=\"xtick_9\">\n     <g id=\"line2d_37\">\n      <path clip-path=\"url(#p33682d68a6)\" d=\"M 132.772585 659.52 \nL 132.772585 363.010909 \n\" style=\"fill:none;stroke:#ffffff;stroke-linecap:square;stroke-width:0.8;\"/>\n     </g>\n     <g id=\"line2d_38\">\n      <g>\n       <use style=\"fill:#555555;stroke:#555555;stroke-width:0.8;\" x=\"132.772585\" xlink:href=\"#mb4a16b3b9d\" y=\"659.52\"/>\n      </g>\n     </g>\n     <g id=\"text_20\">\n      <!-- −2 -->\n      <g style=\"fill:#555555;\" transform=\"translate(125.401491 674.118437)scale(0.1 -0.1)\">\n       <use xlink:href=\"#DejaVuSans-8722\"/>\n       <use x=\"83.789062\" xlink:href=\"#DejaVuSans-50\"/>\n      </g>\n     </g>\n    </g>\n    <g id=\"xtick_10\">\n     <g id=\"line2d_39\">\n      <path clip-path=\"url(#p33682d68a6)\" d=\"M 200.408949 659.52 \nL 200.408949 363.010909 \n\" style=\"fill:none;stroke:#ffffff;stroke-linecap:square;stroke-width:0.8;\"/>\n     </g>\n     <g id=\"line2d_40\">\n      <g>\n       <use style=\"fill:#555555;stroke:#555555;stroke-width:0.8;\" x=\"200.408949\" xlink:href=\"#mb4a16b3b9d\" y=\"659.52\"/>\n      </g>\n     </g>\n     <g id=\"text_21\">\n      <!-- −1 -->\n      <g style=\"fill:#555555;\" transform=\"translate(193.037855 674.118437)scale(0.1 -0.1)\">\n       <use xlink:href=\"#DejaVuSans-8722\"/>\n       <use x=\"83.789062\" xlink:href=\"#DejaVuSans-49\"/>\n      </g>\n     </g>\n    </g>\n    <g id=\"xtick_11\">\n     <g id=\"line2d_41\">\n      <path clip-path=\"url(#p33682d68a6)\" d=\"M 268.045313 659.52 \nL 268.045313 363.010909 \n\" style=\"fill:none;stroke:#ffffff;stroke-linecap:square;stroke-width:0.8;\"/>\n     </g>\n     <g id=\"line2d_42\">\n      <g>\n       <use style=\"fill:#555555;stroke:#555555;stroke-width:0.8;\" x=\"268.045313\" xlink:href=\"#mb4a16b3b9d\" y=\"659.52\"/>\n      </g>\n     </g>\n     <g id=\"text_22\">\n      <!-- 0 -->\n      <g style=\"fill:#555555;\" transform=\"translate(264.864063 674.118437)scale(0.1 -0.1)\">\n       <use xlink:href=\"#DejaVuSans-48\"/>\n      </g>\n     </g>\n    </g>\n    <g id=\"xtick_12\">\n     <g id=\"line2d_43\">\n      <path clip-path=\"url(#p33682d68a6)\" d=\"M 335.681676 659.52 \nL 335.681676 363.010909 \n\" style=\"fill:none;stroke:#ffffff;stroke-linecap:square;stroke-width:0.8;\"/>\n     </g>\n     <g id=\"line2d_44\">\n      <g>\n       <use style=\"fill:#555555;stroke:#555555;stroke-width:0.8;\" x=\"335.681676\" xlink:href=\"#mb4a16b3b9d\" y=\"659.52\"/>\n      </g>\n     </g>\n     <g id=\"text_23\">\n      <!-- 1 -->\n      <g style=\"fill:#555555;\" transform=\"translate(332.500426 674.118437)scale(0.1 -0.1)\">\n       <use xlink:href=\"#DejaVuSans-49\"/>\n      </g>\n     </g>\n    </g>\n    <g id=\"xtick_13\">\n     <g id=\"line2d_45\">\n      <path clip-path=\"url(#p33682d68a6)\" d=\"M 403.31804 659.52 \nL 403.31804 363.010909 \n\" style=\"fill:none;stroke:#ffffff;stroke-linecap:square;stroke-width:0.8;\"/>\n     </g>\n     <g id=\"line2d_46\">\n      <g>\n       <use style=\"fill:#555555;stroke:#555555;stroke-width:0.8;\" x=\"403.31804\" xlink:href=\"#mb4a16b3b9d\" y=\"659.52\"/>\n      </g>\n     </g>\n     <g id=\"text_24\">\n      <!-- 2 -->\n      <g style=\"fill:#555555;\" transform=\"translate(400.13679 674.118437)scale(0.1 -0.1)\">\n       <use xlink:href=\"#DejaVuSans-50\"/>\n      </g>\n     </g>\n    </g>\n    <g id=\"xtick_14\">\n     <g id=\"line2d_47\">\n      <path clip-path=\"url(#p33682d68a6)\" d=\"M 470.954403 659.52 \nL 470.954403 363.010909 \n\" style=\"fill:none;stroke:#ffffff;stroke-linecap:square;stroke-width:0.8;\"/>\n     </g>\n     <g id=\"line2d_48\">\n      <g>\n       <use style=\"fill:#555555;stroke:#555555;stroke-width:0.8;\" x=\"470.954403\" xlink:href=\"#mb4a16b3b9d\" y=\"659.52\"/>\n      </g>\n     </g>\n     <g id=\"text_25\">\n      <!-- 3 -->\n      <g style=\"fill:#555555;\" transform=\"translate(467.773153 674.118437)scale(0.1 -0.1)\">\n       <use xlink:href=\"#DejaVuSans-51\"/>\n      </g>\n     </g>\n    </g>\n   </g>\n   <g id=\"matplotlib.axis_4\">\n    <g id=\"ytick_10\">\n     <g id=\"line2d_49\">\n      <path clip-path=\"url(#p33682d68a6)\" d=\"M 44.845313 646.042382 \nL 491.245312 646.042382 \n\" style=\"fill:none;stroke:#ffffff;stroke-linecap:square;stroke-width:0.8;\"/>\n     </g>\n     <g id=\"line2d_50\">\n      <g>\n       <use style=\"fill:#555555;stroke:#555555;stroke-width:0.8;\" x=\"44.845313\" xlink:href=\"#m8931a6c711\" y=\"646.042382\"/>\n      </g>\n     </g>\n     <g id=\"text_26\">\n      <!-- −2.0 -->\n      <g style=\"fill:#555555;\" transform=\"translate(13.5625 649.8416)scale(0.1 -0.1)\">\n       <use xlink:href=\"#DejaVuSans-8722\"/>\n       <use x=\"83.789062\" xlink:href=\"#DejaVuSans-50\"/>\n       <use x=\"147.412109\" xlink:href=\"#DejaVuSans-46\"/>\n       <use x=\"179.199219\" xlink:href=\"#DejaVuSans-48\"/>\n      </g>\n     </g>\n    </g>\n    <g id=\"ytick_11\">\n     <g id=\"line2d_51\">\n      <path clip-path=\"url(#p33682d68a6)\" d=\"M 44.845313 612.34815 \nL 491.245312 612.34815 \n\" style=\"fill:none;stroke:#ffffff;stroke-linecap:square;stroke-width:0.8;\"/>\n     </g>\n     <g id=\"line2d_52\">\n      <g>\n       <use style=\"fill:#555555;stroke:#555555;stroke-width:0.8;\" x=\"44.845313\" xlink:href=\"#m8931a6c711\" y=\"612.34815\"/>\n      </g>\n     </g>\n     <g id=\"text_27\">\n      <!-- −1.5 -->\n      <g style=\"fill:#555555;\" transform=\"translate(13.5625 616.147369)scale(0.1 -0.1)\">\n       <use xlink:href=\"#DejaVuSans-8722\"/>\n       <use x=\"83.789062\" xlink:href=\"#DejaVuSans-49\"/>\n       <use x=\"147.412109\" xlink:href=\"#DejaVuSans-46\"/>\n       <use x=\"179.199219\" xlink:href=\"#DejaVuSans-53\"/>\n      </g>\n     </g>\n    </g>\n    <g id=\"ytick_12\">\n     <g id=\"line2d_53\">\n      <path clip-path=\"url(#p33682d68a6)\" d=\"M 44.845313 578.653918 \nL 491.245312 578.653918 \n\" style=\"fill:none;stroke:#ffffff;stroke-linecap:square;stroke-width:0.8;\"/>\n     </g>\n     <g id=\"line2d_54\">\n      <g>\n       <use style=\"fill:#555555;stroke:#555555;stroke-width:0.8;\" x=\"44.845313\" xlink:href=\"#m8931a6c711\" y=\"578.653918\"/>\n      </g>\n     </g>\n     <g id=\"text_28\">\n      <!-- −1.0 -->\n      <g style=\"fill:#555555;\" transform=\"translate(13.5625 582.453137)scale(0.1 -0.1)\">\n       <use xlink:href=\"#DejaVuSans-8722\"/>\n       <use x=\"83.789062\" xlink:href=\"#DejaVuSans-49\"/>\n       <use x=\"147.412109\" xlink:href=\"#DejaVuSans-46\"/>\n       <use x=\"179.199219\" xlink:href=\"#DejaVuSans-48\"/>\n      </g>\n     </g>\n    </g>\n    <g id=\"ytick_13\">\n     <g id=\"line2d_55\">\n      <path clip-path=\"url(#p33682d68a6)\" d=\"M 44.845313 544.959686 \nL 491.245312 544.959686 \n\" style=\"fill:none;stroke:#ffffff;stroke-linecap:square;stroke-width:0.8;\"/>\n     </g>\n     <g id=\"line2d_56\">\n      <g>\n       <use style=\"fill:#555555;stroke:#555555;stroke-width:0.8;\" x=\"44.845313\" xlink:href=\"#m8931a6c711\" y=\"544.959686\"/>\n      </g>\n     </g>\n     <g id=\"text_29\">\n      <!-- −0.5 -->\n      <g style=\"fill:#555555;\" transform=\"translate(13.5625 548.758905)scale(0.1 -0.1)\">\n       <use xlink:href=\"#DejaVuSans-8722\"/>\n       <use x=\"83.789062\" xlink:href=\"#DejaVuSans-48\"/>\n       <use x=\"147.412109\" xlink:href=\"#DejaVuSans-46\"/>\n       <use x=\"179.199219\" xlink:href=\"#DejaVuSans-53\"/>\n      </g>\n     </g>\n    </g>\n    <g id=\"ytick_14\">\n     <g id=\"line2d_57\">\n      <path clip-path=\"url(#p33682d68a6)\" d=\"M 44.845313 511.265455 \nL 491.245312 511.265455 \n\" style=\"fill:none;stroke:#ffffff;stroke-linecap:square;stroke-width:0.8;\"/>\n     </g>\n     <g id=\"line2d_58\">\n      <g>\n       <use style=\"fill:#555555;stroke:#555555;stroke-width:0.8;\" x=\"44.845313\" xlink:href=\"#m8931a6c711\" y=\"511.265455\"/>\n      </g>\n     </g>\n     <g id=\"text_30\">\n      <!-- 0.0 -->\n      <g style=\"fill:#555555;\" transform=\"translate(21.942188 515.064673)scale(0.1 -0.1)\">\n       <use xlink:href=\"#DejaVuSans-48\"/>\n       <use x=\"63.623047\" xlink:href=\"#DejaVuSans-46\"/>\n       <use x=\"95.410156\" xlink:href=\"#DejaVuSans-48\"/>\n      </g>\n     </g>\n    </g>\n    <g id=\"ytick_15\">\n     <g id=\"line2d_59\">\n      <path clip-path=\"url(#p33682d68a6)\" d=\"M 44.845313 477.571223 \nL 491.245312 477.571223 \n\" style=\"fill:none;stroke:#ffffff;stroke-linecap:square;stroke-width:0.8;\"/>\n     </g>\n     <g id=\"line2d_60\">\n      <g>\n       <use style=\"fill:#555555;stroke:#555555;stroke-width:0.8;\" x=\"44.845313\" xlink:href=\"#m8931a6c711\" y=\"477.571223\"/>\n      </g>\n     </g>\n     <g id=\"text_31\">\n      <!-- 0.5 -->\n      <g style=\"fill:#555555;\" transform=\"translate(21.942188 481.370442)scale(0.1 -0.1)\">\n       <use xlink:href=\"#DejaVuSans-48\"/>\n       <use x=\"63.623047\" xlink:href=\"#DejaVuSans-46\"/>\n       <use x=\"95.410156\" xlink:href=\"#DejaVuSans-53\"/>\n      </g>\n     </g>\n    </g>\n    <g id=\"ytick_16\">\n     <g id=\"line2d_61\">\n      <path clip-path=\"url(#p33682d68a6)\" d=\"M 44.845313 443.876991 \nL 491.245312 443.876991 \n\" style=\"fill:none;stroke:#ffffff;stroke-linecap:square;stroke-width:0.8;\"/>\n     </g>\n     <g id=\"line2d_62\">\n      <g>\n       <use style=\"fill:#555555;stroke:#555555;stroke-width:0.8;\" x=\"44.845313\" xlink:href=\"#m8931a6c711\" y=\"443.876991\"/>\n      </g>\n     </g>\n     <g id=\"text_32\">\n      <!-- 1.0 -->\n      <g style=\"fill:#555555;\" transform=\"translate(21.942188 447.67621)scale(0.1 -0.1)\">\n       <use xlink:href=\"#DejaVuSans-49\"/>\n       <use x=\"63.623047\" xlink:href=\"#DejaVuSans-46\"/>\n       <use x=\"95.410156\" xlink:href=\"#DejaVuSans-48\"/>\n      </g>\n     </g>\n    </g>\n    <g id=\"ytick_17\">\n     <g id=\"line2d_63\">\n      <path clip-path=\"url(#p33682d68a6)\" d=\"M 44.845313 410.182759 \nL 491.245312 410.182759 \n\" style=\"fill:none;stroke:#ffffff;stroke-linecap:square;stroke-width:0.8;\"/>\n     </g>\n     <g id=\"line2d_64\">\n      <g>\n       <use style=\"fill:#555555;stroke:#555555;stroke-width:0.8;\" x=\"44.845313\" xlink:href=\"#m8931a6c711\" y=\"410.182759\"/>\n      </g>\n     </g>\n     <g id=\"text_33\">\n      <!-- 1.5 -->\n      <g style=\"fill:#555555;\" transform=\"translate(21.942188 413.981978)scale(0.1 -0.1)\">\n       <use xlink:href=\"#DejaVuSans-49\"/>\n       <use x=\"63.623047\" xlink:href=\"#DejaVuSans-46\"/>\n       <use x=\"95.410156\" xlink:href=\"#DejaVuSans-53\"/>\n      </g>\n     </g>\n    </g>\n    <g id=\"ytick_18\">\n     <g id=\"line2d_65\">\n      <path clip-path=\"url(#p33682d68a6)\" d=\"M 44.845313 376.488528 \nL 491.245312 376.488528 \n\" style=\"fill:none;stroke:#ffffff;stroke-linecap:square;stroke-width:0.8;\"/>\n     </g>\n     <g id=\"line2d_66\">\n      <g>\n       <use style=\"fill:#555555;stroke:#555555;stroke-width:0.8;\" x=\"44.845313\" xlink:href=\"#m8931a6c711\" y=\"376.488528\"/>\n      </g>\n     </g>\n     <g id=\"text_34\">\n      <!-- 2.0 -->\n      <g style=\"fill:#555555;\" transform=\"translate(21.942188 380.287746)scale(0.1 -0.1)\">\n       <use xlink:href=\"#DejaVuSans-50\"/>\n       <use x=\"63.623047\" xlink:href=\"#DejaVuSans-46\"/>\n       <use x=\"95.410156\" xlink:href=\"#DejaVuSans-48\"/>\n      </g>\n     </g>\n    </g>\n   </g>\n   <g id=\"Quiver_2\">\n    <path clip-path=\"url(#p33682d68a6)\" d=\"M 268.045313 509.591455 \nL 455.888403 509.591455 \nL 454.214403 506.243455 \nL 470.954403 511.265455 \nL 454.214403 516.287455 \nL 455.888403 512.939455 \nL 268.045313 512.939455 \nL 268.045313 509.591455 \n\" style=\"fill:#ff9a13;\"/>\n    <path clip-path=\"url(#p33682d68a6)\" d=\"M 266.371313 511.265455 \nL 266.371313 391.554528 \nL 263.023313 393.228528 \nL 268.045313 376.488528 \nL 273.067313 393.228528 \nL 269.719313 391.554528 \nL 269.719313 511.265455 \nL 266.371313 511.265455 \n\" style=\"fill:#ff9a13;\"/>\n   </g>\n   <g id=\"line2d_67\">\n    <path clip-path=\"url(#p33682d68a6)\" d=\"M 65.136222 511.265455 \nL 65.542446 519.789492 \nL 66.354895 526.014719 \nL 67.167344 530.287545 \nL 68.386017 535.290371 \nL 69.60469 539.394492 \nL 71.229588 544.046533 \nL 72.854485 548.084277 \nL 74.885607 552.54054 \nL 77.322954 557.270194 \nL 79.7603 561.504855 \nL 82.603871 565.972496 \nL 85.447442 570.041203 \nL 88.697237 574.301486 \nL 92.353257 578.691147 \nL 96.009276 582.729518 \nL 100.071521 586.872919 \nL 104.133765 590.70917 \nL 108.602233 594.624815 \nL 113.476926 598.581664 \nL 118.351619 602.251663 \nL 123.632536 605.942427 \nL 128.913453 609.369277 \nL 134.600595 612.795196 \nL 140.693961 616.191137 \nL 146.787327 619.32908 \nL 153.286918 622.416436 \nL 159.786508 625.256937 \nL 166.692323 628.024617 \nL 173.598138 630.551936 \nL 180.910177 632.982554 \nL 188.222217 635.17535 \nL 195.534256 637.142755 \nL 203.25252 638.986429 \nL 210.970783 640.600812 \nL 218.689047 641.9944 \nL 226.813535 643.230475 \nL 234.938023 644.236249 \nL 243.062512 645.016918 \nL 251.187 645.576407 \nL 259.311488 645.917473 \nL 267.435976 646.041774 \nL 275.560464 645.94991 \nL 283.684952 645.641439 \nL 291.80944 645.114862 \nL 299.933928 644.36759 \nL 308.058417 643.395881 \nL 316.182905 642.194736 \nL 323.901168 640.835335 \nL 331.619432 639.256338 \nL 339.337696 637.449501 \nL 347.05596 635.404875 \nL 354.367999 633.237695 \nL 361.680038 630.834188 \nL 368.585853 628.33411 \nL 375.491668 625.595577 \nL 381.991258 622.784596 \nL 388.490849 619.729203 \nL 394.584215 616.623913 \nL 400.677581 613.263801 \nL 406.364723 609.874842 \nL 412.051865 606.215023 \nL 417.332782 602.545652 \nL 422.207475 598.897938 \nL 427.082168 594.966482 \nL 431.550636 591.077638 \nL 435.61288 587.269569 \nL 439.675124 583.159162 \nL 443.331144 579.156009 \nL 446.987163 574.808787 \nL 450.236959 570.594767 \nL 453.08053 566.576018 \nL 455.9241 562.171394 \nL 458.361447 558.006517 \nL 460.798793 553.370054 \nL 462.829915 549.021491 \nL 464.454813 545.104399 \nL 466.079711 540.630404 \nL 467.298384 536.734866 \nL 468.517057 532.092627 \nL 469.329506 528.287886 \nL 470.141955 523.314222 \nL 470.548179 519.789492 \nL 470.954403 511.265455 \nL 470.954403 511.265455 \n\" style=\"fill:none;stroke:#ff9a13;stroke-linecap:square;stroke-width:1.5;\"/>\n   </g>\n   <g id=\"line2d_68\">\n    <path clip-path=\"url(#p33682d68a6)\" d=\"M 470.954403 511.265455 \nL 470.548179 502.741418 \nL 469.73573 496.51619 \nL 468.923281 492.243364 \nL 467.704608 487.240539 \nL 466.485935 483.136417 \nL 464.861037 478.484376 \nL 463.23614 474.446632 \nL 461.205018 469.990369 \nL 458.767671 465.260715 \nL 456.330325 461.026054 \nL 453.486754 456.558413 \nL 450.643183 452.489706 \nL 447.393388 448.229423 \nL 443.737368 443.839762 \nL 440.081349 439.801391 \nL 436.019104 435.65799 \nL 431.95686 431.821739 \nL 427.488392 427.906094 \nL 422.613699 423.949245 \nL 417.739006 420.279246 \nL 412.458089 416.588482 \nL 407.177172 413.161632 \nL 401.49003 409.735713 \nL 395.396664 406.339772 \nL 389.303298 403.20183 \nL 382.803707 400.114473 \nL 376.304117 397.273972 \nL 369.398302 394.506292 \nL 362.492487 391.978973 \nL 355.180448 389.548355 \nL 347.868408 387.355559 \nL 340.556369 385.388154 \nL 332.838105 383.54448 \nL 325.119842 381.930097 \nL 317.401578 380.536509 \nL 309.27709 379.300434 \nL 301.152602 378.29466 \nL 293.028113 377.513991 \nL 284.903625 376.954502 \nL 276.779137 376.613436 \nL 268.654649 376.489135 \nL 260.530161 376.580999 \nL 252.405673 376.88947 \nL 244.281185 377.416047 \nL 236.156697 378.163319 \nL 228.032208 379.135028 \nL 219.90772 380.336174 \nL 212.189457 381.695574 \nL 204.471193 383.274571 \nL 196.752929 385.081408 \nL 189.034665 387.126034 \nL 181.722626 389.293214 \nL 174.410587 391.696721 \nL 167.504772 394.1968 \nL 160.598957 396.935332 \nL 154.099367 399.746313 \nL 147.599776 402.801706 \nL 141.50641 405.906996 \nL 135.413044 409.267108 \nL 129.725902 412.656067 \nL 124.03876 416.315886 \nL 118.757843 419.985257 \nL 113.88315 423.632971 \nL 109.008457 427.564427 \nL 104.539989 431.453271 \nL 100.477745 435.26134 \nL 96.415501 439.371747 \nL 92.759481 443.3749 \nL 89.103462 447.722122 \nL 85.853666 451.936142 \nL 83.010095 455.954891 \nL 80.166525 460.359515 \nL 77.729178 464.524392 \nL 75.291832 469.160855 \nL 73.26071 473.509418 \nL 71.635812 477.42651 \nL 70.010914 481.900505 \nL 68.792241 485.796043 \nL 67.573568 490.438282 \nL 66.761119 494.243023 \nL 65.94867 499.216687 \nL 65.542446 502.741418 \nL 65.136222 511.265455 \nL 65.136222 511.265455 \n\" style=\"fill:none;stroke:#ff9a13;stroke-linecap:square;stroke-width:1.5;\"/>\n   </g>\n   <g id=\"patch_8\">\n    <path d=\"M 44.845313 659.52 \nL 44.845313 363.010909 \n\" style=\"fill:none;stroke:#ffffff;stroke-linecap:square;stroke-linejoin:miter;\"/>\n   </g>\n   <g id=\"patch_9\">\n    <path d=\"M 491.245312 659.52 \nL 491.245312 363.010909 \n\" style=\"fill:none;stroke:#ffffff;stroke-linecap:square;stroke-linejoin:miter;\"/>\n   </g>\n   <g id=\"patch_10\">\n    <path d=\"M 44.845313 659.52 \nL 491.245313 659.52 \n\" style=\"fill:none;stroke:#ffffff;stroke-linecap:square;stroke-linejoin:miter;\"/>\n   </g>\n   <g id=\"patch_11\">\n    <path d=\"M 44.845313 363.010909 \nL 491.245313 363.010909 \n\" style=\"fill:none;stroke:#ffffff;stroke-linecap:square;stroke-linejoin:miter;\"/>\n   </g>\n   <g id=\"text_35\">\n    <!-- $\\vec{\\sigma_1 u_1}$ -->\n    <g style=\"fill:#ff9a13;\" transform=\"translate(369.499858 511.265455)scale(0.15 -0.15)\">\n     <defs>\n      <path d=\"M 34.671875 47.5625 \nQ 27.25 47.5625 22.21875 42.1875 \nQ 16.890625 36.578125 15.140625 27.296875 \nQ 13.1875 17.484375 16.3125 11.8125 \nQ 19.390625 6.203125 26.65625 6.203125 \nQ 33.84375 6.203125 39.109375 11.859375 \nQ 44.4375 17.53125 46.34375 27.296875 \nQ 48.046875 36.234375 45.015625 42.1875 \nQ 42.1875 47.5625 34.671875 47.5625 \nz\nM 36.078125 54.734375 \nL 65.921875 54.6875 \nL 64.15625 45.703125 \nL 54.109375 45.703125 \nQ 57.90625 38.09375 55.859375 27.296875 \nQ 53.21875 13.875 45.0625 6.25 \nQ 36.859375 -1.421875 25.140625 -1.421875 \nQ 13.375 -1.421875 8.203125 6.25 \nQ 3.03125 13.875 5.671875 27.296875 \nQ 8.25 40.765625 16.40625 48.390625 \nQ 23.1875 54.734375 36.078125 54.734375 \nz\n\" id=\"DejaVuSans-Oblique-963\"/>\n      <path d=\"M 6.6875 21.6875 \nL 13.09375 54.6875 \nL 22.125 54.6875 \nL 15.71875 22.015625 \nQ 15.234375 19.625 15.015625 17.921875 \nQ 14.796875 16.21875 14.796875 15.09375 \nQ 14.796875 10.9375 17.328125 8.65625 \nQ 19.875 6.390625 24.515625 6.390625 \nQ 31.734375 6.390625 37 11.265625 \nQ 42.28125 16.15625 43.890625 24.421875 \nL 49.90625 54.6875 \nL 58.890625 54.6875 \nL 48.296875 0 \nL 39.3125 0 \nL 41.109375 8.59375 \nQ 37.3125 3.8125 32.0625 1.1875 \nQ 26.8125 -1.421875 20.90625 -1.421875 \nQ 13.71875 -1.421875 9.71875 2.515625 \nQ 5.71875 6.453125 5.71875 13.484375 \nQ 5.71875 14.9375 5.953125 17.140625 \nQ 6.203125 19.34375 6.6875 21.6875 \nz\n\" id=\"DejaVuSans-Oblique-117\"/>\n     </defs>\n     <use transform=\"translate(163.340332 12.015625)\" xlink:href=\"#DejaVuSans-8407\"/>\n     <use transform=\"translate(0 0.734375)\" xlink:href=\"#DejaVuSans-Oblique-963\"/>\n     <use transform=\"translate(63.378906 -15.671875)scale(0.7)\" xlink:href=\"#DejaVuSans-49\"/>\n     <use transform=\"translate(110.649414 0.734375)\" xlink:href=\"#DejaVuSans-Oblique-117\"/>\n     <use transform=\"translate(174.02832 -15.671875)scale(0.7)\" xlink:href=\"#DejaVuSans-49\"/>\n    </g>\n   </g>\n   <g id=\"text_36\">\n    <!-- $\\vec{\\sigma_2 u_2}$ -->\n    <g style=\"fill:#ff9a13;\" transform=\"translate(268.045313 443.876991)scale(0.15 -0.15)\">\n     <use transform=\"translate(163.340332 12.015625)\" xlink:href=\"#DejaVuSans-8407\"/>\n     <use transform=\"translate(0 0.734375)\" xlink:href=\"#DejaVuSans-Oblique-963\"/>\n     <use transform=\"translate(63.378906 -15.671875)scale(0.7)\" xlink:href=\"#DejaVuSans-50\"/>\n     <use transform=\"translate(110.649414 0.734375)\" xlink:href=\"#DejaVuSans-Oblique-117\"/>\n     <use transform=\"translate(174.02832 -15.671875)scale(0.7)\" xlink:href=\"#DejaVuSans-50\"/>\n    </g>\n   </g>\n  </g>\n </g>\n <defs>\n  <clipPath id=\"p6c64d6d827\">\n   <rect height=\"296.509091\" width=\"446.4\" x=\"44.845313\" y=\"7.2\"/>\n  </clipPath>\n  <clipPath id=\"p33682d68a6\">\n   <rect height=\"296.509091\" width=\"446.4\" x=\"44.845313\" y=\"363.010909\"/>\n  </clipPath>\n </defs>\n</svg>\n",
      "image/png": "[encoded data removed]"
     },
     "metadata": {}
    },
    {
     "output_type": "display_data",
     "data": {
      "text/plain": "<Figure size 576x864 with 2 Axes>",
      "image/svg+xml": "<?xml version=\"1.0\" encoding=\"utf-8\" standalone=\"no\"?>\n<!DOCTYPE svg PUBLIC \"-//W3C//DTD SVG 1.1//EN\"\n  \"http://www.w3.org/Graphics/SVG/1.1/DTD/svg11.dtd\">\n<!-- Created with matplotlib (https://matplotlib.org/) -->\n<svg height=\"683.398125pt\" version=\"1.1\" viewBox=\"0 0 498.445312 683.398125\" width=\"498.445312pt\" xmlns=\"http://www.w3.org/2000/svg\" xmlns:xlink=\"http://www.w3.org/1999/xlink\">\n <metadata>\n  <rdf:RDF xmlns:cc=\"http://creativecommons.org/ns#\" xmlns:dc=\"http://purl.org/dc/elements/1.1/\" xmlns:rdf=\"http://www.w3.org/1999/02/22-rdf-syntax-ns#\">\n   <cc:Work>\n    <dc:type rdf:resource=\"http://purl.org/dc/dcmitype/StillImage\"/>\n    <dc:date>2021-01-25T17:05:23.453185</dc:date>\n    <dc:format>image/svg+xml</dc:format>\n    <dc:creator>\n     <cc:Agent>\n      <dc:title>Matplotlib v3.3.3, https://matplotlib.org/</dc:title>\n     </cc:Agent>\n    </dc:creator>\n   </cc:Work>\n  </rdf:RDF>\n </metadata>\n <defs>\n  <style type=\"text/css\">*{stroke-linecap:butt;stroke-linejoin:round;}</style>\n </defs>\n <g id=\"figure_1\">\n  <g id=\"patch_1\">\n   <path d=\"M 0 683.398125 \nL 498.445312 683.398125 \nL 498.445312 -0 \nL 0 -0 \nz\n\" style=\"fill:#ffffff;\"/>\n  </g>\n  <g id=\"axes_1\">\n   <g id=\"patch_2\">\n    <path d=\"M 44.845313 303.709091 \nL 491.245312 303.709091 \nL 491.245312 7.2 \nL 44.845313 7.2 \nz\n\" style=\"fill:#e5e5e5;\"/>\n   </g>\n   <g id=\"matplotlib.axis_1\">\n    <g id=\"xtick_1\">\n     <g id=\"line2d_1\">\n      <path clip-path=\"url(#p1069db9a94)\" d=\"M 65.879922 303.709091 \nL 65.879922 7.2 \n\" style=\"fill:none;stroke:#ffffff;stroke-linecap:square;stroke-width:0.8;\"/>\n     </g>\n     <g id=\"line2d_2\">\n      <defs>\n       <path d=\"M 0 0 \nL 0 3.5 \n\" id=\"m682b564757\" style=\"stroke:#555555;stroke-width:0.8;\"/>\n      </defs>\n      <g>\n       <use style=\"fill:#555555;stroke:#555555;stroke-width:0.8;\" x=\"65.879922\" xlink:href=\"#m682b564757\" y=\"303.709091\"/>\n      </g>\n     </g>\n     <g id=\"text_1\">\n      <!-- −1.5 -->\n      <g style=\"fill:#555555;\" transform=\"translate(53.738516 318.307528)scale(0.1 -0.1)\">\n       <defs>\n        <path d=\"M 10.59375 35.5 \nL 73.1875 35.5 \nL 73.1875 27.203125 \nL 10.59375 27.203125 \nz\n\" id=\"DejaVuSans-8722\"/>\n        <path d=\"M 12.40625 8.296875 \nL 28.515625 8.296875 \nL 28.515625 63.921875 \nL 10.984375 60.40625 \nL 10.984375 69.390625 \nL 28.421875 72.90625 \nL 38.28125 72.90625 \nL 38.28125 8.296875 \nL 54.390625 8.296875 \nL 54.390625 0 \nL 12.40625 0 \nz\n\" id=\"DejaVuSans-49\"/>\n        <path d=\"M 10.6875 12.40625 \nL 21 12.40625 \nL 21 0 \nL 10.6875 0 \nz\n\" id=\"DejaVuSans-46\"/>\n        <path d=\"M 10.796875 72.90625 \nL 49.515625 72.90625 \nL 49.515625 64.59375 \nL 19.828125 64.59375 \nL 19.828125 46.734375 \nQ 21.96875 47.46875 24.109375 47.828125 \nQ 26.265625 48.1875 28.421875 48.1875 \nQ 40.625 48.1875 47.75 41.5 \nQ 54.890625 34.8125 54.890625 23.390625 \nQ 54.890625 11.625 47.5625 5.09375 \nQ 40.234375 -1.421875 26.90625 -1.421875 \nQ 22.3125 -1.421875 17.546875 -0.640625 \nQ 12.796875 0.140625 7.71875 1.703125 \nL 7.71875 11.625 \nQ 12.109375 9.234375 16.796875 8.0625 \nQ 21.484375 6.890625 26.703125 6.890625 \nQ 35.15625 6.890625 40.078125 11.328125 \nQ 45.015625 15.765625 45.015625 23.390625 \nQ 45.015625 31 40.078125 35.4375 \nQ 35.15625 39.890625 26.703125 39.890625 \nQ 22.75 39.890625 18.8125 39.015625 \nQ 14.890625 38.140625 10.796875 36.28125 \nz\n\" id=\"DejaVuSans-53\"/>\n       </defs>\n       <use xlink:href=\"#DejaVuSans-8722\"/>\n       <use x=\"83.789062\" xlink:href=\"#DejaVuSans-49\"/>\n       <use x=\"147.412109\" xlink:href=\"#DejaVuSans-46\"/>\n       <use x=\"179.199219\" xlink:href=\"#DejaVuSans-53\"/>\n      </g>\n     </g>\n    </g>\n    <g id=\"xtick_2\">\n     <g id=\"line2d_3\">\n      <path clip-path=\"url(#p1069db9a94)\" d=\"M 133.268385 303.709091 \nL 133.268385 7.2 \n\" style=\"fill:none;stroke:#ffffff;stroke-linecap:square;stroke-width:0.8;\"/>\n     </g>\n     <g id=\"line2d_4\">\n      <g>\n       <use style=\"fill:#555555;stroke:#555555;stroke-width:0.8;\" x=\"133.268385\" xlink:href=\"#m682b564757\" y=\"303.709091\"/>\n      </g>\n     </g>\n     <g id=\"text_2\">\n      <!-- −1.0 -->\n      <g style=\"fill:#555555;\" transform=\"translate(121.126979 318.307528)scale(0.1 -0.1)\">\n       <defs>\n        <path d=\"M 31.78125 66.40625 \nQ 24.171875 66.40625 20.328125 58.90625 \nQ 16.5 51.421875 16.5 36.375 \nQ 16.5 21.390625 20.328125 13.890625 \nQ 24.171875 6.390625 31.78125 6.390625 \nQ 39.453125 6.390625 43.28125 13.890625 \nQ 47.125 21.390625 47.125 36.375 \nQ 47.125 51.421875 43.28125 58.90625 \nQ 39.453125 66.40625 31.78125 66.40625 \nz\nM 31.78125 74.21875 \nQ 44.046875 74.21875 50.515625 64.515625 \nQ 56.984375 54.828125 56.984375 36.375 \nQ 56.984375 17.96875 50.515625 8.265625 \nQ 44.046875 -1.421875 31.78125 -1.421875 \nQ 19.53125 -1.421875 13.0625 8.265625 \nQ 6.59375 17.96875 6.59375 36.375 \nQ 6.59375 54.828125 13.0625 64.515625 \nQ 19.53125 74.21875 31.78125 74.21875 \nz\n\" id=\"DejaVuSans-48\"/>\n       </defs>\n       <use xlink:href=\"#DejaVuSans-8722\"/>\n       <use x=\"83.789062\" xlink:href=\"#DejaVuSans-49\"/>\n       <use x=\"147.412109\" xlink:href=\"#DejaVuSans-46\"/>\n       <use x=\"179.199219\" xlink:href=\"#DejaVuSans-48\"/>\n      </g>\n     </g>\n    </g>\n    <g id=\"xtick_3\">\n     <g id=\"line2d_5\">\n      <path clip-path=\"url(#p1069db9a94)\" d=\"M 200.656849 303.709091 \nL 200.656849 7.2 \n\" style=\"fill:none;stroke:#ffffff;stroke-linecap:square;stroke-width:0.8;\"/>\n     </g>\n     <g id=\"line2d_6\">\n      <g>\n       <use style=\"fill:#555555;stroke:#555555;stroke-width:0.8;\" x=\"200.656849\" xlink:href=\"#m682b564757\" y=\"303.709091\"/>\n      </g>\n     </g>\n     <g id=\"text_3\">\n      <!-- −0.5 -->\n      <g style=\"fill:#555555;\" transform=\"translate(188.515443 318.307528)scale(0.1 -0.1)\">\n       <use xlink:href=\"#DejaVuSans-8722\"/>\n       <use x=\"83.789062\" xlink:href=\"#DejaVuSans-48\"/>\n       <use x=\"147.412109\" xlink:href=\"#DejaVuSans-46\"/>\n       <use x=\"179.199219\" xlink:href=\"#DejaVuSans-53\"/>\n      </g>\n     </g>\n    </g>\n    <g id=\"xtick_4\">\n     <g id=\"line2d_7\">\n      <path clip-path=\"url(#p1069db9a94)\" d=\"M 268.045313 303.709091 \nL 268.045313 7.2 \n\" style=\"fill:none;stroke:#ffffff;stroke-linecap:square;stroke-width:0.8;\"/>\n     </g>\n     <g id=\"line2d_8\">\n      <g>\n       <use style=\"fill:#555555;stroke:#555555;stroke-width:0.8;\" x=\"268.045313\" xlink:href=\"#m682b564757\" y=\"303.709091\"/>\n      </g>\n     </g>\n     <g id=\"text_4\">\n      <!-- 0.0 -->\n      <g style=\"fill:#555555;\" transform=\"translate(260.09375 318.307528)scale(0.1 -0.1)\">\n       <use xlink:href=\"#DejaVuSans-48\"/>\n       <use x=\"63.623047\" xlink:href=\"#DejaVuSans-46\"/>\n       <use x=\"95.410156\" xlink:href=\"#DejaVuSans-48\"/>\n      </g>\n     </g>\n    </g>\n    <g id=\"xtick_5\">\n     <g id=\"line2d_9\">\n      <path clip-path=\"url(#p1069db9a94)\" d=\"M 335.433776 303.709091 \nL 335.433776 7.2 \n\" style=\"fill:none;stroke:#ffffff;stroke-linecap:square;stroke-width:0.8;\"/>\n     </g>\n     <g id=\"line2d_10\">\n      <g>\n       <use style=\"fill:#555555;stroke:#555555;stroke-width:0.8;\" x=\"335.433776\" xlink:href=\"#m682b564757\" y=\"303.709091\"/>\n      </g>\n     </g>\n     <g id=\"text_5\">\n      <!-- 0.5 -->\n      <g style=\"fill:#555555;\" transform=\"translate(327.482214 318.307528)scale(0.1 -0.1)\">\n       <use xlink:href=\"#DejaVuSans-48\"/>\n       <use x=\"63.623047\" xlink:href=\"#DejaVuSans-46\"/>\n       <use x=\"95.410156\" xlink:href=\"#DejaVuSans-53\"/>\n      </g>\n     </g>\n    </g>\n    <g id=\"xtick_6\">\n     <g id=\"line2d_11\">\n      <path clip-path=\"url(#p1069db9a94)\" d=\"M 402.82224 303.709091 \nL 402.82224 7.2 \n\" style=\"fill:none;stroke:#ffffff;stroke-linecap:square;stroke-width:0.8;\"/>\n     </g>\n     <g id=\"line2d_12\">\n      <g>\n       <use style=\"fill:#555555;stroke:#555555;stroke-width:0.8;\" x=\"402.82224\" xlink:href=\"#m682b564757\" y=\"303.709091\"/>\n      </g>\n     </g>\n     <g id=\"text_6\">\n      <!-- 1.0 -->\n      <g style=\"fill:#555555;\" transform=\"translate(394.870677 318.307528)scale(0.1 -0.1)\">\n       <use xlink:href=\"#DejaVuSans-49\"/>\n       <use x=\"63.623047\" xlink:href=\"#DejaVuSans-46\"/>\n       <use x=\"95.410156\" xlink:href=\"#DejaVuSans-48\"/>\n      </g>\n     </g>\n    </g>\n    <g id=\"xtick_7\">\n     <g id=\"line2d_13\">\n      <path clip-path=\"url(#p1069db9a94)\" d=\"M 470.210703 303.709091 \nL 470.210703 7.2 \n\" style=\"fill:none;stroke:#ffffff;stroke-linecap:square;stroke-width:0.8;\"/>\n     </g>\n     <g id=\"line2d_14\">\n      <g>\n       <use style=\"fill:#555555;stroke:#555555;stroke-width:0.8;\" x=\"470.210703\" xlink:href=\"#m682b564757\" y=\"303.709091\"/>\n      </g>\n     </g>\n     <g id=\"text_7\">\n      <!-- 1.5 -->\n      <g style=\"fill:#555555;\" transform=\"translate(462.259141 318.307528)scale(0.1 -0.1)\">\n       <use xlink:href=\"#DejaVuSans-49\"/>\n       <use x=\"63.623047\" xlink:href=\"#DejaVuSans-46\"/>\n       <use x=\"95.410156\" xlink:href=\"#DejaVuSans-53\"/>\n      </g>\n     </g>\n    </g>\n   </g>\n   <g id=\"matplotlib.axis_2\">\n    <g id=\"ytick_1\">\n     <g id=\"line2d_15\">\n      <path clip-path=\"url(#p1069db9a94)\" d=\"M 44.845313 290.231472 \nL 491.245312 290.231472 \n\" style=\"fill:none;stroke:#ffffff;stroke-linecap:square;stroke-width:0.8;\"/>\n     </g>\n     <g id=\"line2d_16\">\n      <defs>\n       <path d=\"M 0 0 \nL -3.5 0 \n\" id=\"m74e7bce9ea\" style=\"stroke:#555555;stroke-width:0.8;\"/>\n      </defs>\n      <g>\n       <use style=\"fill:#555555;stroke:#555555;stroke-width:0.8;\" x=\"44.845313\" xlink:href=\"#m74e7bce9ea\" y=\"290.231472\"/>\n      </g>\n     </g>\n     <g id=\"text_8\">\n      <!-- −1.00 -->\n      <g style=\"fill:#555555;\" transform=\"translate(7.2 294.030691)scale(0.1 -0.1)\">\n       <use xlink:href=\"#DejaVuSans-8722\"/>\n       <use x=\"83.789062\" xlink:href=\"#DejaVuSans-49\"/>\n       <use x=\"147.412109\" xlink:href=\"#DejaVuSans-46\"/>\n       <use x=\"179.199219\" xlink:href=\"#DejaVuSans-48\"/>\n       <use x=\"242.822266\" xlink:href=\"#DejaVuSans-48\"/>\n      </g>\n     </g>\n    </g>\n    <g id=\"ytick_2\">\n     <g id=\"line2d_17\">\n      <path clip-path=\"url(#p1069db9a94)\" d=\"M 44.845313 256.537241 \nL 491.245312 256.537241 \n\" style=\"fill:none;stroke:#ffffff;stroke-linecap:square;stroke-width:0.8;\"/>\n     </g>\n     <g id=\"line2d_18\">\n      <g>\n       <use style=\"fill:#555555;stroke:#555555;stroke-width:0.8;\" x=\"44.845313\" xlink:href=\"#m74e7bce9ea\" y=\"256.537241\"/>\n      </g>\n     </g>\n     <g id=\"text_9\">\n      <!-- −0.75 -->\n      <g style=\"fill:#555555;\" transform=\"translate(7.2 260.336459)scale(0.1 -0.1)\">\n       <defs>\n        <path d=\"M 8.203125 72.90625 \nL 55.078125 72.90625 \nL 55.078125 68.703125 \nL 28.609375 0 \nL 18.3125 0 \nL 43.21875 64.59375 \nL 8.203125 64.59375 \nz\n\" id=\"DejaVuSans-55\"/>\n       </defs>\n       <use xlink:href=\"#DejaVuSans-8722\"/>\n       <use x=\"83.789062\" xlink:href=\"#DejaVuSans-48\"/>\n       <use x=\"147.412109\" xlink:href=\"#DejaVuSans-46\"/>\n       <use x=\"179.199219\" xlink:href=\"#DejaVuSans-55\"/>\n       <use x=\"242.822266\" xlink:href=\"#DejaVuSans-53\"/>\n      </g>\n     </g>\n    </g>\n    <g id=\"ytick_3\">\n     <g id=\"line2d_19\">\n      <path clip-path=\"url(#p1069db9a94)\" d=\"M 44.845313 222.843009 \nL 491.245312 222.843009 \n\" style=\"fill:none;stroke:#ffffff;stroke-linecap:square;stroke-width:0.8;\"/>\n     </g>\n     <g id=\"line2d_20\">\n      <g>\n       <use style=\"fill:#555555;stroke:#555555;stroke-width:0.8;\" x=\"44.845313\" xlink:href=\"#m74e7bce9ea\" y=\"222.843009\"/>\n      </g>\n     </g>\n     <g id=\"text_10\">\n      <!-- −0.50 -->\n      <g style=\"fill:#555555;\" transform=\"translate(7.2 226.642228)scale(0.1 -0.1)\">\n       <use xlink:href=\"#DejaVuSans-8722\"/>\n       <use x=\"83.789062\" xlink:href=\"#DejaVuSans-48\"/>\n       <use x=\"147.412109\" xlink:href=\"#DejaVuSans-46\"/>\n       <use x=\"179.199219\" xlink:href=\"#DejaVuSans-53\"/>\n       <use x=\"242.822266\" xlink:href=\"#DejaVuSans-48\"/>\n      </g>\n     </g>\n    </g>\n    <g id=\"ytick_4\">\n     <g id=\"line2d_21\">\n      <path clip-path=\"url(#p1069db9a94)\" d=\"M 44.845313 189.148777 \nL 491.245312 189.148777 \n\" style=\"fill:none;stroke:#ffffff;stroke-linecap:square;stroke-width:0.8;\"/>\n     </g>\n     <g id=\"line2d_22\">\n      <g>\n       <use style=\"fill:#555555;stroke:#555555;stroke-width:0.8;\" x=\"44.845313\" xlink:href=\"#m74e7bce9ea\" y=\"189.148777\"/>\n      </g>\n     </g>\n     <g id=\"text_11\">\n      <!-- −0.25 -->\n      <g style=\"fill:#555555;\" transform=\"translate(7.2 192.947996)scale(0.1 -0.1)\">\n       <defs>\n        <path d=\"M 19.1875 8.296875 \nL 53.609375 8.296875 \nL 53.609375 0 \nL 7.328125 0 \nL 7.328125 8.296875 \nQ 12.9375 14.109375 22.625 23.890625 \nQ 32.328125 33.6875 34.8125 36.53125 \nQ 39.546875 41.84375 41.421875 45.53125 \nQ 43.3125 49.21875 43.3125 52.78125 \nQ 43.3125 58.59375 39.234375 62.25 \nQ 35.15625 65.921875 28.609375 65.921875 \nQ 23.96875 65.921875 18.8125 64.3125 \nQ 13.671875 62.703125 7.8125 59.421875 \nL 7.8125 69.390625 \nQ 13.765625 71.78125 18.9375 73 \nQ 24.125 74.21875 28.421875 74.21875 \nQ 39.75 74.21875 46.484375 68.546875 \nQ 53.21875 62.890625 53.21875 53.421875 \nQ 53.21875 48.921875 51.53125 44.890625 \nQ 49.859375 40.875 45.40625 35.40625 \nQ 44.1875 33.984375 37.640625 27.21875 \nQ 31.109375 20.453125 19.1875 8.296875 \nz\n\" id=\"DejaVuSans-50\"/>\n       </defs>\n       <use xlink:href=\"#DejaVuSans-8722\"/>\n       <use x=\"83.789062\" xlink:href=\"#DejaVuSans-48\"/>\n       <use x=\"147.412109\" xlink:href=\"#DejaVuSans-46\"/>\n       <use x=\"179.199219\" xlink:href=\"#DejaVuSans-50\"/>\n       <use x=\"242.822266\" xlink:href=\"#DejaVuSans-53\"/>\n      </g>\n     </g>\n    </g>\n    <g id=\"ytick_5\">\n     <g id=\"line2d_23\">\n      <path clip-path=\"url(#p1069db9a94)\" d=\"M 44.845313 155.454545 \nL 491.245312 155.454545 \n\" style=\"fill:none;stroke:#ffffff;stroke-linecap:square;stroke-width:0.8;\"/>\n     </g>\n     <g id=\"line2d_24\">\n      <g>\n       <use style=\"fill:#555555;stroke:#555555;stroke-width:0.8;\" x=\"44.845313\" xlink:href=\"#m74e7bce9ea\" y=\"155.454545\"/>\n      </g>\n     </g>\n     <g id=\"text_12\">\n      <!-- 0.00 -->\n      <g style=\"fill:#555555;\" transform=\"translate(15.579688 159.253764)scale(0.1 -0.1)\">\n       <use xlink:href=\"#DejaVuSans-48\"/>\n       <use x=\"63.623047\" xlink:href=\"#DejaVuSans-46\"/>\n       <use x=\"95.410156\" xlink:href=\"#DejaVuSans-48\"/>\n       <use x=\"159.033203\" xlink:href=\"#DejaVuSans-48\"/>\n      </g>\n     </g>\n    </g>\n    <g id=\"ytick_6\">\n     <g id=\"line2d_25\">\n      <path clip-path=\"url(#p1069db9a94)\" d=\"M 44.845313 121.760314 \nL 491.245312 121.760314 \n\" style=\"fill:none;stroke:#ffffff;stroke-linecap:square;stroke-width:0.8;\"/>\n     </g>\n     <g id=\"line2d_26\">\n      <g>\n       <use style=\"fill:#555555;stroke:#555555;stroke-width:0.8;\" x=\"44.845313\" xlink:href=\"#m74e7bce9ea\" y=\"121.760314\"/>\n      </g>\n     </g>\n     <g id=\"text_13\">\n      <!-- 0.25 -->\n      <g style=\"fill:#555555;\" transform=\"translate(15.579688 125.559532)scale(0.1 -0.1)\">\n       <use xlink:href=\"#DejaVuSans-48\"/>\n       <use x=\"63.623047\" xlink:href=\"#DejaVuSans-46\"/>\n       <use x=\"95.410156\" xlink:href=\"#DejaVuSans-50\"/>\n       <use x=\"159.033203\" xlink:href=\"#DejaVuSans-53\"/>\n      </g>\n     </g>\n    </g>\n    <g id=\"ytick_7\">\n     <g id=\"line2d_27\">\n      <path clip-path=\"url(#p1069db9a94)\" d=\"M 44.845313 88.066082 \nL 491.245312 88.066082 \n\" style=\"fill:none;stroke:#ffffff;stroke-linecap:square;stroke-width:0.8;\"/>\n     </g>\n     <g id=\"line2d_28\">\n      <g>\n       <use style=\"fill:#555555;stroke:#555555;stroke-width:0.8;\" x=\"44.845313\" xlink:href=\"#m74e7bce9ea\" y=\"88.066082\"/>\n      </g>\n     </g>\n     <g id=\"text_14\">\n      <!-- 0.50 -->\n      <g style=\"fill:#555555;\" transform=\"translate(15.579688 91.865301)scale(0.1 -0.1)\">\n       <use xlink:href=\"#DejaVuSans-48\"/>\n       <use x=\"63.623047\" xlink:href=\"#DejaVuSans-46\"/>\n       <use x=\"95.410156\" xlink:href=\"#DejaVuSans-53\"/>\n       <use x=\"159.033203\" xlink:href=\"#DejaVuSans-48\"/>\n      </g>\n     </g>\n    </g>\n    <g id=\"ytick_8\">\n     <g id=\"line2d_29\">\n      <path clip-path=\"url(#p1069db9a94)\" d=\"M 44.845313 54.37185 \nL 491.245312 54.37185 \n\" style=\"fill:none;stroke:#ffffff;stroke-linecap:square;stroke-width:0.8;\"/>\n     </g>\n     <g id=\"line2d_30\">\n      <g>\n       <use style=\"fill:#555555;stroke:#555555;stroke-width:0.8;\" x=\"44.845313\" xlink:href=\"#m74e7bce9ea\" y=\"54.37185\"/>\n      </g>\n     </g>\n     <g id=\"text_15\">\n      <!-- 0.75 -->\n      <g style=\"fill:#555555;\" transform=\"translate(15.579688 58.171069)scale(0.1 -0.1)\">\n       <use xlink:href=\"#DejaVuSans-48\"/>\n       <use x=\"63.623047\" xlink:href=\"#DejaVuSans-46\"/>\n       <use x=\"95.410156\" xlink:href=\"#DejaVuSans-55\"/>\n       <use x=\"159.033203\" xlink:href=\"#DejaVuSans-53\"/>\n      </g>\n     </g>\n    </g>\n    <g id=\"ytick_9\">\n     <g id=\"line2d_31\">\n      <path clip-path=\"url(#p1069db9a94)\" d=\"M 44.845313 20.677618 \nL 491.245312 20.677618 \n\" style=\"fill:none;stroke:#ffffff;stroke-linecap:square;stroke-width:0.8;\"/>\n     </g>\n     <g id=\"line2d_32\">\n      <g>\n       <use style=\"fill:#555555;stroke:#555555;stroke-width:0.8;\" x=\"44.845313\" xlink:href=\"#m74e7bce9ea\" y=\"20.677618\"/>\n      </g>\n     </g>\n     <g id=\"text_16\">\n      <!-- 1.00 -->\n      <g style=\"fill:#555555;\" transform=\"translate(15.579688 24.476837)scale(0.1 -0.1)\">\n       <use xlink:href=\"#DejaVuSans-49\"/>\n       <use x=\"63.623047\" xlink:href=\"#DejaVuSans-46\"/>\n       <use x=\"95.410156\" xlink:href=\"#DejaVuSans-48\"/>\n       <use x=\"159.033203\" xlink:href=\"#DejaVuSans-48\"/>\n      </g>\n     </g>\n    </g>\n   </g>\n   <g id=\"Quiver_1\">\n    <path clip-path=\"url(#p1069db9a94)\" d=\"M 269.719313 155.454545 \nL 269.719313 275.165472 \nL 273.067313 273.491472 \nL 268.045313 290.231472 \nL 263.023313 273.491472 \nL 266.371313 275.165472 \nL 266.371313 155.454545 \nL 269.719313 155.454545 \n\" style=\"fill:#1190ff;\"/>\n    <path clip-path=\"url(#p1069db9a94)\" d=\"M 268.045313 153.780545 \nL 387.75624 153.780545 \nL 386.08224 150.432545 \nL 402.82224 155.454545 \nL 386.08224 160.476545 \nL 387.75624 157.128545 \nL 268.045313 157.128545 \nL 268.045313 153.780545 \n\" style=\"fill:#1190ff;\"/>\n   </g>\n   <g id=\"line2d_33\">\n    <path clip-path=\"url(#p1069db9a94)\" d=\"M 133.268385 155.454545 \nL 133.538209 146.930508 \nL 134.077857 140.705281 \nL 134.887328 134.627373 \nL 135.966622 128.620991 \nL 137.315741 122.673467 \nL 138.664859 117.698509 \nL 140.283801 112.538159 \nL 142.172567 107.279116 \nL 144.331156 101.979059 \nL 146.489746 97.238875 \nL 148.918159 92.418514 \nL 151.616396 87.563991 \nL 154.584456 82.712164 \nL 157.552516 78.27837 \nL 160.790401 73.838346 \nL 164.298108 69.423518 \nL 167.805816 65.360908 \nL 171.583348 61.327454 \nL 175.360879 57.605601 \nL 179.408234 53.924804 \nL 183.725413 50.311906 \nL 188.042592 46.990797 \nL 192.629595 43.752757 \nL 197.216597 40.789323 \nL 201.8036 38.079695 \nL 206.660426 35.468231 \nL 211.517252 33.105052 \nL 216.643902 30.864357 \nL 221.770552 28.870713 \nL 226.897202 27.112608 \nL 232.023852 25.580474 \nL 237.420325 24.203145 \nL 242.816799 23.0599 \nL 248.213272 22.144717 \nL 253.609746 21.452924 \nL 259.006219 20.981073 \nL 264.402693 20.726852 \nL 269.799166 20.68903 \nL 275.19564 20.867425 \nL 280.592114 21.2629 \nL 285.988587 21.877381 \nL 291.385061 22.71391 \nL 296.781534 23.77672 \nL 302.178008 25.071344 \nL 307.574481 26.604769 \nL 312.701131 28.290565 \nL 317.827781 30.208684 \nL 322.954431 32.369986 \nL 327.811257 34.653668 \nL 332.668083 37.180636 \nL 337.52491 39.966859 \nL 342.111912 42.853662 \nL 346.698915 46.008527 \nL 351.016093 49.244049 \nL 355.333272 52.762617 \nL 359.380627 56.345109 \nL 363.427983 60.233926 \nL 367.205514 64.174348 \nL 370.713222 68.138336 \nL 374.22093 72.439135 \nL 377.458814 76.755716 \nL 380.426874 81.05559 \nL 383.394935 85.745976 \nL 386.093172 90.419762 \nL 388.521585 95.036933 \nL 390.949998 100.143982 \nL 393.108587 105.215145 \nL 394.997353 110.199717 \nL 396.616295 115.02779 \nL 398.235237 120.591906 \nL 399.584355 126.089596 \nL 400.66365 131.429629 \nL 401.473121 136.432455 \nL 402.012768 140.705281 \nL 402.552416 146.930508 \nL 402.82224 155.454545 \nL 402.82224 155.454545 \n\" style=\"fill:none;stroke:#1190ff;stroke-linecap:square;stroke-width:1.5;\"/>\n   </g>\n   <g id=\"line2d_34\">\n    <path clip-path=\"url(#p1069db9a94)\" d=\"M 133.268385 155.454545 \nL 133.538209 163.978582 \nL 134.077857 170.20381 \nL 134.887328 176.281718 \nL 135.966622 182.2881 \nL 137.315741 188.235624 \nL 138.664859 193.210582 \nL 140.283801 198.370932 \nL 142.172567 203.629974 \nL 144.331156 208.930031 \nL 146.489746 213.670215 \nL 148.918159 218.490577 \nL 151.616396 223.3451 \nL 154.584456 228.196927 \nL 157.552516 232.630721 \nL 160.790401 237.070744 \nL 164.298108 241.485573 \nL 167.805816 245.548183 \nL 171.583348 249.581637 \nL 175.360879 253.30349 \nL 179.408234 256.984287 \nL 183.725413 260.597185 \nL 188.042592 263.918294 \nL 192.629595 267.156334 \nL 197.216597 270.119767 \nL 201.8036 272.829396 \nL 206.660426 275.44086 \nL 211.517252 277.804038 \nL 216.643902 280.044734 \nL 221.770552 282.038378 \nL 226.897202 283.796483 \nL 232.023852 285.328617 \nL 237.420325 286.705946 \nL 242.816799 287.849191 \nL 248.213272 288.764373 \nL 253.609746 289.456167 \nL 259.006219 289.928018 \nL 264.402693 290.182239 \nL 269.799166 290.220061 \nL 275.19564 290.041665 \nL 280.592114 289.646191 \nL 285.988587 289.03171 \nL 291.385061 288.195181 \nL 296.781534 287.132371 \nL 302.178008 285.837747 \nL 307.574481 284.304322 \nL 312.701131 282.618526 \nL 317.827781 280.700407 \nL 322.954431 278.539105 \nL 327.811257 276.255423 \nL 332.668083 273.728454 \nL 337.52491 270.942232 \nL 342.111912 268.055429 \nL 346.698915 264.900564 \nL 351.016093 261.665042 \nL 355.333272 258.146474 \nL 359.380627 254.563981 \nL 363.427983 250.675165 \nL 367.205514 246.734743 \nL 370.713222 242.770755 \nL 374.22093 238.469956 \nL 377.458814 234.153375 \nL 380.426874 229.853501 \nL 383.394935 225.163115 \nL 386.093172 220.489329 \nL 388.521585 215.872158 \nL 390.949998 210.765109 \nL 393.108587 205.693946 \nL 394.997353 200.709374 \nL 396.616295 195.881301 \nL 398.235237 190.317185 \nL 399.584355 184.819495 \nL 400.66365 179.479461 \nL 401.473121 174.476636 \nL 402.012768 170.20381 \nL 402.552416 163.978582 \nL 402.82224 155.454545 \nL 402.82224 155.454545 \n\" style=\"fill:none;stroke:#1190ff;stroke-linecap:square;stroke-width:1.5;\"/>\n   </g>\n   <g id=\"patch_3\">\n    <path d=\"M 44.845313 303.709091 \nL 44.845313 7.2 \n\" style=\"fill:none;stroke:#ffffff;stroke-linecap:square;stroke-linejoin:miter;\"/>\n   </g>\n   <g id=\"patch_4\">\n    <path d=\"M 491.245312 303.709091 \nL 491.245312 7.2 \n\" style=\"fill:none;stroke:#ffffff;stroke-linecap:square;stroke-linejoin:miter;\"/>\n   </g>\n   <g id=\"patch_5\">\n    <path d=\"M 44.845313 303.709091 \nL 491.245313 303.709091 \n\" style=\"fill:none;stroke:#ffffff;stroke-linecap:square;stroke-linejoin:miter;\"/>\n   </g>\n   <g id=\"patch_6\">\n    <path d=\"M 44.845313 7.2 \nL 491.245313 7.2 \n\" style=\"fill:none;stroke:#ffffff;stroke-linecap:square;stroke-linejoin:miter;\"/>\n   </g>\n   <g id=\"text_17\">\n    <!-- $\\vec{v_1}$ -->\n    <g style=\"fill:#1190ff;\" transform=\"translate(268.045313 222.843009)scale(0.15 -0.15)\">\n     <defs>\n      <path d=\"M -47.015625 63.53125 \nL -47.015625 68.40625 \nL -10.84375 68.40625 \nL -17.28125 75.984375 \nL -11.140625 75.984375 \nL -2.59375 65.96875 \nL -11.140625 55.953125 \nL -17.28125 55.953125 \nL -10.84375 63.53125 \nz\n\" id=\"DejaVuSans-8407\"/>\n      <path d=\"M 7.171875 54.6875 \nL 16.703125 54.6875 \nL 24.703125 8.203125 \nL 50.875 54.6875 \nL 60.40625 54.6875 \nL 29.296875 0 \nL 17.1875 0 \nz\n\" id=\"DejaVuSans-Oblique-118\"/>\n     </defs>\n     <use transform=\"translate(91.628174 12.015625)\" xlink:href=\"#DejaVuSans-8407\"/>\n     <use transform=\"translate(0 0.78125)\" xlink:href=\"#DejaVuSans-Oblique-118\"/>\n     <use transform=\"translate(59.179688 -15.625)scale(0.7)\" xlink:href=\"#DejaVuSans-49\"/>\n    </g>\n   </g>\n   <g id=\"text_18\">\n    <!-- $\\vec{v_2}$ -->\n    <g style=\"fill:#1190ff;\" transform=\"translate(335.433776 155.454545)scale(0.15 -0.15)\">\n     <use transform=\"translate(91.628174 12.015625)\" xlink:href=\"#DejaVuSans-8407\"/>\n     <use transform=\"translate(0 0.78125)\" xlink:href=\"#DejaVuSans-Oblique-118\"/>\n     <use transform=\"translate(59.179688 -15.625)scale(0.7)\" xlink:href=\"#DejaVuSans-50\"/>\n    </g>\n   </g>\n  </g>\n  <g id=\"axes_2\">\n   <g id=\"patch_7\">\n    <path d=\"M 44.845313 659.52 \nL 491.245312 659.52 \nL 491.245312 363.010909 \nL 44.845313 363.010909 \nz\n\" style=\"fill:#e5e5e5;\"/>\n   </g>\n   <g id=\"matplotlib.axis_3\">\n    <g id=\"xtick_8\">\n     <g id=\"line2d_35\">\n      <path clip-path=\"url(#pb45a537d19)\" d=\"M 65.13612 659.52 \nL 65.13612 363.010909 \n\" style=\"fill:none;stroke:#ffffff;stroke-linecap:square;stroke-width:0.8;\"/>\n     </g>\n     <g id=\"line2d_36\">\n      <g>\n       <use style=\"fill:#555555;stroke:#555555;stroke-width:0.8;\" x=\"65.13612\" xlink:href=\"#m682b564757\" y=\"659.52\"/>\n      </g>\n     </g>\n     <g id=\"text_19\">\n      <!-- −2.0 -->\n      <g style=\"fill:#555555;\" transform=\"translate(52.994714 674.118437)scale(0.1 -0.1)\">\n       <use xlink:href=\"#DejaVuSans-8722\"/>\n       <use x=\"83.789062\" xlink:href=\"#DejaVuSans-50\"/>\n       <use x=\"147.412109\" xlink:href=\"#DejaVuSans-46\"/>\n       <use x=\"179.199219\" xlink:href=\"#DejaVuSans-48\"/>\n      </g>\n     </g>\n    </g>\n    <g id=\"xtick_9\">\n     <g id=\"line2d_37\">\n      <path clip-path=\"url(#pb45a537d19)\" d=\"M 115.863418 659.52 \nL 115.863418 363.010909 \n\" style=\"fill:none;stroke:#ffffff;stroke-linecap:square;stroke-width:0.8;\"/>\n     </g>\n     <g id=\"line2d_38\">\n      <g>\n       <use style=\"fill:#555555;stroke:#555555;stroke-width:0.8;\" x=\"115.863418\" xlink:href=\"#m682b564757\" y=\"659.52\"/>\n      </g>\n     </g>\n     <g id=\"text_20\">\n      <!-- −1.5 -->\n      <g style=\"fill:#555555;\" transform=\"translate(103.722012 674.118437)scale(0.1 -0.1)\">\n       <use xlink:href=\"#DejaVuSans-8722\"/>\n       <use x=\"83.789062\" xlink:href=\"#DejaVuSans-49\"/>\n       <use x=\"147.412109\" xlink:href=\"#DejaVuSans-46\"/>\n       <use x=\"179.199219\" xlink:href=\"#DejaVuSans-53\"/>\n      </g>\n     </g>\n    </g>\n    <g id=\"xtick_10\">\n     <g id=\"line2d_39\">\n      <path clip-path=\"url(#pb45a537d19)\" d=\"M 166.590716 659.52 \nL 166.590716 363.010909 \n\" style=\"fill:none;stroke:#ffffff;stroke-linecap:square;stroke-width:0.8;\"/>\n     </g>\n     <g id=\"line2d_40\">\n      <g>\n       <use style=\"fill:#555555;stroke:#555555;stroke-width:0.8;\" x=\"166.590716\" xlink:href=\"#m682b564757\" y=\"659.52\"/>\n      </g>\n     </g>\n     <g id=\"text_21\">\n      <!-- −1.0 -->\n      <g style=\"fill:#555555;\" transform=\"translate(154.44931 674.118437)scale(0.1 -0.1)\">\n       <use xlink:href=\"#DejaVuSans-8722\"/>\n       <use x=\"83.789062\" xlink:href=\"#DejaVuSans-49\"/>\n       <use x=\"147.412109\" xlink:href=\"#DejaVuSans-46\"/>\n       <use x=\"179.199219\" xlink:href=\"#DejaVuSans-48\"/>\n      </g>\n     </g>\n    </g>\n    <g id=\"xtick_11\">\n     <g id=\"line2d_41\">\n      <path clip-path=\"url(#pb45a537d19)\" d=\"M 217.318014 659.52 \nL 217.318014 363.010909 \n\" style=\"fill:none;stroke:#ffffff;stroke-linecap:square;stroke-width:0.8;\"/>\n     </g>\n     <g id=\"line2d_42\">\n      <g>\n       <use style=\"fill:#555555;stroke:#555555;stroke-width:0.8;\" x=\"217.318014\" xlink:href=\"#m682b564757\" y=\"659.52\"/>\n      </g>\n     </g>\n     <g id=\"text_22\">\n      <!-- −0.5 -->\n      <g style=\"fill:#555555;\" transform=\"translate(205.176608 674.118437)scale(0.1 -0.1)\">\n       <use xlink:href=\"#DejaVuSans-8722\"/>\n       <use x=\"83.789062\" xlink:href=\"#DejaVuSans-48\"/>\n       <use x=\"147.412109\" xlink:href=\"#DejaVuSans-46\"/>\n       <use x=\"179.199219\" xlink:href=\"#DejaVuSans-53\"/>\n      </g>\n     </g>\n    </g>\n    <g id=\"xtick_12\">\n     <g id=\"line2d_43\">\n      <path clip-path=\"url(#pb45a537d19)\" d=\"M 268.045313 659.52 \nL 268.045313 363.010909 \n\" style=\"fill:none;stroke:#ffffff;stroke-linecap:square;stroke-width:0.8;\"/>\n     </g>\n     <g id=\"line2d_44\">\n      <g>\n       <use style=\"fill:#555555;stroke:#555555;stroke-width:0.8;\" x=\"268.045313\" xlink:href=\"#m682b564757\" y=\"659.52\"/>\n      </g>\n     </g>\n     <g id=\"text_23\">\n      <!-- 0.0 -->\n      <g style=\"fill:#555555;\" transform=\"translate(260.09375 674.118437)scale(0.1 -0.1)\">\n       <use xlink:href=\"#DejaVuSans-48\"/>\n       <use x=\"63.623047\" xlink:href=\"#DejaVuSans-46\"/>\n       <use x=\"95.410156\" xlink:href=\"#DejaVuSans-48\"/>\n      </g>\n     </g>\n    </g>\n    <g id=\"xtick_13\">\n     <g id=\"line2d_45\">\n      <path clip-path=\"url(#pb45a537d19)\" d=\"M 318.772611 659.52 \nL 318.772611 363.010909 \n\" style=\"fill:none;stroke:#ffffff;stroke-linecap:square;stroke-width:0.8;\"/>\n     </g>\n     <g id=\"line2d_46\">\n      <g>\n       <use style=\"fill:#555555;stroke:#555555;stroke-width:0.8;\" x=\"318.772611\" xlink:href=\"#m682b564757\" y=\"659.52\"/>\n      </g>\n     </g>\n     <g id=\"text_24\">\n      <!-- 0.5 -->\n      <g style=\"fill:#555555;\" transform=\"translate(310.821048 674.118437)scale(0.1 -0.1)\">\n       <use xlink:href=\"#DejaVuSans-48\"/>\n       <use x=\"63.623047\" xlink:href=\"#DejaVuSans-46\"/>\n       <use x=\"95.410156\" xlink:href=\"#DejaVuSans-53\"/>\n      </g>\n     </g>\n    </g>\n    <g id=\"xtick_14\">\n     <g id=\"line2d_47\">\n      <path clip-path=\"url(#pb45a537d19)\" d=\"M 369.499909 659.52 \nL 369.499909 363.010909 \n\" style=\"fill:none;stroke:#ffffff;stroke-linecap:square;stroke-width:0.8;\"/>\n     </g>\n     <g id=\"line2d_48\">\n      <g>\n       <use style=\"fill:#555555;stroke:#555555;stroke-width:0.8;\" x=\"369.499909\" xlink:href=\"#m682b564757\" y=\"659.52\"/>\n      </g>\n     </g>\n     <g id=\"text_25\">\n      <!-- 1.0 -->\n      <g style=\"fill:#555555;\" transform=\"translate(361.548346 674.118437)scale(0.1 -0.1)\">\n       <use xlink:href=\"#DejaVuSans-49\"/>\n       <use x=\"63.623047\" xlink:href=\"#DejaVuSans-46\"/>\n       <use x=\"95.410156\" xlink:href=\"#DejaVuSans-48\"/>\n      </g>\n     </g>\n    </g>\n    <g id=\"xtick_15\">\n     <g id=\"line2d_49\">\n      <path clip-path=\"url(#pb45a537d19)\" d=\"M 420.227207 659.52 \nL 420.227207 363.010909 \n\" style=\"fill:none;stroke:#ffffff;stroke-linecap:square;stroke-width:0.8;\"/>\n     </g>\n     <g id=\"line2d_50\">\n      <g>\n       <use style=\"fill:#555555;stroke:#555555;stroke-width:0.8;\" x=\"420.227207\" xlink:href=\"#m682b564757\" y=\"659.52\"/>\n      </g>\n     </g>\n     <g id=\"text_26\">\n      <!-- 1.5 -->\n      <g style=\"fill:#555555;\" transform=\"translate(412.275644 674.118437)scale(0.1 -0.1)\">\n       <use xlink:href=\"#DejaVuSans-49\"/>\n       <use x=\"63.623047\" xlink:href=\"#DejaVuSans-46\"/>\n       <use x=\"95.410156\" xlink:href=\"#DejaVuSans-53\"/>\n      </g>\n     </g>\n    </g>\n    <g id=\"xtick_16\">\n     <g id=\"line2d_51\">\n      <path clip-path=\"url(#pb45a537d19)\" d=\"M 470.954505 659.52 \nL 470.954505 363.010909 \n\" style=\"fill:none;stroke:#ffffff;stroke-linecap:square;stroke-width:0.8;\"/>\n     </g>\n     <g id=\"line2d_52\">\n      <g>\n       <use style=\"fill:#555555;stroke:#555555;stroke-width:0.8;\" x=\"470.954505\" xlink:href=\"#m682b564757\" y=\"659.52\"/>\n      </g>\n     </g>\n     <g id=\"text_27\">\n      <!-- 2.0 -->\n      <g style=\"fill:#555555;\" transform=\"translate(463.002943 674.118437)scale(0.1 -0.1)\">\n       <use xlink:href=\"#DejaVuSans-50\"/>\n       <use x=\"63.623047\" xlink:href=\"#DejaVuSans-46\"/>\n       <use x=\"95.410156\" xlink:href=\"#DejaVuSans-48\"/>\n      </g>\n     </g>\n    </g>\n   </g>\n   <g id=\"matplotlib.axis_4\">\n    <g id=\"ytick_10\">\n     <g id=\"line2d_53\">\n      <path clip-path=\"url(#pb45a537d19)\" d=\"M 44.845313 612.720051 \nL 491.245312 612.720051 \n\" style=\"fill:none;stroke:#ffffff;stroke-linecap:square;stroke-width:0.8;\"/>\n     </g>\n     <g id=\"line2d_54\">\n      <g>\n       <use style=\"fill:#555555;stroke:#555555;stroke-width:0.8;\" x=\"44.845313\" xlink:href=\"#m74e7bce9ea\" y=\"612.720051\"/>\n      </g>\n     </g>\n     <g id=\"text_28\">\n      <!-- −1.0 -->\n      <g style=\"fill:#555555;\" transform=\"translate(13.5625 616.51927)scale(0.1 -0.1)\">\n       <use xlink:href=\"#DejaVuSans-8722\"/>\n       <use x=\"83.789062\" xlink:href=\"#DejaVuSans-49\"/>\n       <use x=\"147.412109\" xlink:href=\"#DejaVuSans-46\"/>\n       <use x=\"179.199219\" xlink:href=\"#DejaVuSans-48\"/>\n      </g>\n     </g>\n    </g>\n    <g id=\"ytick_11\">\n     <g id=\"line2d_55\">\n      <path clip-path=\"url(#pb45a537d19)\" d=\"M 44.845313 561.992753 \nL 491.245312 561.992753 \n\" style=\"fill:none;stroke:#ffffff;stroke-linecap:square;stroke-width:0.8;\"/>\n     </g>\n     <g id=\"line2d_56\">\n      <g>\n       <use style=\"fill:#555555;stroke:#555555;stroke-width:0.8;\" x=\"44.845313\" xlink:href=\"#m74e7bce9ea\" y=\"561.992753\"/>\n      </g>\n     </g>\n     <g id=\"text_29\">\n      <!-- −0.5 -->\n      <g style=\"fill:#555555;\" transform=\"translate(13.5625 565.791971)scale(0.1 -0.1)\">\n       <use xlink:href=\"#DejaVuSans-8722\"/>\n       <use x=\"83.789062\" xlink:href=\"#DejaVuSans-48\"/>\n       <use x=\"147.412109\" xlink:href=\"#DejaVuSans-46\"/>\n       <use x=\"179.199219\" xlink:href=\"#DejaVuSans-53\"/>\n      </g>\n     </g>\n    </g>\n    <g id=\"ytick_12\">\n     <g id=\"line2d_57\">\n      <path clip-path=\"url(#pb45a537d19)\" d=\"M 44.845313 511.265455 \nL 491.245312 511.265455 \n\" style=\"fill:none;stroke:#ffffff;stroke-linecap:square;stroke-width:0.8;\"/>\n     </g>\n     <g id=\"line2d_58\">\n      <g>\n       <use style=\"fill:#555555;stroke:#555555;stroke-width:0.8;\" x=\"44.845313\" xlink:href=\"#m74e7bce9ea\" y=\"511.265455\"/>\n      </g>\n     </g>\n     <g id=\"text_30\">\n      <!-- 0.0 -->\n      <g style=\"fill:#555555;\" transform=\"translate(21.942188 515.064673)scale(0.1 -0.1)\">\n       <use xlink:href=\"#DejaVuSans-48\"/>\n       <use x=\"63.623047\" xlink:href=\"#DejaVuSans-46\"/>\n       <use x=\"95.410156\" xlink:href=\"#DejaVuSans-48\"/>\n      </g>\n     </g>\n    </g>\n    <g id=\"ytick_13\">\n     <g id=\"line2d_59\">\n      <path clip-path=\"url(#pb45a537d19)\" d=\"M 44.845313 460.538156 \nL 491.245312 460.538156 \n\" style=\"fill:none;stroke:#ffffff;stroke-linecap:square;stroke-width:0.8;\"/>\n     </g>\n     <g id=\"line2d_60\">\n      <g>\n       <use style=\"fill:#555555;stroke:#555555;stroke-width:0.8;\" x=\"44.845313\" xlink:href=\"#m74e7bce9ea\" y=\"460.538156\"/>\n      </g>\n     </g>\n     <g id=\"text_31\">\n      <!-- 0.5 -->\n      <g style=\"fill:#555555;\" transform=\"translate(21.942188 464.337375)scale(0.1 -0.1)\">\n       <use xlink:href=\"#DejaVuSans-48\"/>\n       <use x=\"63.623047\" xlink:href=\"#DejaVuSans-46\"/>\n       <use x=\"95.410156\" xlink:href=\"#DejaVuSans-53\"/>\n      </g>\n     </g>\n    </g>\n    <g id=\"ytick_14\">\n     <g id=\"line2d_61\">\n      <path clip-path=\"url(#pb45a537d19)\" d=\"M 44.845313 409.810858 \nL 491.245312 409.810858 \n\" style=\"fill:none;stroke:#ffffff;stroke-linecap:square;stroke-width:0.8;\"/>\n     </g>\n     <g id=\"line2d_62\">\n      <g>\n       <use style=\"fill:#555555;stroke:#555555;stroke-width:0.8;\" x=\"44.845313\" xlink:href=\"#m74e7bce9ea\" y=\"409.810858\"/>\n      </g>\n     </g>\n     <g id=\"text_32\">\n      <!-- 1.0 -->\n      <g style=\"fill:#555555;\" transform=\"translate(21.942188 413.610077)scale(0.1 -0.1)\">\n       <use xlink:href=\"#DejaVuSans-49\"/>\n       <use x=\"63.623047\" xlink:href=\"#DejaVuSans-46\"/>\n       <use x=\"95.410156\" xlink:href=\"#DejaVuSans-48\"/>\n      </g>\n     </g>\n    </g>\n   </g>\n   <g id=\"Quiver_2\">\n    <path clip-path=\"url(#pb45a537d19)\" d=\"M 268.045313 509.591455 \nL 455.888505 509.591455 \nL 454.214505 506.243455 \nL 470.954505 511.265455 \nL 454.214505 516.287455 \nL 455.888505 512.939455 \nL 268.045313 512.939455 \nL 268.045313 509.591455 \n\" style=\"fill:#ff9a13;\"/>\n    <path clip-path=\"url(#pb45a537d19)\" d=\"M 269.719313 511.265455 \nL 268.882313 509.815728 \nL 267.208313 509.815728 \nL 266.371313 511.265455 \nL 267.208313 512.715181 \nL 268.882313 512.715181 \nL 269.719313 511.265455 \nL 268.882313 509.815728 \n\" style=\"fill:#ff9a13;\"/>\n   </g>\n   <g id=\"line2d_63\">\n    <path clip-path=\"url(#pb45a537d19)\" d=\"M 268.045313 511.265455 \nL 470.954403 511.265455 \nL 268.045313 511.265455 \n\" style=\"fill:none;stroke:#ff9a13;stroke-linecap:square;stroke-width:1.5;\"/>\n   </g>\n   <g id=\"line2d_64\">\n    <path clip-path=\"url(#pb45a537d19)\" d=\"M 268.045313 511.265455 \nL 65.136222 511.265455 \nL 268.045313 511.265455 \n\" style=\"fill:none;stroke:#ff9a13;stroke-linecap:square;stroke-width:1.5;\"/>\n   </g>\n   <g id=\"patch_8\">\n    <path d=\"M 44.845313 659.52 \nL 44.845313 363.010909 \n\" style=\"fill:none;stroke:#ffffff;stroke-linecap:square;stroke-linejoin:miter;\"/>\n   </g>\n   <g id=\"patch_9\">\n    <path d=\"M 491.245312 659.52 \nL 491.245312 363.010909 \n\" style=\"fill:none;stroke:#ffffff;stroke-linecap:square;stroke-linejoin:miter;\"/>\n   </g>\n   <g id=\"patch_10\">\n    <path d=\"M 44.845313 659.52 \nL 491.245313 659.52 \n\" style=\"fill:none;stroke:#ffffff;stroke-linecap:square;stroke-linejoin:miter;\"/>\n   </g>\n   <g id=\"patch_11\">\n    <path d=\"M 44.845313 363.010909 \nL 491.245313 363.010909 \n\" style=\"fill:none;stroke:#ffffff;stroke-linecap:square;stroke-linejoin:miter;\"/>\n   </g>\n   <g id=\"text_33\">\n    <!-- $\\vec{\\sigma_1 u_1}$ -->\n    <g style=\"fill:#ff9a13;\" transform=\"translate(369.499909 511.265455)scale(0.15 -0.15)\">\n     <defs>\n      <path d=\"M 34.671875 47.5625 \nQ 27.25 47.5625 22.21875 42.1875 \nQ 16.890625 36.578125 15.140625 27.296875 \nQ 13.1875 17.484375 16.3125 11.8125 \nQ 19.390625 6.203125 26.65625 6.203125 \nQ 33.84375 6.203125 39.109375 11.859375 \nQ 44.4375 17.53125 46.34375 27.296875 \nQ 48.046875 36.234375 45.015625 42.1875 \nQ 42.1875 47.5625 34.671875 47.5625 \nz\nM 36.078125 54.734375 \nL 65.921875 54.6875 \nL 64.15625 45.703125 \nL 54.109375 45.703125 \nQ 57.90625 38.09375 55.859375 27.296875 \nQ 53.21875 13.875 45.0625 6.25 \nQ 36.859375 -1.421875 25.140625 -1.421875 \nQ 13.375 -1.421875 8.203125 6.25 \nQ 3.03125 13.875 5.671875 27.296875 \nQ 8.25 40.765625 16.40625 48.390625 \nQ 23.1875 54.734375 36.078125 54.734375 \nz\n\" id=\"DejaVuSans-Oblique-963\"/>\n      <path d=\"M 6.6875 21.6875 \nL 13.09375 54.6875 \nL 22.125 54.6875 \nL 15.71875 22.015625 \nQ 15.234375 19.625 15.015625 17.921875 \nQ 14.796875 16.21875 14.796875 15.09375 \nQ 14.796875 10.9375 17.328125 8.65625 \nQ 19.875 6.390625 24.515625 6.390625 \nQ 31.734375 6.390625 37 11.265625 \nQ 42.28125 16.15625 43.890625 24.421875 \nL 49.90625 54.6875 \nL 58.890625 54.6875 \nL 48.296875 0 \nL 39.3125 0 \nL 41.109375 8.59375 \nQ 37.3125 3.8125 32.0625 1.1875 \nQ 26.8125 -1.421875 20.90625 -1.421875 \nQ 13.71875 -1.421875 9.71875 2.515625 \nQ 5.71875 6.453125 5.71875 13.484375 \nQ 5.71875 14.9375 5.953125 17.140625 \nQ 6.203125 19.34375 6.6875 21.6875 \nz\n\" id=\"DejaVuSans-Oblique-117\"/>\n     </defs>\n     <use transform=\"translate(163.340332 12.015625)\" xlink:href=\"#DejaVuSans-8407\"/>\n     <use transform=\"translate(0 0.734375)\" xlink:href=\"#DejaVuSans-Oblique-963\"/>\n     <use transform=\"translate(63.378906 -15.671875)scale(0.7)\" xlink:href=\"#DejaVuSans-49\"/>\n     <use transform=\"translate(110.649414 0.734375)\" xlink:href=\"#DejaVuSans-Oblique-117\"/>\n     <use transform=\"translate(174.02832 -15.671875)scale(0.7)\" xlink:href=\"#DejaVuSans-49\"/>\n    </g>\n   </g>\n   <g id=\"text_34\">\n    <!-- $\\vec{\\sigma_2 u_2}$ -->\n    <g style=\"fill:#ff9a13;\" transform=\"translate(268.045313 511.265455)scale(0.15 -0.15)\">\n     <use transform=\"translate(163.340332 12.015625)\" xlink:href=\"#DejaVuSans-8407\"/>\n     <use transform=\"translate(0 0.734375)\" xlink:href=\"#DejaVuSans-Oblique-963\"/>\n     <use transform=\"translate(63.378906 -15.671875)scale(0.7)\" xlink:href=\"#DejaVuSans-50\"/>\n     <use transform=\"translate(110.649414 0.734375)\" xlink:href=\"#DejaVuSans-Oblique-117\"/>\n     <use transform=\"translate(174.02832 -15.671875)scale(0.7)\" xlink:href=\"#DejaVuSans-50\"/>\n    </g>\n   </g>\n  </g>\n </g>\n <defs>\n  <clipPath id=\"p1069db9a94\">\n   <rect height=\"296.509091\" width=\"446.4\" x=\"44.845313\" y=\"7.2\"/>\n  </clipPath>\n  <clipPath id=\"pb45a537d19\">\n   <rect height=\"296.509091\" width=\"446.4\" x=\"44.845313\" y=\"363.010909\"/>\n  </clipPath>\n </defs>\n</svg>\n",
      "image/png": "[encoded data removed]"
     },
     "metadata": {}
    },
    {
     "output_type": "display_data",
     "data": {
      "text/plain": "<Figure size 576x864 with 2 Axes>",
      "image/svg+xml": "<?xml version=\"1.0\" encoding=\"utf-8\" standalone=\"no\"?>\n<!DOCTYPE svg PUBLIC \"-//W3C//DTD SVG 1.1//EN\"\n  \"http://www.w3.org/Graphics/SVG/1.1/DTD/svg11.dtd\">\n<!-- Created with matplotlib (https://matplotlib.org/) -->\n<svg height=\"683.398125pt\" version=\"1.1\" viewBox=\"0 0 498.445312 683.398125\" width=\"498.445312pt\" xmlns=\"http://www.w3.org/2000/svg\" xmlns:xlink=\"http://www.w3.org/1999/xlink\">\n <metadata>\n  <rdf:RDF xmlns:cc=\"http://creativecommons.org/ns#\" xmlns:dc=\"http://purl.org/dc/elements/1.1/\" xmlns:rdf=\"http://www.w3.org/1999/02/22-rdf-syntax-ns#\">\n   <cc:Work>\n    <dc:type rdf:resource=\"http://purl.org/dc/dcmitype/StillImage\"/>\n    <dc:date>2021-01-25T17:05:24.382081</dc:date>\n    <dc:format>image/svg+xml</dc:format>\n    <dc:creator>\n     <cc:Agent>\n      <dc:title>Matplotlib v3.3.3, https://matplotlib.org/</dc:title>\n     </cc:Agent>\n    </dc:creator>\n   </cc:Work>\n  </rdf:RDF>\n </metadata>\n <defs>\n  <style type=\"text/css\">*{stroke-linecap:butt;stroke-linejoin:round;}</style>\n </defs>\n <g id=\"figure_1\">\n  <g id=\"patch_1\">\n   <path d=\"M 0 683.398125 \nL 498.445312 683.398125 \nL 498.445312 -0 \nL 0 -0 \nz\n\" style=\"fill:#ffffff;\"/>\n  </g>\n  <g id=\"axes_1\">\n   <g id=\"patch_2\">\n    <path d=\"M 44.845313 303.709091 \nL 491.245312 303.709091 \nL 491.245312 7.2 \nL 44.845313 7.2 \nz\n\" style=\"fill:#e5e5e5;\"/>\n   </g>\n   <g id=\"matplotlib.axis_1\">\n    <g id=\"xtick_1\">\n     <g id=\"line2d_1\">\n      <path clip-path=\"url(#pe5f3423b56)\" d=\"M 65.879922 303.709091 \nL 65.879922 7.2 \n\" style=\"fill:none;stroke:#ffffff;stroke-linecap:square;stroke-width:0.8;\"/>\n     </g>\n     <g id=\"line2d_2\">\n      <defs>\n       <path d=\"M 0 0 \nL 0 3.5 \n\" id=\"ma6be499346\" style=\"stroke:#555555;stroke-width:0.8;\"/>\n      </defs>\n      <g>\n       <use style=\"fill:#555555;stroke:#555555;stroke-width:0.8;\" x=\"65.879922\" xlink:href=\"#ma6be499346\" y=\"303.709091\"/>\n      </g>\n     </g>\n     <g id=\"text_1\">\n      <!-- −1.5 -->\n      <g style=\"fill:#555555;\" transform=\"translate(53.738516 318.307528)scale(0.1 -0.1)\">\n       <defs>\n        <path d=\"M 10.59375 35.5 \nL 73.1875 35.5 \nL 73.1875 27.203125 \nL 10.59375 27.203125 \nz\n\" id=\"DejaVuSans-8722\"/>\n        <path d=\"M 12.40625 8.296875 \nL 28.515625 8.296875 \nL 28.515625 63.921875 \nL 10.984375 60.40625 \nL 10.984375 69.390625 \nL 28.421875 72.90625 \nL 38.28125 72.90625 \nL 38.28125 8.296875 \nL 54.390625 8.296875 \nL 54.390625 0 \nL 12.40625 0 \nz\n\" id=\"DejaVuSans-49\"/>\n        <path d=\"M 10.6875 12.40625 \nL 21 12.40625 \nL 21 0 \nL 10.6875 0 \nz\n\" id=\"DejaVuSans-46\"/>\n        <path d=\"M 10.796875 72.90625 \nL 49.515625 72.90625 \nL 49.515625 64.59375 \nL 19.828125 64.59375 \nL 19.828125 46.734375 \nQ 21.96875 47.46875 24.109375 47.828125 \nQ 26.265625 48.1875 28.421875 48.1875 \nQ 40.625 48.1875 47.75 41.5 \nQ 54.890625 34.8125 54.890625 23.390625 \nQ 54.890625 11.625 47.5625 5.09375 \nQ 40.234375 -1.421875 26.90625 -1.421875 \nQ 22.3125 -1.421875 17.546875 -0.640625 \nQ 12.796875 0.140625 7.71875 1.703125 \nL 7.71875 11.625 \nQ 12.109375 9.234375 16.796875 8.0625 \nQ 21.484375 6.890625 26.703125 6.890625 \nQ 35.15625 6.890625 40.078125 11.328125 \nQ 45.015625 15.765625 45.015625 23.390625 \nQ 45.015625 31 40.078125 35.4375 \nQ 35.15625 39.890625 26.703125 39.890625 \nQ 22.75 39.890625 18.8125 39.015625 \nQ 14.890625 38.140625 10.796875 36.28125 \nz\n\" id=\"DejaVuSans-53\"/>\n       </defs>\n       <use xlink:href=\"#DejaVuSans-8722\"/>\n       <use x=\"83.789062\" xlink:href=\"#DejaVuSans-49\"/>\n       <use x=\"147.412109\" xlink:href=\"#DejaVuSans-46\"/>\n       <use x=\"179.199219\" xlink:href=\"#DejaVuSans-53\"/>\n      </g>\n     </g>\n    </g>\n    <g id=\"xtick_2\">\n     <g id=\"line2d_3\">\n      <path clip-path=\"url(#pe5f3423b56)\" d=\"M 133.268385 303.709091 \nL 133.268385 7.2 \n\" style=\"fill:none;stroke:#ffffff;stroke-linecap:square;stroke-width:0.8;\"/>\n     </g>\n     <g id=\"line2d_4\">\n      <g>\n       <use style=\"fill:#555555;stroke:#555555;stroke-width:0.8;\" x=\"133.268385\" xlink:href=\"#ma6be499346\" y=\"303.709091\"/>\n      </g>\n     </g>\n     <g id=\"text_2\">\n      <!-- −1.0 -->\n      <g style=\"fill:#555555;\" transform=\"translate(121.126979 318.307528)scale(0.1 -0.1)\">\n       <defs>\n        <path d=\"M 31.78125 66.40625 \nQ 24.171875 66.40625 20.328125 58.90625 \nQ 16.5 51.421875 16.5 36.375 \nQ 16.5 21.390625 20.328125 13.890625 \nQ 24.171875 6.390625 31.78125 6.390625 \nQ 39.453125 6.390625 43.28125 13.890625 \nQ 47.125 21.390625 47.125 36.375 \nQ 47.125 51.421875 43.28125 58.90625 \nQ 39.453125 66.40625 31.78125 66.40625 \nz\nM 31.78125 74.21875 \nQ 44.046875 74.21875 50.515625 64.515625 \nQ 56.984375 54.828125 56.984375 36.375 \nQ 56.984375 17.96875 50.515625 8.265625 \nQ 44.046875 -1.421875 31.78125 -1.421875 \nQ 19.53125 -1.421875 13.0625 8.265625 \nQ 6.59375 17.96875 6.59375 36.375 \nQ 6.59375 54.828125 13.0625 64.515625 \nQ 19.53125 74.21875 31.78125 74.21875 \nz\n\" id=\"DejaVuSans-48\"/>\n       </defs>\n       <use xlink:href=\"#DejaVuSans-8722\"/>\n       <use x=\"83.789062\" xlink:href=\"#DejaVuSans-49\"/>\n       <use x=\"147.412109\" xlink:href=\"#DejaVuSans-46\"/>\n       <use x=\"179.199219\" xlink:href=\"#DejaVuSans-48\"/>\n      </g>\n     </g>\n    </g>\n    <g id=\"xtick_3\">\n     <g id=\"line2d_5\">\n      <path clip-path=\"url(#pe5f3423b56)\" d=\"M 200.656849 303.709091 \nL 200.656849 7.2 \n\" style=\"fill:none;stroke:#ffffff;stroke-linecap:square;stroke-width:0.8;\"/>\n     </g>\n     <g id=\"line2d_6\">\n      <g>\n       <use style=\"fill:#555555;stroke:#555555;stroke-width:0.8;\" x=\"200.656849\" xlink:href=\"#ma6be499346\" y=\"303.709091\"/>\n      </g>\n     </g>\n     <g id=\"text_3\">\n      <!-- −0.5 -->\n      <g style=\"fill:#555555;\" transform=\"translate(188.515443 318.307528)scale(0.1 -0.1)\">\n       <use xlink:href=\"#DejaVuSans-8722\"/>\n       <use x=\"83.789062\" xlink:href=\"#DejaVuSans-48\"/>\n       <use x=\"147.412109\" xlink:href=\"#DejaVuSans-46\"/>\n       <use x=\"179.199219\" xlink:href=\"#DejaVuSans-53\"/>\n      </g>\n     </g>\n    </g>\n    <g id=\"xtick_4\">\n     <g id=\"line2d_7\">\n      <path clip-path=\"url(#pe5f3423b56)\" d=\"M 268.045313 303.709091 \nL 268.045313 7.2 \n\" style=\"fill:none;stroke:#ffffff;stroke-linecap:square;stroke-width:0.8;\"/>\n     </g>\n     <g id=\"line2d_8\">\n      <g>\n       <use style=\"fill:#555555;stroke:#555555;stroke-width:0.8;\" x=\"268.045313\" xlink:href=\"#ma6be499346\" y=\"303.709091\"/>\n      </g>\n     </g>\n     <g id=\"text_4\">\n      <!-- 0.0 -->\n      <g style=\"fill:#555555;\" transform=\"translate(260.09375 318.307528)scale(0.1 -0.1)\">\n       <use xlink:href=\"#DejaVuSans-48\"/>\n       <use x=\"63.623047\" xlink:href=\"#DejaVuSans-46\"/>\n       <use x=\"95.410156\" xlink:href=\"#DejaVuSans-48\"/>\n      </g>\n     </g>\n    </g>\n    <g id=\"xtick_5\">\n     <g id=\"line2d_9\">\n      <path clip-path=\"url(#pe5f3423b56)\" d=\"M 335.433776 303.709091 \nL 335.433776 7.2 \n\" style=\"fill:none;stroke:#ffffff;stroke-linecap:square;stroke-width:0.8;\"/>\n     </g>\n     <g id=\"line2d_10\">\n      <g>\n       <use style=\"fill:#555555;stroke:#555555;stroke-width:0.8;\" x=\"335.433776\" xlink:href=\"#ma6be499346\" y=\"303.709091\"/>\n      </g>\n     </g>\n     <g id=\"text_5\">\n      <!-- 0.5 -->\n      <g style=\"fill:#555555;\" transform=\"translate(327.482214 318.307528)scale(0.1 -0.1)\">\n       <use xlink:href=\"#DejaVuSans-48\"/>\n       <use x=\"63.623047\" xlink:href=\"#DejaVuSans-46\"/>\n       <use x=\"95.410156\" xlink:href=\"#DejaVuSans-53\"/>\n      </g>\n     </g>\n    </g>\n    <g id=\"xtick_6\">\n     <g id=\"line2d_11\">\n      <path clip-path=\"url(#pe5f3423b56)\" d=\"M 402.82224 303.709091 \nL 402.82224 7.2 \n\" style=\"fill:none;stroke:#ffffff;stroke-linecap:square;stroke-width:0.8;\"/>\n     </g>\n     <g id=\"line2d_12\">\n      <g>\n       <use style=\"fill:#555555;stroke:#555555;stroke-width:0.8;\" x=\"402.82224\" xlink:href=\"#ma6be499346\" y=\"303.709091\"/>\n      </g>\n     </g>\n     <g id=\"text_6\">\n      <!-- 1.0 -->\n      <g style=\"fill:#555555;\" transform=\"translate(394.870677 318.307528)scale(0.1 -0.1)\">\n       <use xlink:href=\"#DejaVuSans-49\"/>\n       <use x=\"63.623047\" xlink:href=\"#DejaVuSans-46\"/>\n       <use x=\"95.410156\" xlink:href=\"#DejaVuSans-48\"/>\n      </g>\n     </g>\n    </g>\n    <g id=\"xtick_7\">\n     <g id=\"line2d_13\">\n      <path clip-path=\"url(#pe5f3423b56)\" d=\"M 470.210703 303.709091 \nL 470.210703 7.2 \n\" style=\"fill:none;stroke:#ffffff;stroke-linecap:square;stroke-width:0.8;\"/>\n     </g>\n     <g id=\"line2d_14\">\n      <g>\n       <use style=\"fill:#555555;stroke:#555555;stroke-width:0.8;\" x=\"470.210703\" xlink:href=\"#ma6be499346\" y=\"303.709091\"/>\n      </g>\n     </g>\n     <g id=\"text_7\">\n      <!-- 1.5 -->\n      <g style=\"fill:#555555;\" transform=\"translate(462.259141 318.307528)scale(0.1 -0.1)\">\n       <use xlink:href=\"#DejaVuSans-49\"/>\n       <use x=\"63.623047\" xlink:href=\"#DejaVuSans-46\"/>\n       <use x=\"95.410156\" xlink:href=\"#DejaVuSans-53\"/>\n      </g>\n     </g>\n    </g>\n   </g>\n   <g id=\"matplotlib.axis_2\">\n    <g id=\"ytick_1\">\n     <g id=\"line2d_15\">\n      <path clip-path=\"url(#pe5f3423b56)\" d=\"M 44.845313 290.231472 \nL 491.245312 290.231472 \n\" style=\"fill:none;stroke:#ffffff;stroke-linecap:square;stroke-width:0.8;\"/>\n     </g>\n     <g id=\"line2d_16\">\n      <defs>\n       <path d=\"M 0 0 \nL -3.5 0 \n\" id=\"m5828795b87\" style=\"stroke:#555555;stroke-width:0.8;\"/>\n      </defs>\n      <g>\n       <use style=\"fill:#555555;stroke:#555555;stroke-width:0.8;\" x=\"44.845313\" xlink:href=\"#m5828795b87\" y=\"290.231472\"/>\n      </g>\n     </g>\n     <g id=\"text_8\">\n      <!-- −1.00 -->\n      <g style=\"fill:#555555;\" transform=\"translate(7.2 294.030691)scale(0.1 -0.1)\">\n       <use xlink:href=\"#DejaVuSans-8722\"/>\n       <use x=\"83.789062\" xlink:href=\"#DejaVuSans-49\"/>\n       <use x=\"147.412109\" xlink:href=\"#DejaVuSans-46\"/>\n       <use x=\"179.199219\" xlink:href=\"#DejaVuSans-48\"/>\n       <use x=\"242.822266\" xlink:href=\"#DejaVuSans-48\"/>\n      </g>\n     </g>\n    </g>\n    <g id=\"ytick_2\">\n     <g id=\"line2d_17\">\n      <path clip-path=\"url(#pe5f3423b56)\" d=\"M 44.845313 256.537241 \nL 491.245312 256.537241 \n\" style=\"fill:none;stroke:#ffffff;stroke-linecap:square;stroke-width:0.8;\"/>\n     </g>\n     <g id=\"line2d_18\">\n      <g>\n       <use style=\"fill:#555555;stroke:#555555;stroke-width:0.8;\" x=\"44.845313\" xlink:href=\"#m5828795b87\" y=\"256.537241\"/>\n      </g>\n     </g>\n     <g id=\"text_9\">\n      <!-- −0.75 -->\n      <g style=\"fill:#555555;\" transform=\"translate(7.2 260.336459)scale(0.1 -0.1)\">\n       <defs>\n        <path d=\"M 8.203125 72.90625 \nL 55.078125 72.90625 \nL 55.078125 68.703125 \nL 28.609375 0 \nL 18.3125 0 \nL 43.21875 64.59375 \nL 8.203125 64.59375 \nz\n\" id=\"DejaVuSans-55\"/>\n       </defs>\n       <use xlink:href=\"#DejaVuSans-8722\"/>\n       <use x=\"83.789062\" xlink:href=\"#DejaVuSans-48\"/>\n       <use x=\"147.412109\" xlink:href=\"#DejaVuSans-46\"/>\n       <use x=\"179.199219\" xlink:href=\"#DejaVuSans-55\"/>\n       <use x=\"242.822266\" xlink:href=\"#DejaVuSans-53\"/>\n      </g>\n     </g>\n    </g>\n    <g id=\"ytick_3\">\n     <g id=\"line2d_19\">\n      <path clip-path=\"url(#pe5f3423b56)\" d=\"M 44.845313 222.843009 \nL 491.245312 222.843009 \n\" style=\"fill:none;stroke:#ffffff;stroke-linecap:square;stroke-width:0.8;\"/>\n     </g>\n     <g id=\"line2d_20\">\n      <g>\n       <use style=\"fill:#555555;stroke:#555555;stroke-width:0.8;\" x=\"44.845313\" xlink:href=\"#m5828795b87\" y=\"222.843009\"/>\n      </g>\n     </g>\n     <g id=\"text_10\">\n      <!-- −0.50 -->\n      <g style=\"fill:#555555;\" transform=\"translate(7.2 226.642228)scale(0.1 -0.1)\">\n       <use xlink:href=\"#DejaVuSans-8722\"/>\n       <use x=\"83.789062\" xlink:href=\"#DejaVuSans-48\"/>\n       <use x=\"147.412109\" xlink:href=\"#DejaVuSans-46\"/>\n       <use x=\"179.199219\" xlink:href=\"#DejaVuSans-53\"/>\n       <use x=\"242.822266\" xlink:href=\"#DejaVuSans-48\"/>\n      </g>\n     </g>\n    </g>\n    <g id=\"ytick_4\">\n     <g id=\"line2d_21\">\n      <path clip-path=\"url(#pe5f3423b56)\" d=\"M 44.845313 189.148777 \nL 491.245312 189.148777 \n\" style=\"fill:none;stroke:#ffffff;stroke-linecap:square;stroke-width:0.8;\"/>\n     </g>\n     <g id=\"line2d_22\">\n      <g>\n       <use style=\"fill:#555555;stroke:#555555;stroke-width:0.8;\" x=\"44.845313\" xlink:href=\"#m5828795b87\" y=\"189.148777\"/>\n      </g>\n     </g>\n     <g id=\"text_11\">\n      <!-- −0.25 -->\n      <g style=\"fill:#555555;\" transform=\"translate(7.2 192.947996)scale(0.1 -0.1)\">\n       <defs>\n        <path d=\"M 19.1875 8.296875 \nL 53.609375 8.296875 \nL 53.609375 0 \nL 7.328125 0 \nL 7.328125 8.296875 \nQ 12.9375 14.109375 22.625 23.890625 \nQ 32.328125 33.6875 34.8125 36.53125 \nQ 39.546875 41.84375 41.421875 45.53125 \nQ 43.3125 49.21875 43.3125 52.78125 \nQ 43.3125 58.59375 39.234375 62.25 \nQ 35.15625 65.921875 28.609375 65.921875 \nQ 23.96875 65.921875 18.8125 64.3125 \nQ 13.671875 62.703125 7.8125 59.421875 \nL 7.8125 69.390625 \nQ 13.765625 71.78125 18.9375 73 \nQ 24.125 74.21875 28.421875 74.21875 \nQ 39.75 74.21875 46.484375 68.546875 \nQ 53.21875 62.890625 53.21875 53.421875 \nQ 53.21875 48.921875 51.53125 44.890625 \nQ 49.859375 40.875 45.40625 35.40625 \nQ 44.1875 33.984375 37.640625 27.21875 \nQ 31.109375 20.453125 19.1875 8.296875 \nz\n\" id=\"DejaVuSans-50\"/>\n       </defs>\n       <use xlink:href=\"#DejaVuSans-8722\"/>\n       <use x=\"83.789062\" xlink:href=\"#DejaVuSans-48\"/>\n       <use x=\"147.412109\" xlink:href=\"#DejaVuSans-46\"/>\n       <use x=\"179.199219\" xlink:href=\"#DejaVuSans-50\"/>\n       <use x=\"242.822266\" xlink:href=\"#DejaVuSans-53\"/>\n      </g>\n     </g>\n    </g>\n    <g id=\"ytick_5\">\n     <g id=\"line2d_23\">\n      <path clip-path=\"url(#pe5f3423b56)\" d=\"M 44.845313 155.454545 \nL 491.245312 155.454545 \n\" style=\"fill:none;stroke:#ffffff;stroke-linecap:square;stroke-width:0.8;\"/>\n     </g>\n     <g id=\"line2d_24\">\n      <g>\n       <use style=\"fill:#555555;stroke:#555555;stroke-width:0.8;\" x=\"44.845313\" xlink:href=\"#m5828795b87\" y=\"155.454545\"/>\n      </g>\n     </g>\n     <g id=\"text_12\">\n      <!-- 0.00 -->\n      <g style=\"fill:#555555;\" transform=\"translate(15.579688 159.253764)scale(0.1 -0.1)\">\n       <use xlink:href=\"#DejaVuSans-48\"/>\n       <use x=\"63.623047\" xlink:href=\"#DejaVuSans-46\"/>\n       <use x=\"95.410156\" xlink:href=\"#DejaVuSans-48\"/>\n       <use x=\"159.033203\" xlink:href=\"#DejaVuSans-48\"/>\n      </g>\n     </g>\n    </g>\n    <g id=\"ytick_6\">\n     <g id=\"line2d_25\">\n      <path clip-path=\"url(#pe5f3423b56)\" d=\"M 44.845313 121.760314 \nL 491.245312 121.760314 \n\" style=\"fill:none;stroke:#ffffff;stroke-linecap:square;stroke-width:0.8;\"/>\n     </g>\n     <g id=\"line2d_26\">\n      <g>\n       <use style=\"fill:#555555;stroke:#555555;stroke-width:0.8;\" x=\"44.845313\" xlink:href=\"#m5828795b87\" y=\"121.760314\"/>\n      </g>\n     </g>\n     <g id=\"text_13\">\n      <!-- 0.25 -->\n      <g style=\"fill:#555555;\" transform=\"translate(15.579688 125.559532)scale(0.1 -0.1)\">\n       <use xlink:href=\"#DejaVuSans-48\"/>\n       <use x=\"63.623047\" xlink:href=\"#DejaVuSans-46\"/>\n       <use x=\"95.410156\" xlink:href=\"#DejaVuSans-50\"/>\n       <use x=\"159.033203\" xlink:href=\"#DejaVuSans-53\"/>\n      </g>\n     </g>\n    </g>\n    <g id=\"ytick_7\">\n     <g id=\"line2d_27\">\n      <path clip-path=\"url(#pe5f3423b56)\" d=\"M 44.845313 88.066082 \nL 491.245312 88.066082 \n\" style=\"fill:none;stroke:#ffffff;stroke-linecap:square;stroke-width:0.8;\"/>\n     </g>\n     <g id=\"line2d_28\">\n      <g>\n       <use style=\"fill:#555555;stroke:#555555;stroke-width:0.8;\" x=\"44.845313\" xlink:href=\"#m5828795b87\" y=\"88.066082\"/>\n      </g>\n     </g>\n     <g id=\"text_14\">\n      <!-- 0.50 -->\n      <g style=\"fill:#555555;\" transform=\"translate(15.579688 91.865301)scale(0.1 -0.1)\">\n       <use xlink:href=\"#DejaVuSans-48\"/>\n       <use x=\"63.623047\" xlink:href=\"#DejaVuSans-46\"/>\n       <use x=\"95.410156\" xlink:href=\"#DejaVuSans-53\"/>\n       <use x=\"159.033203\" xlink:href=\"#DejaVuSans-48\"/>\n      </g>\n     </g>\n    </g>\n    <g id=\"ytick_8\">\n     <g id=\"line2d_29\">\n      <path clip-path=\"url(#pe5f3423b56)\" d=\"M 44.845313 54.37185 \nL 491.245312 54.37185 \n\" style=\"fill:none;stroke:#ffffff;stroke-linecap:square;stroke-width:0.8;\"/>\n     </g>\n     <g id=\"line2d_30\">\n      <g>\n       <use style=\"fill:#555555;stroke:#555555;stroke-width:0.8;\" x=\"44.845313\" xlink:href=\"#m5828795b87\" y=\"54.37185\"/>\n      </g>\n     </g>\n     <g id=\"text_15\">\n      <!-- 0.75 -->\n      <g style=\"fill:#555555;\" transform=\"translate(15.579688 58.171069)scale(0.1 -0.1)\">\n       <use xlink:href=\"#DejaVuSans-48\"/>\n       <use x=\"63.623047\" xlink:href=\"#DejaVuSans-46\"/>\n       <use x=\"95.410156\" xlink:href=\"#DejaVuSans-55\"/>\n       <use x=\"159.033203\" xlink:href=\"#DejaVuSans-53\"/>\n      </g>\n     </g>\n    </g>\n    <g id=\"ytick_9\">\n     <g id=\"line2d_31\">\n      <path clip-path=\"url(#pe5f3423b56)\" d=\"M 44.845313 20.677618 \nL 491.245312 20.677618 \n\" style=\"fill:none;stroke:#ffffff;stroke-linecap:square;stroke-width:0.8;\"/>\n     </g>\n     <g id=\"line2d_32\">\n      <g>\n       <use style=\"fill:#555555;stroke:#555555;stroke-width:0.8;\" x=\"44.845313\" xlink:href=\"#m5828795b87\" y=\"20.677618\"/>\n      </g>\n     </g>\n     <g id=\"text_16\">\n      <!-- 1.00 -->\n      <g style=\"fill:#555555;\" transform=\"translate(15.579688 24.476837)scale(0.1 -0.1)\">\n       <use xlink:href=\"#DejaVuSans-49\"/>\n       <use x=\"63.623047\" xlink:href=\"#DejaVuSans-46\"/>\n       <use x=\"95.410156\" xlink:href=\"#DejaVuSans-48\"/>\n       <use x=\"159.033203\" xlink:href=\"#DejaVuSans-48\"/>\n      </g>\n     </g>\n    </g>\n   </g>\n   <g id=\"Quiver_1\">\n    <path clip-path=\"url(#pe5f3423b56)\" d=\"M 269.229009 156.638242 \nL 184.580601 241.28665 \nL 188.131691 242.470347 \nL 172.743633 250.756225 \nL 181.029511 235.368167 \nL 182.213207 238.919257 \nL 266.861616 154.270849 \nL 269.229009 156.638242 \n\" style=\"fill:#1190ff;\"/>\n    <path clip-path=\"url(#pe5f3423b56)\" d=\"M 266.861616 156.638242 \nL 182.213207 71.989834 \nL 181.029511 75.540924 \nL 172.743633 60.152866 \nL 188.131691 68.438744 \nL 184.580601 69.62244 \nL 269.229009 154.270849 \nL 266.861616 156.638242 \n\" style=\"fill:#1190ff;\"/>\n   </g>\n   <g id=\"line2d_33\">\n    <path clip-path=\"url(#pe5f3423b56)\" d=\"M 133.268385 155.454545 \nL 133.538209 146.930508 \nL 134.077857 140.705281 \nL 134.887328 134.627373 \nL 135.966622 128.620991 \nL 137.315741 122.673467 \nL 138.664859 117.698509 \nL 140.283801 112.538159 \nL 142.172567 107.279116 \nL 144.331156 101.979059 \nL 146.489746 97.238875 \nL 148.918159 92.418514 \nL 151.616396 87.563991 \nL 154.584456 82.712164 \nL 157.552516 78.27837 \nL 160.790401 73.838346 \nL 164.298108 69.423518 \nL 167.805816 65.360908 \nL 171.583348 61.327454 \nL 175.360879 57.605601 \nL 179.408234 53.924804 \nL 183.725413 50.311906 \nL 188.042592 46.990797 \nL 192.629595 43.752757 \nL 197.216597 40.789323 \nL 201.8036 38.079695 \nL 206.660426 35.468231 \nL 211.517252 33.105052 \nL 216.643902 30.864357 \nL 221.770552 28.870713 \nL 226.897202 27.112608 \nL 232.023852 25.580474 \nL 237.420325 24.203145 \nL 242.816799 23.0599 \nL 248.213272 22.144717 \nL 253.609746 21.452924 \nL 259.006219 20.981073 \nL 264.402693 20.726852 \nL 269.799166 20.68903 \nL 275.19564 20.867425 \nL 280.592114 21.2629 \nL 285.988587 21.877381 \nL 291.385061 22.71391 \nL 296.781534 23.77672 \nL 302.178008 25.071344 \nL 307.574481 26.604769 \nL 312.701131 28.290565 \nL 317.827781 30.208684 \nL 322.954431 32.369986 \nL 327.811257 34.653668 \nL 332.668083 37.180636 \nL 337.52491 39.966859 \nL 342.111912 42.853662 \nL 346.698915 46.008527 \nL 351.016093 49.244049 \nL 355.333272 52.762617 \nL 359.380627 56.345109 \nL 363.427983 60.233926 \nL 367.205514 64.174348 \nL 370.713222 68.138336 \nL 374.22093 72.439135 \nL 377.458814 76.755716 \nL 380.426874 81.05559 \nL 383.394935 85.745976 \nL 386.093172 90.419762 \nL 388.521585 95.036933 \nL 390.949998 100.143982 \nL 393.108587 105.215145 \nL 394.997353 110.199717 \nL 396.616295 115.02779 \nL 398.235237 120.591906 \nL 399.584355 126.089596 \nL 400.66365 131.429629 \nL 401.473121 136.432455 \nL 402.012768 140.705281 \nL 402.552416 146.930508 \nL 402.82224 155.454545 \nL 402.82224 155.454545 \n\" style=\"fill:none;stroke:#1190ff;stroke-linecap:square;stroke-width:1.5;\"/>\n   </g>\n   <g id=\"line2d_34\">\n    <path clip-path=\"url(#pe5f3423b56)\" d=\"M 133.268385 155.454545 \nL 133.538209 163.978582 \nL 134.077857 170.20381 \nL 134.887328 176.281718 \nL 135.966622 182.2881 \nL 137.315741 188.235624 \nL 138.664859 193.210582 \nL 140.283801 198.370932 \nL 142.172567 203.629974 \nL 144.331156 208.930031 \nL 146.489746 213.670215 \nL 148.918159 218.490577 \nL 151.616396 223.3451 \nL 154.584456 228.196927 \nL 157.552516 232.630721 \nL 160.790401 237.070744 \nL 164.298108 241.485573 \nL 167.805816 245.548183 \nL 171.583348 249.581637 \nL 175.360879 253.30349 \nL 179.408234 256.984287 \nL 183.725413 260.597185 \nL 188.042592 263.918294 \nL 192.629595 267.156334 \nL 197.216597 270.119767 \nL 201.8036 272.829396 \nL 206.660426 275.44086 \nL 211.517252 277.804038 \nL 216.643902 280.044734 \nL 221.770552 282.038378 \nL 226.897202 283.796483 \nL 232.023852 285.328617 \nL 237.420325 286.705946 \nL 242.816799 287.849191 \nL 248.213272 288.764373 \nL 253.609746 289.456167 \nL 259.006219 289.928018 \nL 264.402693 290.182239 \nL 269.799166 290.220061 \nL 275.19564 290.041665 \nL 280.592114 289.646191 \nL 285.988587 289.03171 \nL 291.385061 288.195181 \nL 296.781534 287.132371 \nL 302.178008 285.837747 \nL 307.574481 284.304322 \nL 312.701131 282.618526 \nL 317.827781 280.700407 \nL 322.954431 278.539105 \nL 327.811257 276.255423 \nL 332.668083 273.728454 \nL 337.52491 270.942232 \nL 342.111912 268.055429 \nL 346.698915 264.900564 \nL 351.016093 261.665042 \nL 355.333272 258.146474 \nL 359.380627 254.563981 \nL 363.427983 250.675165 \nL 367.205514 246.734743 \nL 370.713222 242.770755 \nL 374.22093 238.469956 \nL 377.458814 234.153375 \nL 380.426874 229.853501 \nL 383.394935 225.163115 \nL 386.093172 220.489329 \nL 388.521585 215.872158 \nL 390.949998 210.765109 \nL 393.108587 205.693946 \nL 394.997353 200.709374 \nL 396.616295 195.881301 \nL 398.235237 190.317185 \nL 399.584355 184.819495 \nL 400.66365 179.479461 \nL 401.473121 174.476636 \nL 402.012768 170.20381 \nL 402.552416 163.978582 \nL 402.82224 155.454545 \nL 402.82224 155.454545 \n\" style=\"fill:none;stroke:#1190ff;stroke-linecap:square;stroke-width:1.5;\"/>\n   </g>\n   <g id=\"patch_3\">\n    <path d=\"M 44.845313 303.709091 \nL 44.845313 7.2 \n\" style=\"fill:none;stroke:#ffffff;stroke-linecap:square;stroke-linejoin:miter;\"/>\n   </g>\n   <g id=\"patch_4\">\n    <path d=\"M 491.245312 303.709091 \nL 491.245312 7.2 \n\" style=\"fill:none;stroke:#ffffff;stroke-linecap:square;stroke-linejoin:miter;\"/>\n   </g>\n   <g id=\"patch_5\">\n    <path d=\"M 44.845313 303.709091 \nL 491.245313 303.709091 \n\" style=\"fill:none;stroke:#ffffff;stroke-linecap:square;stroke-linejoin:miter;\"/>\n   </g>\n   <g id=\"patch_6\">\n    <path d=\"M 44.845313 7.2 \nL 491.245313 7.2 \n\" style=\"fill:none;stroke:#ffffff;stroke-linecap:square;stroke-linejoin:miter;\"/>\n   </g>\n   <g id=\"text_17\">\n    <!-- $\\vec{v_1}$ -->\n    <g style=\"fill:#1190ff;\" transform=\"translate(220.394473 203.105385)scale(0.15 -0.15)\">\n     <defs>\n      <path d=\"M -47.015625 63.53125 \nL -47.015625 68.40625 \nL -10.84375 68.40625 \nL -17.28125 75.984375 \nL -11.140625 75.984375 \nL -2.59375 65.96875 \nL -11.140625 55.953125 \nL -17.28125 55.953125 \nL -10.84375 63.53125 \nz\n\" id=\"DejaVuSans-8407\"/>\n      <path d=\"M 7.171875 54.6875 \nL 16.703125 54.6875 \nL 24.703125 8.203125 \nL 50.875 54.6875 \nL 60.40625 54.6875 \nL 29.296875 0 \nL 17.1875 0 \nz\n\" id=\"DejaVuSans-Oblique-118\"/>\n     </defs>\n     <use transform=\"translate(91.628174 12.015625)\" xlink:href=\"#DejaVuSans-8407\"/>\n     <use transform=\"translate(0 0.78125)\" xlink:href=\"#DejaVuSans-Oblique-118\"/>\n     <use transform=\"translate(59.179688 -15.625)scale(0.7)\" xlink:href=\"#DejaVuSans-49\"/>\n    </g>\n   </g>\n   <g id=\"text_18\">\n    <!-- $\\vec{v_2}$ -->\n    <g style=\"fill:#1190ff;\" transform=\"translate(220.394473 107.803706)scale(0.15 -0.15)\">\n     <use transform=\"translate(91.628174 12.015625)\" xlink:href=\"#DejaVuSans-8407\"/>\n     <use transform=\"translate(0 0.78125)\" xlink:href=\"#DejaVuSans-Oblique-118\"/>\n     <use transform=\"translate(59.179688 -15.625)scale(0.7)\" xlink:href=\"#DejaVuSans-50\"/>\n    </g>\n   </g>\n  </g>\n  <g id=\"axes_2\">\n   <g id=\"patch_7\">\n    <path d=\"M 44.845313 659.52 \nL 491.245312 659.52 \nL 491.245312 363.010909 \nL 44.845313 363.010909 \nz\n\" style=\"fill:#e5e5e5;\"/>\n   </g>\n   <g id=\"matplotlib.axis_3\">\n    <g id=\"xtick_8\">\n     <g id=\"line2d_35\">\n      <path clip-path=\"url(#pa66d01eb2d)\" d=\"M 77.441981 659.52 \nL 77.441981 363.010909 \n\" style=\"fill:none;stroke:#ffffff;stroke-linecap:square;stroke-width:0.8;\"/>\n     </g>\n     <g id=\"line2d_36\">\n      <g>\n       <use style=\"fill:#555555;stroke:#555555;stroke-width:0.8;\" x=\"77.441981\" xlink:href=\"#ma6be499346\" y=\"659.52\"/>\n      </g>\n     </g>\n     <g id=\"text_19\">\n      <!-- −2 -->\n      <g style=\"fill:#555555;\" transform=\"translate(70.070887 674.118437)scale(0.1 -0.1)\">\n       <use xlink:href=\"#DejaVuSans-8722\"/>\n       <use x=\"83.789062\" xlink:href=\"#DejaVuSans-50\"/>\n      </g>\n     </g>\n    </g>\n    <g id=\"xtick_9\">\n     <g id=\"line2d_37\">\n      <path clip-path=\"url(#pa66d01eb2d)\" d=\"M 172.743647 659.52 \nL 172.743647 363.010909 \n\" style=\"fill:none;stroke:#ffffff;stroke-linecap:square;stroke-width:0.8;\"/>\n     </g>\n     <g id=\"line2d_38\">\n      <g>\n       <use style=\"fill:#555555;stroke:#555555;stroke-width:0.8;\" x=\"172.743647\" xlink:href=\"#ma6be499346\" y=\"659.52\"/>\n      </g>\n     </g>\n     <g id=\"text_20\">\n      <!-- −1 -->\n      <g style=\"fill:#555555;\" transform=\"translate(165.372553 674.118437)scale(0.1 -0.1)\">\n       <use xlink:href=\"#DejaVuSans-8722\"/>\n       <use x=\"83.789062\" xlink:href=\"#DejaVuSans-49\"/>\n      </g>\n     </g>\n    </g>\n    <g id=\"xtick_10\">\n     <g id=\"line2d_39\">\n      <path clip-path=\"url(#pa66d01eb2d)\" d=\"M 268.045313 659.52 \nL 268.045313 363.010909 \n\" style=\"fill:none;stroke:#ffffff;stroke-linecap:square;stroke-width:0.8;\"/>\n     </g>\n     <g id=\"line2d_40\">\n      <g>\n       <use style=\"fill:#555555;stroke:#555555;stroke-width:0.8;\" x=\"268.045313\" xlink:href=\"#ma6be499346\" y=\"659.52\"/>\n      </g>\n     </g>\n     <g id=\"text_21\">\n      <!-- 0 -->\n      <g style=\"fill:#555555;\" transform=\"translate(264.864063 674.118437)scale(0.1 -0.1)\">\n       <use xlink:href=\"#DejaVuSans-48\"/>\n      </g>\n     </g>\n    </g>\n    <g id=\"xtick_11\">\n     <g id=\"line2d_41\">\n      <path clip-path=\"url(#pa66d01eb2d)\" d=\"M 363.346978 659.52 \nL 363.346978 363.010909 \n\" style=\"fill:none;stroke:#ffffff;stroke-linecap:square;stroke-width:0.8;\"/>\n     </g>\n     <g id=\"line2d_42\">\n      <g>\n       <use style=\"fill:#555555;stroke:#555555;stroke-width:0.8;\" x=\"363.346978\" xlink:href=\"#ma6be499346\" y=\"659.52\"/>\n      </g>\n     </g>\n     <g id=\"text_22\">\n      <!-- 1 -->\n      <g style=\"fill:#555555;\" transform=\"translate(360.165728 674.118437)scale(0.1 -0.1)\">\n       <use xlink:href=\"#DejaVuSans-49\"/>\n      </g>\n     </g>\n    </g>\n    <g id=\"xtick_12\">\n     <g id=\"line2d_43\">\n      <path clip-path=\"url(#pa66d01eb2d)\" d=\"M 458.648644 659.52 \nL 458.648644 363.010909 \n\" style=\"fill:none;stroke:#ffffff;stroke-linecap:square;stroke-width:0.8;\"/>\n     </g>\n     <g id=\"line2d_44\">\n      <g>\n       <use style=\"fill:#555555;stroke:#555555;stroke-width:0.8;\" x=\"458.648644\" xlink:href=\"#ma6be499346\" y=\"659.52\"/>\n      </g>\n     </g>\n     <g id=\"text_23\">\n      <!-- 2 -->\n      <g style=\"fill:#555555;\" transform=\"translate(455.467394 674.118437)scale(0.1 -0.1)\">\n       <use xlink:href=\"#DejaVuSans-50\"/>\n      </g>\n     </g>\n    </g>\n   </g>\n   <g id=\"matplotlib.axis_4\">\n    <g id=\"ytick_10\">\n     <g id=\"line2d_45\">\n      <path clip-path=\"url(#pa66d01eb2d)\" d=\"M 44.845313 654.217953 \nL 491.245312 654.217953 \n\" style=\"fill:none;stroke:#ffffff;stroke-linecap:square;stroke-width:0.8;\"/>\n     </g>\n     <g id=\"line2d_46\">\n      <g>\n       <use style=\"fill:#555555;stroke:#555555;stroke-width:0.8;\" x=\"44.845313\" xlink:href=\"#m5828795b87\" y=\"654.217953\"/>\n      </g>\n     </g>\n     <g id=\"text_24\">\n      <!-- −1.5 -->\n      <g style=\"fill:#555555;\" transform=\"translate(13.5625 658.017172)scale(0.1 -0.1)\">\n       <use xlink:href=\"#DejaVuSans-8722\"/>\n       <use x=\"83.789062\" xlink:href=\"#DejaVuSans-49\"/>\n       <use x=\"147.412109\" xlink:href=\"#DejaVuSans-46\"/>\n       <use x=\"179.199219\" xlink:href=\"#DejaVuSans-53\"/>\n      </g>\n     </g>\n    </g>\n    <g id=\"ytick_11\">\n     <g id=\"line2d_47\">\n      <path clip-path=\"url(#pa66d01eb2d)\" d=\"M 44.845313 606.56712 \nL 491.245312 606.56712 \n\" style=\"fill:none;stroke:#ffffff;stroke-linecap:square;stroke-width:0.8;\"/>\n     </g>\n     <g id=\"line2d_48\">\n      <g>\n       <use style=\"fill:#555555;stroke:#555555;stroke-width:0.8;\" x=\"44.845313\" xlink:href=\"#m5828795b87\" y=\"606.56712\"/>\n      </g>\n     </g>\n     <g id=\"text_25\">\n      <!-- −1.0 -->\n      <g style=\"fill:#555555;\" transform=\"translate(13.5625 610.366339)scale(0.1 -0.1)\">\n       <use xlink:href=\"#DejaVuSans-8722\"/>\n       <use x=\"83.789062\" xlink:href=\"#DejaVuSans-49\"/>\n       <use x=\"147.412109\" xlink:href=\"#DejaVuSans-46\"/>\n       <use x=\"179.199219\" xlink:href=\"#DejaVuSans-48\"/>\n      </g>\n     </g>\n    </g>\n    <g id=\"ytick_12\">\n     <g id=\"line2d_49\">\n      <path clip-path=\"url(#pa66d01eb2d)\" d=\"M 44.845313 558.916287 \nL 491.245312 558.916287 \n\" style=\"fill:none;stroke:#ffffff;stroke-linecap:square;stroke-width:0.8;\"/>\n     </g>\n     <g id=\"line2d_50\">\n      <g>\n       <use style=\"fill:#555555;stroke:#555555;stroke-width:0.8;\" x=\"44.845313\" xlink:href=\"#m5828795b87\" y=\"558.916287\"/>\n      </g>\n     </g>\n     <g id=\"text_26\">\n      <!-- −0.5 -->\n      <g style=\"fill:#555555;\" transform=\"translate(13.5625 562.715506)scale(0.1 -0.1)\">\n       <use xlink:href=\"#DejaVuSans-8722\"/>\n       <use x=\"83.789062\" xlink:href=\"#DejaVuSans-48\"/>\n       <use x=\"147.412109\" xlink:href=\"#DejaVuSans-46\"/>\n       <use x=\"179.199219\" xlink:href=\"#DejaVuSans-53\"/>\n      </g>\n     </g>\n    </g>\n    <g id=\"ytick_13\">\n     <g id=\"line2d_51\">\n      <path clip-path=\"url(#pa66d01eb2d)\" d=\"M 44.845313 511.265455 \nL 491.245312 511.265455 \n\" style=\"fill:none;stroke:#ffffff;stroke-linecap:square;stroke-width:0.8;\"/>\n     </g>\n     <g id=\"line2d_52\">\n      <g>\n       <use style=\"fill:#555555;stroke:#555555;stroke-width:0.8;\" x=\"44.845313\" xlink:href=\"#m5828795b87\" y=\"511.265455\"/>\n      </g>\n     </g>\n     <g id=\"text_27\">\n      <!-- 0.0 -->\n      <g style=\"fill:#555555;\" transform=\"translate(21.942188 515.064673)scale(0.1 -0.1)\">\n       <use xlink:href=\"#DejaVuSans-48\"/>\n       <use x=\"63.623047\" xlink:href=\"#DejaVuSans-46\"/>\n       <use x=\"95.410156\" xlink:href=\"#DejaVuSans-48\"/>\n      </g>\n     </g>\n    </g>\n    <g id=\"ytick_14\">\n     <g id=\"line2d_53\">\n      <path clip-path=\"url(#pa66d01eb2d)\" d=\"M 44.845313 463.614622 \nL 491.245312 463.614622 \n\" style=\"fill:none;stroke:#ffffff;stroke-linecap:square;stroke-width:0.8;\"/>\n     </g>\n     <g id=\"line2d_54\">\n      <g>\n       <use style=\"fill:#555555;stroke:#555555;stroke-width:0.8;\" x=\"44.845313\" xlink:href=\"#m5828795b87\" y=\"463.614622\"/>\n      </g>\n     </g>\n     <g id=\"text_28\">\n      <!-- 0.5 -->\n      <g style=\"fill:#555555;\" transform=\"translate(21.942188 467.41384)scale(0.1 -0.1)\">\n       <use xlink:href=\"#DejaVuSans-48\"/>\n       <use x=\"63.623047\" xlink:href=\"#DejaVuSans-46\"/>\n       <use x=\"95.410156\" xlink:href=\"#DejaVuSans-53\"/>\n      </g>\n     </g>\n    </g>\n    <g id=\"ytick_15\">\n     <g id=\"line2d_55\">\n      <path clip-path=\"url(#pa66d01eb2d)\" d=\"M 44.845313 415.963789 \nL 491.245312 415.963789 \n\" style=\"fill:none;stroke:#ffffff;stroke-linecap:square;stroke-width:0.8;\"/>\n     </g>\n     <g id=\"line2d_56\">\n      <g>\n       <use style=\"fill:#555555;stroke:#555555;stroke-width:0.8;\" x=\"44.845313\" xlink:href=\"#m5828795b87\" y=\"415.963789\"/>\n      </g>\n     </g>\n     <g id=\"text_29\">\n      <!-- 1.0 -->\n      <g style=\"fill:#555555;\" transform=\"translate(21.942188 419.763008)scale(0.1 -0.1)\">\n       <use xlink:href=\"#DejaVuSans-49\"/>\n       <use x=\"63.623047\" xlink:href=\"#DejaVuSans-46\"/>\n       <use x=\"95.410156\" xlink:href=\"#DejaVuSans-48\"/>\n      </g>\n     </g>\n    </g>\n    <g id=\"ytick_16\">\n     <g id=\"line2d_57\">\n      <path clip-path=\"url(#pa66d01eb2d)\" d=\"M 44.845313 368.312956 \nL 491.245312 368.312956 \n\" style=\"fill:none;stroke:#ffffff;stroke-linecap:square;stroke-width:0.8;\"/>\n     </g>\n     <g id=\"line2d_58\">\n      <g>\n       <use style=\"fill:#555555;stroke:#555555;stroke-width:0.8;\" x=\"44.845313\" xlink:href=\"#m5828795b87\" y=\"368.312956\"/>\n      </g>\n     </g>\n     <g id=\"text_30\">\n      <!-- 1.5 -->\n      <g style=\"fill:#555555;\" transform=\"translate(21.942188 372.112175)scale(0.1 -0.1)\">\n       <use xlink:href=\"#DejaVuSans-49\"/>\n       <use x=\"63.623047\" xlink:href=\"#DejaVuSans-46\"/>\n       <use x=\"95.410156\" xlink:href=\"#DejaVuSans-53\"/>\n      </g>\n     </g>\n    </g>\n   </g>\n   <g id=\"Quiver_2\">\n    <path clip-path=\"url(#pa66d01eb2d)\" d=\"M 269.229009 512.449151 \nL 145.105372 636.572789 \nL 148.656462 637.756485 \nL 133.268404 646.042363 \nL 141.554282 630.654305 \nL 142.737978 634.205395 \nL 266.861616 510.081758 \nL 269.229009 512.449151 \n\" style=\"fill:#ff9a13;\"/>\n    <path clip-path=\"url(#pa66d01eb2d)\" d=\"M 269.719313 511.265455 \nL 268.882313 509.815728 \nL 267.208313 509.815728 \nL 266.371313 511.265455 \nL 267.208313 512.715181 \nL 268.882313 512.715181 \nL 269.719313 511.265455 \nL 268.882313 509.815728 \n\" style=\"fill:#ff9a13;\"/>\n   </g>\n   <g id=\"line2d_59\">\n    <path clip-path=\"url(#pa66d01eb2d)\" d=\"M 172.743647 606.56712 \nL 402.822172 376.488595 \nL 363.346978 415.963789 \n\" style=\"fill:none;stroke:#ff9a13;stroke-linecap:square;stroke-width:1.5;\"/>\n   </g>\n   <g id=\"line2d_60\">\n    <path clip-path=\"url(#pa66d01eb2d)\" d=\"M 363.346978 415.963789 \nL 133.268453 646.042314 \nL 172.743647 606.56712 \n\" style=\"fill:none;stroke:#ff9a13;stroke-linecap:square;stroke-width:1.5;\"/>\n   </g>\n   <g id=\"patch_8\">\n    <path d=\"M 44.845313 659.52 \nL 44.845313 363.010909 \n\" style=\"fill:none;stroke:#ffffff;stroke-linecap:square;stroke-linejoin:miter;\"/>\n   </g>\n   <g id=\"patch_9\">\n    <path d=\"M 491.245312 659.52 \nL 491.245312 363.010909 \n\" style=\"fill:none;stroke:#ffffff;stroke-linecap:square;stroke-linejoin:miter;\"/>\n   </g>\n   <g id=\"patch_10\">\n    <path d=\"M 44.845313 659.52 \nL 491.245313 659.52 \n\" style=\"fill:none;stroke:#ffffff;stroke-linecap:square;stroke-linejoin:miter;\"/>\n   </g>\n   <g id=\"patch_11\">\n    <path d=\"M 44.845313 363.010909 \nL 491.245313 363.010909 \n\" style=\"fill:none;stroke:#ffffff;stroke-linecap:square;stroke-linejoin:miter;\"/>\n   </g>\n   <g id=\"text_31\">\n    <!-- $\\vec{\\sigma_1 u_1}$ -->\n    <g style=\"fill:#ff9a13;\" transform=\"translate(200.656858 578.653909)scale(0.15 -0.15)\">\n     <defs>\n      <path d=\"M 34.671875 47.5625 \nQ 27.25 47.5625 22.21875 42.1875 \nQ 16.890625 36.578125 15.140625 27.296875 \nQ 13.1875 17.484375 16.3125 11.8125 \nQ 19.390625 6.203125 26.65625 6.203125 \nQ 33.84375 6.203125 39.109375 11.859375 \nQ 44.4375 17.53125 46.34375 27.296875 \nQ 48.046875 36.234375 45.015625 42.1875 \nQ 42.1875 47.5625 34.671875 47.5625 \nz\nM 36.078125 54.734375 \nL 65.921875 54.6875 \nL 64.15625 45.703125 \nL 54.109375 45.703125 \nQ 57.90625 38.09375 55.859375 27.296875 \nQ 53.21875 13.875 45.0625 6.25 \nQ 36.859375 -1.421875 25.140625 -1.421875 \nQ 13.375 -1.421875 8.203125 6.25 \nQ 3.03125 13.875 5.671875 27.296875 \nQ 8.25 40.765625 16.40625 48.390625 \nQ 23.1875 54.734375 36.078125 54.734375 \nz\n\" id=\"DejaVuSans-Oblique-963\"/>\n      <path d=\"M 6.6875 21.6875 \nL 13.09375 54.6875 \nL 22.125 54.6875 \nL 15.71875 22.015625 \nQ 15.234375 19.625 15.015625 17.921875 \nQ 14.796875 16.21875 14.796875 15.09375 \nQ 14.796875 10.9375 17.328125 8.65625 \nQ 19.875 6.390625 24.515625 6.390625 \nQ 31.734375 6.390625 37 11.265625 \nQ 42.28125 16.15625 43.890625 24.421875 \nL 49.90625 54.6875 \nL 58.890625 54.6875 \nL 48.296875 0 \nL 39.3125 0 \nL 41.109375 8.59375 \nQ 37.3125 3.8125 32.0625 1.1875 \nQ 26.8125 -1.421875 20.90625 -1.421875 \nQ 13.71875 -1.421875 9.71875 2.515625 \nQ 5.71875 6.453125 5.71875 13.484375 \nQ 5.71875 14.9375 5.953125 17.140625 \nQ 6.203125 19.34375 6.6875 21.6875 \nz\n\" id=\"DejaVuSans-Oblique-117\"/>\n     </defs>\n     <use transform=\"translate(163.340332 12.015625)\" xlink:href=\"#DejaVuSans-8407\"/>\n     <use transform=\"translate(0 0.734375)\" xlink:href=\"#DejaVuSans-Oblique-963\"/>\n     <use transform=\"translate(63.378906 -15.671875)scale(0.7)\" xlink:href=\"#DejaVuSans-49\"/>\n     <use transform=\"translate(110.649414 0.734375)\" xlink:href=\"#DejaVuSans-Oblique-117\"/>\n     <use transform=\"translate(174.02832 -15.671875)scale(0.7)\" xlink:href=\"#DejaVuSans-49\"/>\n    </g>\n   </g>\n   <g id=\"text_32\">\n    <!-- $\\vec{\\sigma_2 u_2}$ -->\n    <g style=\"fill:#ff9a13;\" transform=\"translate(268.045313 511.265455)scale(0.15 -0.15)\">\n     <use transform=\"translate(163.340332 12.015625)\" xlink:href=\"#DejaVuSans-8407\"/>\n     <use transform=\"translate(0 0.734375)\" xlink:href=\"#DejaVuSans-Oblique-963\"/>\n     <use transform=\"translate(63.378906 -15.671875)scale(0.7)\" xlink:href=\"#DejaVuSans-50\"/>\n     <use transform=\"translate(110.649414 0.734375)\" xlink:href=\"#DejaVuSans-Oblique-117\"/>\n     <use transform=\"translate(174.02832 -15.671875)scale(0.7)\" xlink:href=\"#DejaVuSans-50\"/>\n    </g>\n   </g>\n  </g>\n </g>\n <defs>\n  <clipPath id=\"pe5f3423b56\">\n   <rect height=\"296.509091\" width=\"446.4\" x=\"44.845313\" y=\"7.2\"/>\n  </clipPath>\n  <clipPath id=\"pa66d01eb2d\">\n   <rect height=\"296.509091\" width=\"446.4\" x=\"44.845313\" y=\"363.010909\"/>\n  </clipPath>\n </defs>\n</svg>\n",
      "image/png": "[encoded data removed]"
     },
     "metadata": {}
    }
   ],
   "source": [
    "A1 = np.array([\n",
    "    [3, 0],\n",
    "    [0, -2],\n",
    "])\n",
    "A2 = np.array([\n",
    "    [0, 2],\n",
    "    [0, 0],\n",
    "    [0, 0],\n",
    "])\n",
    "A3 = np.array([\n",
    "    [1, 1],\n",
    "    [1, 1],\n",
    "])\n",
    "for A in [A1, A2, A3]:\n",
    "    plot_svd_vectors(A)"
   ]
  },
  {
   "source": [
    "---\n",
    "## Task 5"
   ],
   "cell_type": "markdown",
   "metadata": {}
  },
  {
   "cell_type": "code",
   "execution_count": null,
   "metadata": {},
   "outputs": [],
   "source": [
    "def woodbury(a, U, V):\n",
    "    \"\"\" (A + UV)^(-1)\n",
    "    assuming A is diagonal matrix\n",
    "    A -- n*n\n",
    "    U -- n*k\n",
    "    C -- k*k (C=np.eye in this case)\n",
    "    V -- k*n\n",
    "    \"\"\"\n",
    "    n = A.shape[0]\n",
    "    k = U.shape[1]\n",
    "    # storing only diagonal elements (A is diagonal)\n",
    "    A_inv_diag = 1. / np.diag(A)\n",
    "    # B is (k*k) matrix so its faster to invert\n",
    "    B_inv = np.linalg.inv((np.eye(k) + (V * A_inv_diag) @ U))\n",
    "    res = np.diag(A_inv_diag) - (A_inv_diag.reshape(-1, 1) * U @ B_inv @ V * A_inv_diag)\n",
    "    return res"
   ]
  },
  {
   "cell_type": "code",
   "execution_count": null,
   "metadata": {},
   "outputs": [],
   "source": [
    "# проверили что работает\n",
    "n_tests = 200\n",
    "fail_cnt = 0\n",
    "for test in tqdm.tqdm(range(n_tests)):\n",
    "    p = np.random.randint(500, 1000)\n",
    "    k = np.random.randint(10, 250)\n",
    "\n",
    "    A = np.diag(np.random.randn(p))\n",
    "    U = np.random.randn(p, k)\n",
    "    V = np.random.randn(k, p)\n",
    "\n",
    "    M = A + U @ V\n",
    "    M_inv_true = np.linalg.inv(M)\n",
    "    M_inv = woodbury(A, U, V)\n",
    "    if not np.allclose(M_inv, M_inv_true):\n",
    "        fail_cnt += 1\n",
    "\n",
    "print('\\n')\n",
    "print(f\"{fail_cnt} fails in {n_tests} tests\")"
   ]
  },
  {
   "cell_type": "code",
   "execution_count": null,
   "metadata": {},
   "outputs": [],
   "source": [
    "%%timeit\n",
    "\n",
    "p = 5000\n",
    "k = 100\n",
    "A = np.diag(np.random.randn(p))\n",
    "U = np.random.randn(p, k)\n",
    "V = np.random.randn(k, p)\n",
    "\n",
    "M = A + U @ V\n",
    "M_inv_true = np.linalg.inv(M)"
   ]
  },
  {
   "cell_type": "code",
   "execution_count": null,
   "metadata": {},
   "outputs": [],
   "source": [
    "%%timeit\n",
    "\n",
    "p = 5000\n",
    "k = 100\n",
    "A = np.diag(np.random.randn(p))\n",
    "U = np.random.randn(p, k)\n",
    "V = np.random.randn(k, p)\n",
    "\n",
    "M_inv = woodbury(A, U, V)"
   ]
  },
  {
   "source": [
    "**Видим, что мы ускорили работу в 10 раз.**  \n",
    "Произошло это потому, что обращение матрицы обычно делается за $O(n^3)$, а мы обращали только матрицу размера $k$, который сильно меньше $n$, тем самым получили асимптотику $O(k^3)$.  \n",
    "Еще я исползовал тот факт, что матрица $A$ - диагональная, что позволяет делать умножения и обращать ее быстрее чем в общем случае."
   ],
   "cell_type": "markdown",
   "metadata": {}
  },
  {
   "source": [
    "---\n",
    "## Task 6 (ODR)"
   ],
   "cell_type": "markdown",
   "metadata": {}
  },
  {
   "source": [
    "Мне сразу бросилось в глаза сходство с методом PCA. Потому что по сути нам нужно найти вектор нормали плоскости вдоль которого дисперсия наименьшая. Эта плоскость и будет лучшим приближением датасета в терминах ортогональных расстояний."
   ],
   "cell_type": "markdown",
   "metadata": {}
  },
  {
   "cell_type": "code",
   "execution_count": 168,
   "metadata": {},
   "outputs": [],
   "source": [
    "with np.load('data_distance_svd.npz') as data :\n",
    "    xp, yp, zp = data['xp'], data['yp'], data['zp']\n",
    "    X = np.array([xp, yp, zp]).T"
   ]
  },
  {
   "source": [
    "Введем функционал качества, который будем минимизировать.  \n",
    "$$\n",
    "d_i = (x_i - c)^T \\vec{n} \\\\\n",
    "F(c, \\vec{n}) = \\sum_{i=1}^l d_i^2 \\longrightarrow \\min_{||n||=1} \\\\\n",
    "$$\n",
    "Мы хотим, чтобы вектор нормали был единичной длины.  \n",
    "Дальше, помучившись с дифференцированием и решением $\\frac {\\partial F} {\\partial c} = 0$, выясним, что минимум достигается в $c = \\frac 1 l \\sum_{i=1} x_i = \\bar{x}$ -- то есть в среднем нашей выборки(это дается в качестве упражнения в книге [\\[3\\]])."
   ],
   "cell_type": "markdown",
   "metadata": {}
  },
  {
   "cell_type": "code",
   "execution_count": 331,
   "metadata": {},
   "outputs": [
    {
     "output_type": "display_data",
     "data": {
      "application/vnd.plotly.v1+json": {
       "config": {
        "plotlyServerURL": "https://plot.ly"
       },
       "data": [
        {
         "mode": "markers",
         "name": "original",
         "type": "scatter3d",
         "x": [
          1.915194503788923,
          6.221087710398319,
          4.377277390071145,
          7.853585837137692,
          7.799758081188035,
          2.7259260528264164,
          2.764642551430967,
          8.018721775350192,
          9.581393536837052,
          8.759326347420947,
          3.5781726995786665,
          5.009951255234587,
          6.834629351721363,
          7.127020269829002,
          3.7025075479039495,
          5.611961860656249,
          5.030831653078097,
          0.1376844959068224,
          7.728266216123741,
          8.826411906361166,
          3.648859839013723,
          6.153961784334937,
          0.7538124164297653,
          3.688240060019745,
          9.331401019825217,
          6.513781432265774,
          3.9720257772615417,
          7.887301429407455,
          3.1683612216887127,
          5.680986526260692,
          8.691273895612259,
          4.361734238956794,
          8.02147642080159,
          1.4376682451456455,
          7.0426097111833545,
          7.045813081895726,
          2.187921056740886,
          9.24867628615565,
          4.4214075540417666,
          9.093159589724724,
          0.598092227798519,
          1.8428708381381362,
          0.47355278801515155,
          6.748809435823302,
          5.946247799344489,
          5.333101629987506,
          0.43324062694803445,
          5.6143308006339785,
          3.2966844562091504,
          5.029668331126183
         ],
         "y": [
          1.1189431757440382,
          6.071937062184846,
          5.659446430505314,
          0.06764061990002812,
          6.17441708804297,
          9.121228864331544,
          7.905241330570334,
          9.920814661883615,
          9.588017621528664,
          7.919641352916398,
          2.8525096002450976,
          6.249167053059111,
          4.780937956706746,
          1.956751786658982,
          3.8231745203150647,
          0.5387368514623656,
          4.51648408260859,
          9.820047415219545,
          1.23942700486963,
          1.1938089792624842,
          7.385230561433468,
          5.873036334639846,
          4.716325343203678,
          1.0712681719386632,
          2.292185654606179,
          8.999651948366754,
          4.1675353780269315,
          5.358516625316159,
          0.0620851658712942,
          3.006417057703011,
          4.368931721756102,
          6.121489970657575,
          9.181980753805732,
          6.2573666996253525,
          7.059975650817733,
          1.4983371598992723,
          7.460634091367167,
          8.310069924335378,
          6.337257689509791,
          4.383098811224276,
          1.5257277467450536,
          5.684096152471901,
          5.282242775850605,
          9.514287637535933,
          4.803591785100161,
          5.025595633825503,
          5.368781929244097,
          8.192020670641583,
          0.5711563808885991,
          6.694217430745488
         ],
         "z": [
          1.2286878342468994,
          5.862339658492937,
          5.39722481460462,
          7.042889434771003,
          7.73820147706331,
          4.171335907351337,
          4.690502263954885,
          10.482028267012698,
          10.286314393288448,
          7.533157633424328,
          1.1392478733798321,
          7.381065859011626,
          4.515007310801009,
          7.4243886485899635,
          4.603819903756834,
          4.179524996365355,
          5.7007805853859566,
          1.1387761809487404,
          7.724992068988341,
          6.723121608045728,
          5.167132487504838,
          7.180383572190577,
          1.4124137522510458,
          5.767191174127571,
          8.469315165653764,
          7.88720988881742,
          3.489704718276367,
          7.319179180449174,
          4.040682994442993,
          4.2607555359657825,
          5.4908231868388055,
          4.346832700820379,
          7.278185999668504,
          2.769225660030497,
          7.636545106503256,
          5.118104492766614,
          2.890239393201176,
          8.0531362663984,
          3.858942451155457,
          8.399731469431767,
          1.4752727407799497,
          2.8162596846552717,
          2.4830169652022764,
          8.38885641701847,
          5.637847451136681,
          4.665937214835345,
          0.38838101190483254,
          4.766890055781227,
          2.905230442579464,
          5.117257270979321
         ]
        },
        {
         "colorscale": [
          [
           0,
           "rgb(0,255,0)"
          ],
          [
           1,
           "rgb(0,255,0)"
          ]
         ],
         "name": "approximation",
         "opacity": 0.7,
         "showlegend": true,
         "showscale": false,
         "type": "surface",
         "x": [
          [
           0.1376844959068224,
           1.1376844959068224,
           2.1376844959068224,
           3.1376844959068224,
           4.137684495906822,
           5.137684495906822,
           6.137684495906822,
           7.137684495906822,
           8.137684495906822,
           9.137684495906822
          ],
          [
           0.1376844959068224,
           1.1376844959068224,
           2.1376844959068224,
           3.1376844959068224,
           4.137684495906822,
           5.137684495906822,
           6.137684495906822,
           7.137684495906822,
           8.137684495906822,
           9.137684495906822
          ],
          [
           0.1376844959068224,
           1.1376844959068224,
           2.1376844959068224,
           3.1376844959068224,
           4.137684495906822,
           5.137684495906822,
           6.137684495906822,
           7.137684495906822,
           8.137684495906822,
           9.137684495906822
          ],
          [
           0.1376844959068224,
           1.1376844959068224,
           2.1376844959068224,
           3.1376844959068224,
           4.137684495906822,
           5.137684495906822,
           6.137684495906822,
           7.137684495906822,
           8.137684495906822,
           9.137684495906822
          ],
          [
           0.1376844959068224,
           1.1376844959068224,
           2.1376844959068224,
           3.1376844959068224,
           4.137684495906822,
           5.137684495906822,
           6.137684495906822,
           7.137684495906822,
           8.137684495906822,
           9.137684495906822
          ],
          [
           0.1376844959068224,
           1.1376844959068224,
           2.1376844959068224,
           3.1376844959068224,
           4.137684495906822,
           5.137684495906822,
           6.137684495906822,
           7.137684495906822,
           8.137684495906822,
           9.137684495906822
          ],
          [
           0.1376844959068224,
           1.1376844959068224,
           2.1376844959068224,
           3.1376844959068224,
           4.137684495906822,
           5.137684495906822,
           6.137684495906822,
           7.137684495906822,
           8.137684495906822,
           9.137684495906822
          ],
          [
           0.1376844959068224,
           1.1376844959068224,
           2.1376844959068224,
           3.1376844959068224,
           4.137684495906822,
           5.137684495906822,
           6.137684495906822,
           7.137684495906822,
           8.137684495906822,
           9.137684495906822
          ],
          [
           0.1376844959068224,
           1.1376844959068224,
           2.1376844959068224,
           3.1376844959068224,
           4.137684495906822,
           5.137684495906822,
           6.137684495906822,
           7.137684495906822,
           8.137684495906822,
           9.137684495906822
          ],
          [
           0.1376844959068224,
           1.1376844959068224,
           2.1376844959068224,
           3.1376844959068224,
           4.137684495906822,
           5.137684495906822,
           6.137684495906822,
           7.137684495906822,
           8.137684495906822,
           9.137684495906822
          ]
         ],
         "y": [
          [
           0.0620851658712942,
           0.0620851658712942,
           0.0620851658712942,
           0.0620851658712942,
           0.0620851658712942,
           0.0620851658712942,
           0.0620851658712942,
           0.0620851658712942,
           0.0620851658712942,
           0.0620851658712942
          ],
          [
           1.0620851658712942,
           1.0620851658712942,
           1.0620851658712942,
           1.0620851658712942,
           1.0620851658712942,
           1.0620851658712942,
           1.0620851658712942,
           1.0620851658712942,
           1.0620851658712942,
           1.0620851658712942
          ],
          [
           2.062085165871294,
           2.062085165871294,
           2.062085165871294,
           2.062085165871294,
           2.062085165871294,
           2.062085165871294,
           2.062085165871294,
           2.062085165871294,
           2.062085165871294,
           2.062085165871294
          ],
          [
           3.062085165871294,
           3.062085165871294,
           3.062085165871294,
           3.062085165871294,
           3.062085165871294,
           3.062085165871294,
           3.062085165871294,
           3.062085165871294,
           3.062085165871294,
           3.062085165871294
          ],
          [
           4.062085165871294,
           4.062085165871294,
           4.062085165871294,
           4.062085165871294,
           4.062085165871294,
           4.062085165871294,
           4.062085165871294,
           4.062085165871294,
           4.062085165871294,
           4.062085165871294
          ],
          [
           5.062085165871294,
           5.062085165871294,
           5.062085165871294,
           5.062085165871294,
           5.062085165871294,
           5.062085165871294,
           5.062085165871294,
           5.062085165871294,
           5.062085165871294,
           5.062085165871294
          ],
          [
           6.062085165871294,
           6.062085165871294,
           6.062085165871294,
           6.062085165871294,
           6.062085165871294,
           6.062085165871294,
           6.062085165871294,
           6.062085165871294,
           6.062085165871294,
           6.062085165871294
          ],
          [
           7.062085165871294,
           7.062085165871294,
           7.062085165871294,
           7.062085165871294,
           7.062085165871294,
           7.062085165871294,
           7.062085165871294,
           7.062085165871294,
           7.062085165871294,
           7.062085165871294
          ],
          [
           8.062085165871295,
           8.062085165871295,
           8.062085165871295,
           8.062085165871295,
           8.062085165871295,
           8.062085165871295,
           8.062085165871295,
           8.062085165871295,
           8.062085165871295,
           8.062085165871295
          ],
          [
           9.062085165871295,
           9.062085165871295,
           9.062085165871295,
           9.062085165871295,
           9.062085165871295,
           9.062085165871295,
           9.062085165871295,
           9.062085165871295,
           9.062085165871295,
           9.062085165871295
          ]
         ],
         "z": [
          [
           0.10372271212609788,
           0.9461755470982747,
           1.7886283820704512,
           2.6310812170426288,
           3.4735340520148053,
           4.315986886986982,
           5.158439721959159,
           6.000892556931335,
           6.843345391903512,
           7.685798226875689
          ],
          [
           0.2806951560422533,
           1.12314799101443,
           1.9656008259866067,
           2.8080536609587843,
           3.6505064959309608,
           4.492959330903138,
           5.335412165875314,
           6.17786500084749,
           7.020317835819666,
           7.862770670791844
          ],
          [
           0.4576675999584087,
           1.3001204349305855,
           2.1425732699027624,
           2.985026104874939,
           3.8274789398471163,
           4.669931774819292,
           5.51238460979147,
           6.354837444763646,
           7.197290279735823,
           8.039743114708
          ],
          [
           0.6346400438745642,
           1.477092878846741,
           2.319545713818918,
           3.1619985487910944,
           4.004451383763271,
           4.846904218735448,
           5.689357053707625,
           6.531809888679801,
           7.374262723651977,
           8.216715558624154
          ],
          [
           0.8116124877907196,
           1.6540653227628965,
           2.4965181577350735,
           3.33897099270725,
           4.181423827679427,
           5.023876662651603,
           5.866329497623781,
           6.708782332595957,
           7.551235167568134,
           8.39368800254031
          ],
          [
           0.988584931706875,
           1.8310377666790518,
           2.673490601651229,
           3.5159434366234055,
           4.358396271595582,
           5.200849106567759,
           6.043301941539936,
           6.885754776512112,
           7.728207611484288,
           8.570660446456465
          ],
          [
           1.1655573756230304,
           2.008010210595207,
           2.8504630455673836,
           3.692915880539561,
           4.535368715511738,
           5.377821550483914,
           6.220274385456092,
           7.062727220428267,
           7.905180055400444,
           8.747632890372621
          ],
          [
           1.342529819539186,
           2.1849826545113626,
           3.027435489483539,
           3.8698883244557165,
           4.7123411594278934,
           5.55479399440007,
           6.397246829372246,
           7.239699664344423,
           8.0821524993166,
           8.924605334288776
          ],
          [
           1.5195022634553415,
           2.361955098427518,
           3.2044079333996947,
           4.0468607683718725,
           4.889313603344049,
           5.7317664383162255,
           6.574219273288402,
           7.416672108260579,
           8.259124943232754,
           9.101577778204932
          ],
          [
           1.696474707371497,
           2.5389275423436737,
           3.3813803773158506,
           4.223833212288028,
           5.0662860472602045,
           5.908738882232382,
           6.7511917172045575,
           7.593644552176734,
           8.43609738714891,
           9.278550222121087
          ]
         ]
        },
        {
         "marker": {
          "color": "red",
          "opacity": 0.8,
          "size": 5,
          "symbol": "cross"
         },
         "mode": "markers",
         "name": "projections",
         "type": "scatter3d",
         "x": [
          1.6331930190937838,
          6.00179502099656,
          4.7198669495764465,
          8.054222340305307,
          7.835841539216587,
          2.8520562533727727,
          3.230331698424764,
          8.972406670945897,
          9.831861708872996,
          8.155582846606654,
          2.4265398965640705,
          6.004071509997078,
          5.823838561359336,
          7.646665444817595,
          4.093497614319444,
          5.300523961662826,
          5.351762844929537,
          -0.2083334809325007,
          8.209699005940632,
          8.37931623890853,
          4.029263870324201,
          6.616836698648659,
          0.726087558498924,
          4.883629159646148,
          9.429335980253562,
          6.904253977267998,
          3.684564575123137,
          7.75481093161659,
          3.826676789902126,
          5.16940198863843,
          7.431089867459034,
          4.162832698100531,
          7.487040055055912,
          1.6557404180986854,
          7.262317849915403,
          6.521858480106996,
          2.0556737073098748,
          8.66362462664229,
          3.943624652146751,
          9.07549113800919,
          0.937482137281629,
          1.9676142085068618,
          1.0296535730048442,
          7.242139890453518,
          5.838977383589964,
          4.98648025289759,
          -0.015183198645722465,
          4.930766497308065,
          3.3096767270818983,
          4.882234227850617
         ],
         "y": [
          1.05970366717721,
          6.025870669426305,
          5.7314135592144435,
          0.10978794356062825,
          6.181997070550205,
          9.147724792549369,
          8.003067752451205,
          10.121153410467766,
          9.640632987859384,
          7.792814118913287,
          2.6105883161292502,
          6.457999979637938,
          4.5686030828331035,
          2.0659126473853937,
          3.9053090502591368,
          0.4733136920580767,
          4.583901479753144,
          9.747360085486482,
          1.3405606634655804,
          1.0998884538053737,
          7.465141303378799,
          5.970271576083703,
          4.710501235714729,
          1.3223812569799203,
          2.31275866305526,
          9.081677763584633,
          4.107148957135856,
          5.33068460171036,
          0.2003762489307122,
          2.8989494795379755,
          4.104207290917493,
          6.079707107187025,
          9.069712736134685,
          6.303176700845044,
          7.1061293162166566,
          1.388271026187786,
          7.432853145468859,
          8.187169249421393,
          6.236890755837468,
          4.379387233613623,
          1.5970227311386818,
          5.71030075194627,
          5.399061796332114,
          9.617920615656379,
          4.781057695537026,
          4.952781548964348,
          5.274582400165204,
          8.048425634443,
          0.5738856421990512,
          6.663246232726878
         ],
         "z": [
          1.5634264367995896,
          6.122642289451498,
          4.990567557030528,
          6.804731884770899,
          7.695370048963541,
          4.0216180889638835,
          4.137724556216291,
          9.349994690762454,
          9.989006150454626,
          8.249807249582636,
          2.506247609397848,
          6.201035104179724,
          5.714826159289312,
          6.807564592195451,
          4.139710757007498,
          4.549204919163298,
          5.319832028352446,
          1.5495030044281204,
          7.153526498654314,
          7.253828668301987,
          4.7155890710439685,
          6.630946386987191,
          1.44532343784995,
          4.34825227333334,
          8.353065381258912,
          7.423715045197928,
          3.8309240604225616,
          7.476446735724523,
          3.259255784651295,
          4.868011534622556,
          6.986674320386053,
          4.582930833082975,
          7.91256734846333,
          2.510371794389171,
          7.375749333005374,
          5.740043882175913,
          3.047218328924475,
          8.747598478674863,
          4.426075567765828,
          8.420704099568521,
          1.072413500007949,
          2.6681880476563324,
          1.822919732568404,
          7.803268198721938,
          5.7651785150271175,
          5.077380280489413,
          0.9206646092513419,
          5.57828776844782,
          2.8898084861999385,
          5.29226303647174
         ]
        }
       ],
       "layout": {
        "height": 500,
        "margin": {
         "b": 0,
         "l": 0,
         "r": 0,
         "t": 20
        },
        "template": {
         "data": {
          "bar": [
           {
            "error_x": {
             "color": "#2a3f5f"
            },
            "error_y": {
             "color": "#2a3f5f"
            },
            "marker": {
             "line": {
              "color": "#E5ECF6",
              "width": 0.5
             }
            },
            "type": "bar"
           }
          ],
          "barpolar": [
           {
            "marker": {
             "line": {
              "color": "#E5ECF6",
              "width": 0.5
             }
            },
            "type": "barpolar"
           }
          ],
          "carpet": [
           {
            "aaxis": {
             "endlinecolor": "#2a3f5f",
             "gridcolor": "white",
             "linecolor": "white",
             "minorgridcolor": "white",
             "startlinecolor": "#2a3f5f"
            },
            "baxis": {
             "endlinecolor": "#2a3f5f",
             "gridcolor": "white",
             "linecolor": "white",
             "minorgridcolor": "white",
             "startlinecolor": "#2a3f5f"
            },
            "type": "carpet"
           }
          ],
          "choropleth": [
           {
            "colorbar": {
             "outlinewidth": 0,
             "ticks": ""
            },
            "type": "choropleth"
           }
          ],
          "contour": [
           {
            "colorbar": {
             "outlinewidth": 0,
             "ticks": ""
            },
            "colorscale": [
             [
              0,
              "#0d0887"
             ],
             [
              0.1111111111111111,
              "#46039f"
             ],
             [
              0.2222222222222222,
              "#7201a8"
             ],
             [
              0.3333333333333333,
              "#9c179e"
             ],
             [
              0.4444444444444444,
              "#bd3786"
             ],
             [
              0.5555555555555556,
              "#d8576b"
             ],
             [
              0.6666666666666666,
              "#ed7953"
             ],
             [
              0.7777777777777778,
              "#fb9f3a"
             ],
             [
              0.8888888888888888,
              "#fdca26"
             ],
             [
              1,
              "#f0f921"
             ]
            ],
            "type": "contour"
           }
          ],
          "contourcarpet": [
           {
            "colorbar": {
             "outlinewidth": 0,
             "ticks": ""
            },
            "type": "contourcarpet"
           }
          ],
          "heatmap": [
           {
            "colorbar": {
             "outlinewidth": 0,
             "ticks": ""
            },
            "colorscale": [
             [
              0,
              "#0d0887"
             ],
             [
              0.1111111111111111,
              "#46039f"
             ],
             [
              0.2222222222222222,
              "#7201a8"
             ],
             [
              0.3333333333333333,
              "#9c179e"
             ],
             [
              0.4444444444444444,
              "#bd3786"
             ],
             [
              0.5555555555555556,
              "#d8576b"
             ],
             [
              0.6666666666666666,
              "#ed7953"
             ],
             [
              0.7777777777777778,
              "#fb9f3a"
             ],
             [
              0.8888888888888888,
              "#fdca26"
             ],
             [
              1,
              "#f0f921"
             ]
            ],
            "type": "heatmap"
           }
          ],
          "heatmapgl": [
           {
            "colorbar": {
             "outlinewidth": 0,
             "ticks": ""
            },
            "colorscale": [
             [
              0,
              "#0d0887"
             ],
             [
              0.1111111111111111,
              "#46039f"
             ],
             [
              0.2222222222222222,
              "#7201a8"
             ],
             [
              0.3333333333333333,
              "#9c179e"
             ],
             [
              0.4444444444444444,
              "#bd3786"
             ],
             [
              0.5555555555555556,
              "#d8576b"
             ],
             [
              0.6666666666666666,
              "#ed7953"
             ],
             [
              0.7777777777777778,
              "#fb9f3a"
             ],
             [
              0.8888888888888888,
              "#fdca26"
             ],
             [
              1,
              "#f0f921"
             ]
            ],
            "type": "heatmapgl"
           }
          ],
          "histogram": [
           {
            "marker": {
             "colorbar": {
              "outlinewidth": 0,
              "ticks": ""
             }
            },
            "type": "histogram"
           }
          ],
          "histogram2d": [
           {
            "colorbar": {
             "outlinewidth": 0,
             "ticks": ""
            },
            "colorscale": [
             [
              0,
              "#0d0887"
             ],
             [
              0.1111111111111111,
              "#46039f"
             ],
             [
              0.2222222222222222,
              "#7201a8"
             ],
             [
              0.3333333333333333,
              "#9c179e"
             ],
             [
              0.4444444444444444,
              "#bd3786"
             ],
             [
              0.5555555555555556,
              "#d8576b"
             ],
             [
              0.6666666666666666,
              "#ed7953"
             ],
             [
              0.7777777777777778,
              "#fb9f3a"
             ],
             [
              0.8888888888888888,
              "#fdca26"
             ],
             [
              1,
              "#f0f921"
             ]
            ],
            "type": "histogram2d"
           }
          ],
          "histogram2dcontour": [
           {
            "colorbar": {
             "outlinewidth": 0,
             "ticks": ""
            },
            "colorscale": [
             [
              0,
              "#0d0887"
             ],
             [
              0.1111111111111111,
              "#46039f"
             ],
             [
              0.2222222222222222,
              "#7201a8"
             ],
             [
              0.3333333333333333,
              "#9c179e"
             ],
             [
              0.4444444444444444,
              "#bd3786"
             ],
             [
              0.5555555555555556,
              "#d8576b"
             ],
             [
              0.6666666666666666,
              "#ed7953"
             ],
             [
              0.7777777777777778,
              "#fb9f3a"
             ],
             [
              0.8888888888888888,
              "#fdca26"
             ],
             [
              1,
              "#f0f921"
             ]
            ],
            "type": "histogram2dcontour"
           }
          ],
          "mesh3d": [
           {
            "colorbar": {
             "outlinewidth": 0,
             "ticks": ""
            },
            "type": "mesh3d"
           }
          ],
          "parcoords": [
           {
            "line": {
             "colorbar": {
              "outlinewidth": 0,
              "ticks": ""
             }
            },
            "type": "parcoords"
           }
          ],
          "pie": [
           {
            "automargin": true,
            "type": "pie"
           }
          ],
          "scatter": [
           {
            "marker": {
             "colorbar": {
              "outlinewidth": 0,
              "ticks": ""
             }
            },
            "type": "scatter"
           }
          ],
          "scatter3d": [
           {
            "line": {
             "colorbar": {
              "outlinewidth": 0,
              "ticks": ""
             }
            },
            "marker": {
             "colorbar": {
              "outlinewidth": 0,
              "ticks": ""
             }
            },
            "type": "scatter3d"
           }
          ],
          "scattercarpet": [
           {
            "marker": {
             "colorbar": {
              "outlinewidth": 0,
              "ticks": ""
             }
            },
            "type": "scattercarpet"
           }
          ],
          "scattergeo": [
           {
            "marker": {
             "colorbar": {
              "outlinewidth": 0,
              "ticks": ""
             }
            },
            "type": "scattergeo"
           }
          ],
          "scattergl": [
           {
            "marker": {
             "colorbar": {
              "outlinewidth": 0,
              "ticks": ""
             }
            },
            "type": "scattergl"
           }
          ],
          "scattermapbox": [
           {
            "marker": {
             "colorbar": {
              "outlinewidth": 0,
              "ticks": ""
             }
            },
            "type": "scattermapbox"
           }
          ],
          "scatterpolar": [
           {
            "marker": {
             "colorbar": {
              "outlinewidth": 0,
              "ticks": ""
             }
            },
            "type": "scatterpolar"
           }
          ],
          "scatterpolargl": [
           {
            "marker": {
             "colorbar": {
              "outlinewidth": 0,
              "ticks": ""
             }
            },
            "type": "scatterpolargl"
           }
          ],
          "scatterternary": [
           {
            "marker": {
             "colorbar": {
              "outlinewidth": 0,
              "ticks": ""
             }
            },
            "type": "scatterternary"
           }
          ],
          "surface": [
           {
            "colorbar": {
             "outlinewidth": 0,
             "ticks": ""
            },
            "colorscale": [
             [
              0,
              "#0d0887"
             ],
             [
              0.1111111111111111,
              "#46039f"
             ],
             [
              0.2222222222222222,
              "#7201a8"
             ],
             [
              0.3333333333333333,
              "#9c179e"
             ],
             [
              0.4444444444444444,
              "#bd3786"
             ],
             [
              0.5555555555555556,
              "#d8576b"
             ],
             [
              0.6666666666666666,
              "#ed7953"
             ],
             [
              0.7777777777777778,
              "#fb9f3a"
             ],
             [
              0.8888888888888888,
              "#fdca26"
             ],
             [
              1,
              "#f0f921"
             ]
            ],
            "type": "surface"
           }
          ],
          "table": [
           {
            "cells": {
             "fill": {
              "color": "#EBF0F8"
             },
             "line": {
              "color": "white"
             }
            },
            "header": {
             "fill": {
              "color": "#C8D4E3"
             },
             "line": {
              "color": "white"
             }
            },
            "type": "table"
           }
          ]
         },
         "layout": {
          "annotationdefaults": {
           "arrowcolor": "#2a3f5f",
           "arrowhead": 0,
           "arrowwidth": 1
          },
          "autotypenumbers": "strict",
          "coloraxis": {
           "colorbar": {
            "outlinewidth": 0,
            "ticks": ""
           }
          },
          "colorscale": {
           "diverging": [
            [
             0,
             "#8e0152"
            ],
            [
             0.1,
             "#c51b7d"
            ],
            [
             0.2,
             "#de77ae"
            ],
            [
             0.3,
             "#f1b6da"
            ],
            [
             0.4,
             "#fde0ef"
            ],
            [
             0.5,
             "#f7f7f7"
            ],
            [
             0.6,
             "#e6f5d0"
            ],
            [
             0.7,
             "#b8e186"
            ],
            [
             0.8,
             "#7fbc41"
            ],
            [
             0.9,
             "#4d9221"
            ],
            [
             1,
             "#276419"
            ]
           ],
           "sequential": [
            [
             0,
             "#0d0887"
            ],
            [
             0.1111111111111111,
             "#46039f"
            ],
            [
             0.2222222222222222,
             "#7201a8"
            ],
            [
             0.3333333333333333,
             "#9c179e"
            ],
            [
             0.4444444444444444,
             "#bd3786"
            ],
            [
             0.5555555555555556,
             "#d8576b"
            ],
            [
             0.6666666666666666,
             "#ed7953"
            ],
            [
             0.7777777777777778,
             "#fb9f3a"
            ],
            [
             0.8888888888888888,
             "#fdca26"
            ],
            [
             1,
             "#f0f921"
            ]
           ],
           "sequentialminus": [
            [
             0,
             "#0d0887"
            ],
            [
             0.1111111111111111,
             "#46039f"
            ],
            [
             0.2222222222222222,
             "#7201a8"
            ],
            [
             0.3333333333333333,
             "#9c179e"
            ],
            [
             0.4444444444444444,
             "#bd3786"
            ],
            [
             0.5555555555555556,
             "#d8576b"
            ],
            [
             0.6666666666666666,
             "#ed7953"
            ],
            [
             0.7777777777777778,
             "#fb9f3a"
            ],
            [
             0.8888888888888888,
             "#fdca26"
            ],
            [
             1,
             "#f0f921"
            ]
           ]
          },
          "colorway": [
           "#636efa",
           "#EF553B",
           "#00cc96",
           "#ab63fa",
           "#FFA15A",
           "#19d3f3",
           "#FF6692",
           "#B6E880",
           "#FF97FF",
           "#FECB52"
          ],
          "font": {
           "color": "#2a3f5f"
          },
          "geo": {
           "bgcolor": "white",
           "lakecolor": "white",
           "landcolor": "#E5ECF6",
           "showlakes": true,
           "showland": true,
           "subunitcolor": "white"
          },
          "hoverlabel": {
           "align": "left"
          },
          "hovermode": "closest",
          "mapbox": {
           "style": "light"
          },
          "paper_bgcolor": "white",
          "plot_bgcolor": "#E5ECF6",
          "polar": {
           "angularaxis": {
            "gridcolor": "white",
            "linecolor": "white",
            "ticks": ""
           },
           "bgcolor": "#E5ECF6",
           "radialaxis": {
            "gridcolor": "white",
            "linecolor": "white",
            "ticks": ""
           }
          },
          "scene": {
           "xaxis": {
            "backgroundcolor": "#E5ECF6",
            "gridcolor": "white",
            "gridwidth": 2,
            "linecolor": "white",
            "showbackground": true,
            "ticks": "",
            "zerolinecolor": "white"
           },
           "yaxis": {
            "backgroundcolor": "#E5ECF6",
            "gridcolor": "white",
            "gridwidth": 2,
            "linecolor": "white",
            "showbackground": true,
            "ticks": "",
            "zerolinecolor": "white"
           },
           "zaxis": {
            "backgroundcolor": "#E5ECF6",
            "gridcolor": "white",
            "gridwidth": 2,
            "linecolor": "white",
            "showbackground": true,
            "ticks": "",
            "zerolinecolor": "white"
           }
          },
          "shapedefaults": {
           "line": {
            "color": "#2a3f5f"
           }
          },
          "ternary": {
           "aaxis": {
            "gridcolor": "white",
            "linecolor": "white",
            "ticks": ""
           },
           "baxis": {
            "gridcolor": "white",
            "linecolor": "white",
            "ticks": ""
           },
           "bgcolor": "#E5ECF6",
           "caxis": {
            "gridcolor": "white",
            "linecolor": "white",
            "ticks": ""
           }
          },
          "title": {
           "x": 0.05
          },
          "xaxis": {
           "automargin": true,
           "gridcolor": "white",
           "linecolor": "white",
           "ticks": "",
           "title": {
            "standoff": 15
           },
           "zerolinecolor": "white",
           "zerolinewidth": 2
          },
          "yaxis": {
           "automargin": true,
           "gridcolor": "white",
           "linecolor": "white",
           "ticks": "",
           "title": {
            "standoff": 15
           },
           "zerolinecolor": "white",
           "zerolinewidth": 2
          }
         }
        },
        "width": 600
       }
      }
     },
     "metadata": {}
    }
   ],
   "source": [
    "c = X.mean(axis=0)\n",
    "A = X - c\n",
    "U, s, V = np.linalg.svd(X, full_matrices=False)\n",
    "normal = V[2] # normal vector to surface\n",
    "\n",
    "# make projections\n",
    "# 1st way:\n",
    "q = 2 # rank of approximation\n",
    "V_q = V[:q]\n",
    "H_q = V_q.T @ V_q # projector matrix\n",
    "projs = X @ H_q\n",
    "\n",
    "# 2nd way:\n",
    "# s_trunc = s.copy()\n",
    "# s_trunc[q:] = 0\n",
    "# projs = U @ np.diag(s_trunc) @ V + c\n",
    "\n",
    "# make surface\n",
    "xx, yy = np.meshgrid(np.arange(np.min(X[:, 0]), np.max(X[:, 0])), np.arange(np.min(X[:, 1]), np.max(X[:, 1])))\n",
    "d = -c @ normal\n",
    "z = (-normal[0] * xx - normal[1] * yy - d) * 1. / normal[2]\n",
    "\n",
    "# plotting\n",
    "fig = go.Figure(data=[\n",
    "    go.Scatter3d(x=X[:, 0], y=X[:, 1], z=X[:, 2], mode='markers', name='original'),\n",
    "    go.Surface(x=xx, y=yy, z=z,\n",
    "        name='approximation',\n",
    "        showlegend=True,\n",
    "        showscale=False, \n",
    "        opacity=0.7, \n",
    "        colorscale=[[0, 'rgb(0,255,0)'], [1, 'rgb(0,255,0)']],\n",
    "    ),\n",
    "    go.Scatter3d(x=projs[:, 0], y=projs[:, 1], z=projs[:, 2],\n",
    "        name='projections',\n",
    "        mode='markers', \n",
    "        marker=dict(\n",
    "            size=5,\n",
    "            color='red',\n",
    "            opacity=0.8,\n",
    "            symbol='cross'\n",
    "        )\n",
    "    ),\n",
    "])\n",
    "fig.update_layout(\n",
    "    width=600,\n",
    "    height=500,\n",
    "    margin=dict(l=0, r=0, b=0, t=20),\n",
    ")\n",
    "fig.show()"
   ]
  },
  {
   "cell_type": "code",
   "execution_count": 90,
   "metadata": {},
   "outputs": [
    {
     "output_type": "stream",
     "name": "stdout",
     "text": [
      "[0.6011049  0.36779882 0.03109627]\n[ 0.64516457  0.14407807 -0.75033605]\n"
     ]
    },
    {
     "output_type": "display_data",
     "data": {
      "text/plain": "<Figure size 864x576 with 1 Axes>",
      "image/svg+xml": "<?xml version=\"1.0\" encoding=\"utf-8\" standalone=\"no\"?>\n<!DOCTYPE svg PUBLIC \"-//W3C//DTD SVG 1.1//EN\"\n  \"http://www.w3.org/Graphics/SVG/1.1/DTD/svg11.dtd\">\n<!-- Created with matplotlib (https://matplotlib.org/) -->\n<svg height=\"449.28pt\" version=\"1.1\" viewBox=\"0 0 453.978945 449.28\" width=\"453.978945pt\" xmlns=\"http://www.w3.org/2000/svg\" xmlns:xlink=\"http://www.w3.org/1999/xlink\">\n <metadata>\n  <rdf:RDF xmlns:cc=\"http://creativecommons.org/ns#\" xmlns:dc=\"http://purl.org/dc/elements/1.1/\" xmlns:rdf=\"http://www.w3.org/1999/02/22-rdf-syntax-ns#\">\n   <cc:Work>\n    <dc:type rdf:resource=\"http://purl.org/dc/dcmitype/StillImage\"/>\n    <dc:date>2021-01-24T16:59:46.624867</dc:date>\n    <dc:format>image/svg+xml</dc:format>\n    <dc:creator>\n     <cc:Agent>\n      <dc:title>Matplotlib v3.3.3, https://matplotlib.org/</dc:title>\n     </cc:Agent>\n    </dc:creator>\n   </cc:Work>\n  </rdf:RDF>\n </metadata>\n <defs>\n  <style type=\"text/css\">*{stroke-linecap:butt;stroke-linejoin:round;}</style>\n </defs>\n <g id=\"figure_1\">\n  <g id=\"patch_1\">\n   <path d=\"M 0 449.28 \nL 453.978945 449.28 \nL 453.978945 0 \nL 0 0 \nz\n\" style=\"fill:#ffffff;\"/>\n  </g>\n  <g id=\"patch_2\">\n   <path d=\"M 7.2 442.08 \nL 442.08 442.08 \nL 442.08 7.2 \nL 7.2 7.2 \nz\n\" style=\"fill:#e5e5e5;\"/>\n  </g>\n  <g id=\"pane3d_1\">\n   <g id=\"patch_3\">\n    <path d=\"M 40.036439 334.852529 \nL 183.648018 214.474456 \nL 181.651679 40.867756 \nL 31.167546 150.684222 \n\" style=\"fill:#f2f2f2;opacity:0.5;stroke:#f2f2f2;stroke-linejoin:miter;stroke-width:0.5;\"/>\n   </g>\n  </g>\n  <g id=\"pane3d_2\">\n   <g id=\"patch_4\">\n    <path d=\"M 183.648018 214.474456 \nL 414.09336 281.455819 \nL 422.317142 101.869435 \nL 181.651679 40.867756 \n\" style=\"fill:#e6e6e6;opacity:0.5;stroke:#e6e6e6;stroke-linejoin:miter;stroke-width:0.5;\"/>\n   </g>\n  </g>\n  <g id=\"pane3d_3\">\n   <g id=\"patch_5\">\n    <path d=\"M 40.036439 334.852529 \nL 284.319758 414.63546 \nL 414.09336 281.455819 \nL 183.648018 214.474456 \n\" style=\"fill:#ececec;opacity:0.5;stroke:#ececec;stroke-linejoin:miter;stroke-width:0.5;\"/>\n   </g>\n  </g>\n  <g id=\"axis3d_1\">\n   <g id=\"line2d_1\">\n    <path d=\"M 40.036439 334.852529 \nL 284.319758 414.63546 \n\" style=\"fill:none;stroke:#ffffff;stroke-linecap:square;\"/>\n   </g>\n   <g id=\"Line3DCollection_1\">\n    <path d=\"M 51.865524 338.715908 \nL 194.853993 217.731591 \nL 193.331152 43.828161 \n\" style=\"fill:none;stroke:#ffffff;stroke-width:0.8;\"/>\n    <path d=\"M 95.335035 352.91305 \nL 235.992495 229.688929 \nL 236.228466 54.70138 \n\" style=\"fill:none;stroke:#ffffff;stroke-width:0.8;\"/>\n    <path d=\"M 139.648251 367.385746 \nL 277.862897 241.859002 \nL 279.922166 65.77646 \n\" style=\"fill:none;stroke:#ffffff;stroke-width:0.8;\"/>\n    <path d=\"M 184.829977 382.142098 \nL 320.484908 254.247538 \nL 324.434639 77.059074 \n\" style=\"fill:none;stroke:#ffffff;stroke-width:0.8;\"/>\n    <path d=\"M 230.905998 397.190526 \nL 363.878949 266.860472 \nL 369.789115 88.555111 \n\" style=\"fill:none;stroke:#ffffff;stroke-width:0.8;\"/>\n    <path d=\"M 277.903132 412.53979 \nL 408.066187 279.703958 \nL 416.009714 100.270686 \n\" style=\"fill:none;stroke:#ffffff;stroke-width:0.8;\"/>\n   </g>\n   <g id=\"xtick_1\">\n    <g id=\"line2d_2\">\n     <path clip-path=\"url(#p93903c30f7)\" d=\"M 230.516757 218.763243 \n\" style=\"fill:none;stroke:#ffffff;stroke-linecap:square;stroke-width:0.8;\"/>\n    </g>\n    <g id=\"line2d_3\">\n     <path d=\"M 53.110594 337.66244 \nL 49.370047 340.827363 \n\" style=\"fill:none;stroke:#555555;stroke-linecap:square;stroke-width:0.8;\"/>\n    </g>\n    <g id=\"text_1\">\n     <!-- 0 -->\n     <g style=\"fill:#555555;\" transform=\"translate(41.164276 361.989922)scale(0.1 -0.1)\">\n      <defs>\n       <path d=\"M 31.78125 66.40625 \nQ 24.171875 66.40625 20.328125 58.90625 \nQ 16.5 51.421875 16.5 36.375 \nQ 16.5 21.390625 20.328125 13.890625 \nQ 24.171875 6.390625 31.78125 6.390625 \nQ 39.453125 6.390625 43.28125 13.890625 \nQ 47.125 21.390625 47.125 36.375 \nQ 47.125 51.421875 43.28125 58.90625 \nQ 39.453125 66.40625 31.78125 66.40625 \nz\nM 31.78125 74.21875 \nQ 44.046875 74.21875 50.515625 64.515625 \nQ 56.984375 54.828125 56.984375 36.375 \nQ 56.984375 17.96875 50.515625 8.265625 \nQ 44.046875 -1.421875 31.78125 -1.421875 \nQ 19.53125 -1.421875 13.0625 8.265625 \nQ 6.59375 17.96875 6.59375 36.375 \nQ 6.59375 54.828125 13.0625 64.515625 \nQ 19.53125 74.21875 31.78125 74.21875 \nz\n\" id=\"DejaVuSans-48\"/>\n      </defs>\n      <use xlink:href=\"#DejaVuSans-48\"/>\n     </g>\n    </g>\n   </g>\n   <g id=\"xtick_2\">\n    <g id=\"line2d_4\">\n     <path clip-path=\"url(#p93903c30f7)\" d=\"M 230.516757 218.763243 \n\" style=\"fill:none;stroke:#ffffff;stroke-linecap:square;stroke-width:0.8;\"/>\n    </g>\n    <g id=\"line2d_5\">\n     <path d=\"M 96.560763 351.839241 \nL 92.878273 355.065317 \n\" style=\"fill:none;stroke:#555555;stroke-linecap:square;stroke-width:0.8;\"/>\n    </g>\n    <g id=\"text_2\">\n     <!-- 2 -->\n     <g style=\"fill:#555555;\" transform=\"translate(84.660967 376.370608)scale(0.1 -0.1)\">\n      <defs>\n       <path d=\"M 19.1875 8.296875 \nL 53.609375 8.296875 \nL 53.609375 0 \nL 7.328125 0 \nL 7.328125 8.296875 \nQ 12.9375 14.109375 22.625 23.890625 \nQ 32.328125 33.6875 34.8125 36.53125 \nQ 39.546875 41.84375 41.421875 45.53125 \nQ 43.3125 49.21875 43.3125 52.78125 \nQ 43.3125 58.59375 39.234375 62.25 \nQ 35.15625 65.921875 28.609375 65.921875 \nQ 23.96875 65.921875 18.8125 64.3125 \nQ 13.671875 62.703125 7.8125 59.421875 \nL 7.8125 69.390625 \nQ 13.765625 71.78125 18.9375 73 \nQ 24.125 74.21875 28.421875 74.21875 \nQ 39.75 74.21875 46.484375 68.546875 \nQ 53.21875 62.890625 53.21875 53.421875 \nQ 53.21875 48.921875 51.53125 44.890625 \nQ 49.859375 40.875 45.40625 35.40625 \nQ 44.1875 33.984375 37.640625 27.21875 \nQ 31.109375 20.453125 19.1875 8.296875 \nz\n\" id=\"DejaVuSans-50\"/>\n      </defs>\n      <use xlink:href=\"#DejaVuSans-50\"/>\n     </g>\n    </g>\n   </g>\n   <g id=\"xtick_3\">\n    <g id=\"line2d_6\">\n     <path clip-path=\"url(#p93903c30f7)\" d=\"M 230.516757 218.763243 \n\" style=\"fill:none;stroke:#ffffff;stroke-linecap:square;stroke-width:0.8;\"/>\n    </g>\n    <g id=\"line2d_7\">\n     <path d=\"M 140.853649 366.291002 \nL 137.232186 369.58002 \n\" style=\"fill:none;stroke:#555555;stroke-linecap:square;stroke-width:0.8;\"/>\n    </g>\n    <g id=\"text_3\">\n     <!-- 4 -->\n     <g style=\"fill:#555555;\" transform=\"translate(129.003843 391.031057)scale(0.1 -0.1)\">\n      <defs>\n       <path d=\"M 37.796875 64.3125 \nL 12.890625 25.390625 \nL 37.796875 25.390625 \nz\nM 35.203125 72.90625 \nL 47.609375 72.90625 \nL 47.609375 25.390625 \nL 58.015625 25.390625 \nL 58.015625 17.1875 \nL 47.609375 17.1875 \nL 47.609375 0 \nL 37.796875 0 \nL 37.796875 17.1875 \nL 4.890625 17.1875 \nL 4.890625 26.703125 \nz\n\" id=\"DejaVuSans-52\"/>\n      </defs>\n      <use xlink:href=\"#DejaVuSans-52\"/>\n     </g>\n    </g>\n   </g>\n   <g id=\"xtick_4\">\n    <g id=\"line2d_8\">\n     <path clip-path=\"url(#p93903c30f7)\" d=\"M 230.516757 218.763243 \n\" style=\"fill:none;stroke:#ffffff;stroke-linecap:square;stroke-width:0.8;\"/>\n    </g>\n    <g id=\"line2d_9\">\n     <path d=\"M 186.014009 381.0258 \nL 182.456686 384.379621 \n\" style=\"fill:none;stroke:#555555;stroke-linecap:square;stroke-width:0.8;\"/>\n    </g>\n    <g id=\"text_4\">\n     <!-- 6 -->\n     <g style=\"fill:#555555;\" transform=\"translate(174.217842 405.979513)scale(0.1 -0.1)\">\n      <defs>\n       <path d=\"M 33.015625 40.375 \nQ 26.375 40.375 22.484375 35.828125 \nQ 18.609375 31.296875 18.609375 23.390625 \nQ 18.609375 15.53125 22.484375 10.953125 \nQ 26.375 6.390625 33.015625 6.390625 \nQ 39.65625 6.390625 43.53125 10.953125 \nQ 47.40625 15.53125 47.40625 23.390625 \nQ 47.40625 31.296875 43.53125 35.828125 \nQ 39.65625 40.375 33.015625 40.375 \nz\nM 52.59375 71.296875 \nL 52.59375 62.3125 \nQ 48.875 64.0625 45.09375 64.984375 \nQ 41.3125 65.921875 37.59375 65.921875 \nQ 27.828125 65.921875 22.671875 59.328125 \nQ 17.53125 52.734375 16.796875 39.40625 \nQ 19.671875 43.65625 24.015625 45.921875 \nQ 28.375 48.1875 33.59375 48.1875 \nQ 44.578125 48.1875 50.953125 41.515625 \nQ 57.328125 34.859375 57.328125 23.390625 \nQ 57.328125 12.15625 50.6875 5.359375 \nQ 44.046875 -1.421875 33.015625 -1.421875 \nQ 20.359375 -1.421875 13.671875 8.265625 \nQ 6.984375 17.96875 6.984375 36.375 \nQ 6.984375 53.65625 15.1875 63.9375 \nQ 23.390625 74.21875 37.203125 74.21875 \nQ 40.921875 74.21875 44.703125 73.484375 \nQ 48.484375 72.75 52.59375 71.296875 \nz\n\" id=\"DejaVuSans-54\"/>\n      </defs>\n      <use xlink:href=\"#DejaVuSans-54\"/>\n     </g>\n    </g>\n   </g>\n   <g id=\"xtick_5\">\n    <g id=\"line2d_10\">\n     <path clip-path=\"url(#p93903c30f7)\" d=\"M 230.516757 218.763243 \n\" style=\"fill:none;stroke:#ffffff;stroke-linecap:square;stroke-width:0.8;\"/>\n    </g>\n    <g id=\"line2d_11\">\n     <path d=\"M 232.067579 396.052033 \nL 228.577658 399.47259 \n\" style=\"fill:none;stroke:#555555;stroke-linecap:square;stroke-width:0.8;\"/>\n    </g>\n    <g id=\"text_5\">\n     <!-- 8 -->\n     <g style=\"fill:#555555;\" transform=\"translate(220.328886 421.224546)scale(0.1 -0.1)\">\n      <defs>\n       <path d=\"M 31.78125 34.625 \nQ 24.75 34.625 20.71875 30.859375 \nQ 16.703125 27.09375 16.703125 20.515625 \nQ 16.703125 13.921875 20.71875 10.15625 \nQ 24.75 6.390625 31.78125 6.390625 \nQ 38.8125 6.390625 42.859375 10.171875 \nQ 46.921875 13.96875 46.921875 20.515625 \nQ 46.921875 27.09375 42.890625 30.859375 \nQ 38.875 34.625 31.78125 34.625 \nz\nM 21.921875 38.8125 \nQ 15.578125 40.375 12.03125 44.71875 \nQ 8.5 49.078125 8.5 55.328125 \nQ 8.5 64.0625 14.71875 69.140625 \nQ 20.953125 74.21875 31.78125 74.21875 \nQ 42.671875 74.21875 48.875 69.140625 \nQ 55.078125 64.0625 55.078125 55.328125 \nQ 55.078125 49.078125 51.53125 44.71875 \nQ 48 40.375 41.703125 38.8125 \nQ 48.828125 37.15625 52.796875 32.3125 \nQ 56.78125 27.484375 56.78125 20.515625 \nQ 56.78125 9.90625 50.3125 4.234375 \nQ 43.84375 -1.421875 31.78125 -1.421875 \nQ 19.734375 -1.421875 13.25 4.234375 \nQ 6.78125 9.90625 6.78125 20.515625 \nQ 6.78125 27.484375 10.78125 32.3125 \nQ 14.796875 37.15625 21.921875 38.8125 \nz\nM 18.3125 54.390625 \nQ 18.3125 48.734375 21.84375 45.5625 \nQ 25.390625 42.390625 31.78125 42.390625 \nQ 38.140625 42.390625 41.71875 45.5625 \nQ 45.3125 48.734375 45.3125 54.390625 \nQ 45.3125 60.0625 41.71875 63.234375 \nQ 38.140625 66.40625 31.78125 66.40625 \nQ 25.390625 66.40625 21.84375 63.234375 \nQ 18.3125 60.0625 18.3125 54.390625 \nz\n\" id=\"DejaVuSans-56\"/>\n      </defs>\n      <use xlink:href=\"#DejaVuSans-56\"/>\n     </g>\n    </g>\n   </g>\n   <g id=\"xtick_6\">\n    <g id=\"line2d_12\">\n     <path clip-path=\"url(#p93903c30f7)\" d=\"M 230.516757 218.763243 \n\" style=\"fill:none;stroke:#ffffff;stroke-linecap:square;stroke-width:0.8;\"/>\n    </g>\n    <g id=\"line2d_13\">\n     <path d=\"M 279.041123 411.378431 \nL 275.622025 414.867737 \n\" style=\"fill:none;stroke:#555555;stroke-linecap:square;stroke-width:0.8;\"/>\n    </g>\n    <g id=\"text_6\">\n     <!-- 10 -->\n     <g style=\"fill:#555555;\" transform=\"translate(264.182691 436.775071)scale(0.1 -0.1)\">\n      <defs>\n       <path d=\"M 12.40625 8.296875 \nL 28.515625 8.296875 \nL 28.515625 63.921875 \nL 10.984375 60.40625 \nL 10.984375 69.390625 \nL 28.421875 72.90625 \nL 38.28125 72.90625 \nL 38.28125 8.296875 \nL 54.390625 8.296875 \nL 54.390625 0 \nL 12.40625 0 \nz\n\" id=\"DejaVuSans-49\"/>\n      </defs>\n      <use xlink:href=\"#DejaVuSans-49\"/>\n      <use x=\"63.623047\" xlink:href=\"#DejaVuSans-48\"/>\n     </g>\n    </g>\n   </g>\n  </g>\n  <g id=\"axis3d_2\">\n   <g id=\"line2d_14\">\n    <path d=\"M 414.09336 281.455819 \nL 284.319758 414.63546 \n\" style=\"fill:none;stroke:#ffffff;stroke-linecap:square;\"/>\n   </g>\n   <g id=\"Line3DCollection_2\">\n    <path d=\"M 40.679987 143.742476 \nL 49.082212 327.270182 \nL 292.527789 406.212001 \n\" style=\"fill:none;stroke:#ffffff;stroke-width:0.8;\"/>\n    <path d=\"M 69.026061 123.056802 \nL 76.06339 304.654024 \nL 316.983056 381.114881 \n\" style=\"fill:none;stroke:#ffffff;stroke-width:0.8;\"/>\n    <path d=\"M 96.472015 103.027995 \nL 102.224559 282.725213 \nL 340.65633 356.820278 \n\" style=\"fill:none;stroke:#ffffff;stroke-width:0.8;\"/>\n    <path d=\"M 123.060054 83.625255 \nL 127.602542 261.452885 \nL 363.584529 333.290305 \n\" style=\"fill:none;stroke:#ffffff;stroke-width:0.8;\"/>\n    <path d=\"M 148.829784 64.81968 \nL 152.231989 240.807994 \nL 385.802283 310.489424 \n\" style=\"fill:none;stroke:#ffffff;stroke-width:0.8;\"/>\n    <path d=\"M 173.81841 46.584118 \nL 176.145537 220.763184 \nL 407.342109 288.384264 \n\" style=\"fill:none;stroke:#ffffff;stroke-width:0.8;\"/>\n   </g>\n   <g id=\"xtick_7\">\n    <g id=\"line2d_15\">\n     <path clip-path=\"url(#p93903c30f7)\" d=\"M 230.516757 218.763243 \n\" style=\"fill:none;stroke:#ffffff;stroke-linecap:square;stroke-width:0.8;\"/>\n    </g>\n    <g id=\"line2d_16\">\n     <path d=\"M 290.476213 405.546739 \nL 296.63625 407.544247 \n\" style=\"fill:none;stroke:#555555;stroke-linecap:square;stroke-width:0.8;\"/>\n    </g>\n    <g id=\"text_7\">\n     <!-- 0 -->\n     <g style=\"fill:#555555;\" transform=\"translate(302.230503 427.237786)scale(0.1 -0.1)\">\n      <use xlink:href=\"#DejaVuSans-48\"/>\n     </g>\n    </g>\n   </g>\n   <g id=\"xtick_8\">\n    <g id=\"line2d_17\">\n     <path clip-path=\"url(#p93903c30f7)\" d=\"M 230.516757 218.763243 \n\" style=\"fill:none;stroke:#ffffff;stroke-linecap:square;stroke-width:0.8;\"/>\n    </g>\n    <g id=\"line2d_18\">\n     <path d=\"M 314.954438 380.471057 \nL 321.045456 382.404168 \n\" style=\"fill:none;stroke:#555555;stroke-linecap:square;stroke-width:0.8;\"/>\n    </g>\n    <g id=\"text_8\">\n     <!-- 2 -->\n     <g style=\"fill:#555555;\" transform=\"translate(326.485173 401.913371)scale(0.1 -0.1)\">\n      <use xlink:href=\"#DejaVuSans-50\"/>\n     </g>\n    </g>\n   </g>\n   <g id=\"xtick_9\">\n    <g id=\"line2d_19\">\n     <path clip-path=\"url(#p93903c30f7)\" d=\"M 230.516757 218.763243 \n\" style=\"fill:none;stroke:#ffffff;stroke-linecap:square;stroke-width:0.8;\"/>\n    </g>\n    <g id=\"line2d_20\">\n     <path d=\"M 338.650262 356.196872 \nL 344.67349 358.068651 \n\" style=\"fill:none;stroke:#555555;stroke-linecap:square;stroke-width:0.8;\"/>\n    </g>\n    <g id=\"text_9\">\n     <!-- 4 -->\n     <g style=\"fill:#555555;\" transform=\"translate(349.963989 377.399028)scale(0.1 -0.1)\">\n      <use xlink:href=\"#DejaVuSans-52\"/>\n     </g>\n    </g>\n   </g>\n   <g id=\"xtick_10\">\n    <g id=\"line2d_21\">\n     <path clip-path=\"url(#p93903c30f7)\" d=\"M 230.516757 218.763243 \n\" style=\"fill:none;stroke:#ffffff;stroke-linecap:square;stroke-width:0.8;\"/>\n    </g>\n    <g id=\"line2d_22\">\n     <path d=\"M 361.600608 332.686362 \nL 367.557262 334.499681 \n\" style=\"fill:none;stroke:#555555;stroke-linecap:square;stroke-width:0.8;\"/>\n    </g>\n    <g id=\"text_10\">\n     <!-- 6 -->\n     <g style=\"fill:#555555;\" transform=\"translate(372.703593 353.656501)scale(0.1 -0.1)\">\n      <use xlink:href=\"#DejaVuSans-54\"/>\n     </g>\n    </g>\n   </g>\n   <g id=\"xtick_11\">\n    <g id=\"line2d_23\">\n     <path clip-path=\"url(#p93903c30f7)\" d=\"M 230.516757 218.763243 \n\" style=\"fill:none;stroke:#ffffff;stroke-linecap:square;stroke-width:0.8;\"/>\n    </g>\n    <g id=\"line2d_24\">\n     <path d=\"M 383.84011 309.904045 \nL 389.731392 311.661602 \n\" style=\"fill:none;stroke:#555555;stroke-linecap:square;stroke-width:0.8;\"/>\n    </g>\n    <g id=\"text_11\">\n     <!-- 8 -->\n     <g style=\"fill:#555555;\" transform=\"translate(394.738353 330.649905)scale(0.1 -0.1)\">\n      <use xlink:href=\"#DejaVuSans-56\"/>\n     </g>\n    </g>\n   </g>\n   <g id=\"xtick_12\">\n    <g id=\"line2d_25\">\n     <path clip-path=\"url(#p93903c30f7)\" d=\"M 230.516757 218.763243 \n\" style=\"fill:none;stroke:#ffffff;stroke-linecap:square;stroke-width:0.8;\"/>\n    </g>\n    <g id=\"line2d_26\">\n     <path d=\"M 405.40129 287.816608 \nL 411.228385 289.520934 \n\" style=\"fill:none;stroke:#555555;stroke-linecap:square;stroke-width:0.8;\"/>\n    </g>\n    <g id=\"text_12\">\n     <!-- 10 -->\n     <g style=\"fill:#555555;\" transform=\"translate(412.91929 308.345544)scale(0.1 -0.1)\">\n      <use xlink:href=\"#DejaVuSans-49\"/>\n      <use x=\"63.623047\" xlink:href=\"#DejaVuSans-48\"/>\n     </g>\n    </g>\n   </g>\n  </g>\n  <g id=\"axis3d_3\">\n   <g id=\"line2d_27\">\n    <path d=\"M 414.09336 281.455819 \nL 422.317142 101.869435 \n\" style=\"fill:none;stroke:#ffffff;stroke-linecap:square;\"/>\n   </g>\n   <g id=\"Line3DCollection_3\">\n    <path d=\"M 414.635684 269.612851 \nL 183.516108 203.003227 \nL 39.452493 322.726516 \n\" style=\"fill:none;stroke:#ffffff;stroke-width:0.8;\"/>\n    <path d=\"M 415.955891 240.782896 \nL 183.195146 175.091576 \nL 38.030421 293.196262 \n\" style=\"fill:none;stroke:#ffffff;stroke-width:0.8;\"/>\n    <path d=\"M 417.295168 211.536511 \nL 182.86977 146.796093 \nL 36.587021 263.223131 \n\" style=\"fill:none;stroke:#ffffff;stroke-width:0.8;\"/>\n    <path d=\"M 418.653931 181.864606 \nL 182.53989 118.108807 \nL 35.121811 232.797084 \n\" style=\"fill:none;stroke:#ffffff;stroke-width:0.8;\"/>\n    <path d=\"M 420.032608 151.757827 \nL 182.205409 89.021521 \nL 33.634291 201.907777 \n\" style=\"fill:none;stroke:#ffffff;stroke-width:0.8;\"/>\n    <path d=\"M 421.43164 121.206543 \nL 181.866232 59.525812 \nL 32.123949 170.544548 \n\" style=\"fill:none;stroke:#ffffff;stroke-width:0.8;\"/>\n   </g>\n   <g id=\"xtick_13\">\n    <g id=\"line2d_28\">\n     <path clip-path=\"url(#p93903c30f7)\" d=\"M 230.516757 218.763243 \n\" style=\"fill:none;stroke:#ffffff;stroke-linecap:square;stroke-width:0.8;\"/>\n    </g>\n    <g id=\"line2d_29\">\n     <path d=\"M 412.695686 269.053736 \nL 418.520308 270.732416 \n\" style=\"fill:none;stroke:#555555;stroke-linecap:square;stroke-width:0.8;\"/>\n    </g>\n    <g id=\"text_13\">\n     <!-- 0 -->\n     <g style=\"fill:#555555;\" transform=\"translate(429.777206 274.617384)scale(0.1 -0.1)\">\n      <use xlink:href=\"#DejaVuSans-48\"/>\n     </g>\n    </g>\n   </g>\n   <g id=\"xtick_14\">\n    <g id=\"line2d_30\">\n     <path clip-path=\"url(#p93903c30f7)\" d=\"M 230.516757 218.763243 \n\" style=\"fill:none;stroke:#ffffff;stroke-linecap:square;stroke-width:0.8;\"/>\n    </g>\n    <g id=\"line2d_31\">\n     <path d=\"M 414.001461 240.231304 \nL 419.869449 241.887407 \n\" style=\"fill:none;stroke:#555555;stroke-linecap:square;stroke-width:0.8;\"/>\n    </g>\n    <g id=\"text_14\">\n     <!-- 2 -->\n     <g style=\"fill:#555555;\" transform=\"translate(431.226102 245.822355)scale(0.1 -0.1)\">\n      <use xlink:href=\"#DejaVuSans-50\"/>\n     </g>\n    </g>\n   </g>\n   <g id=\"xtick_15\">\n    <g id=\"line2d_32\">\n     <path clip-path=\"url(#p93903c30f7)\" d=\"M 230.516757 218.763243 \n\" style=\"fill:none;stroke:#ffffff;stroke-linecap:square;stroke-width:0.8;\"/>\n    </g>\n    <g id=\"line2d_33\">\n     <path d=\"M 415.326088 210.992717 \nL 421.238093 212.625414 \n\" style=\"fill:none;stroke:#555555;stroke-linecap:square;stroke-width:0.8;\"/>\n    </g>\n    <g id=\"text_15\">\n     <!-- 4 -->\n     <g style=\"fill:#555555;\" transform=\"translate(432.695887 216.612178)scale(0.1 -0.1)\">\n      <use xlink:href=\"#DejaVuSans-52\"/>\n     </g>\n    </g>\n   </g>\n   <g id=\"xtick_16\">\n    <g id=\"line2d_34\">\n     <path clip-path=\"url(#p93903c30f7)\" d=\"M 230.516757 218.763243 \n\" style=\"fill:none;stroke:#ffffff;stroke-linecap:square;stroke-width:0.8;\"/>\n    </g>\n    <g id=\"line2d_35\">\n     <path d=\"M 416.669981 181.328897 \nL 422.626667 182.937329 \n\" style=\"fill:none;stroke:#555555;stroke-linecap:square;stroke-width:0.8;\"/>\n    </g>\n    <g id=\"text_16\">\n     <!-- 6 -->\n     <g style=\"fill:#555555;\" transform=\"translate(434.187016 186.977808)scale(0.1 -0.1)\">\n      <use xlink:href=\"#DejaVuSans-54\"/>\n     </g>\n    </g>\n   </g>\n   <g id=\"xtick_17\">\n    <g id=\"line2d_36\">\n     <path clip-path=\"url(#p93903c30f7)\" d=\"M 230.516757 218.763243 \n\" style=\"fill:none;stroke:#ffffff;stroke-linecap:square;stroke-width:0.8;\"/>\n    </g>\n    <g id=\"line2d_37\">\n     <path d=\"M 418.033562 151.230499 \nL 424.035608 152.813776 \n\" style=\"fill:none;stroke:#555555;stroke-linecap:square;stroke-width:0.8;\"/>\n    </g>\n    <g id=\"text_17\">\n     <!-- 8 -->\n     <g style=\"fill:#555555;\" transform=\"translate(435.699958 156.909938)scale(0.1 -0.1)\">\n      <use xlink:href=\"#DejaVuSans-56\"/>\n     </g>\n    </g>\n   </g>\n   <g id=\"xtick_18\">\n    <g id=\"line2d_38\">\n     <path clip-path=\"url(#p93903c30f7)\" d=\"M 230.516757 218.763243 \n\" style=\"fill:none;stroke:#ffffff;stroke-linecap:square;stroke-width:0.8;\"/>\n    </g>\n    <g id=\"line2d_39\">\n     <path d=\"M 419.417267 120.687904 \nL 425.465369 122.245105 \n\" style=\"fill:none;stroke:#555555;stroke-linecap:square;stroke-width:0.8;\"/>\n    </g>\n    <g id=\"text_18\">\n     <!-- 10 -->\n     <g style=\"fill:#555555;\" transform=\"translate(434.053945 126.398986)scale(0.1 -0.1)\">\n      <use xlink:href=\"#DejaVuSans-49\"/>\n      <use x=\"63.623047\" xlink:href=\"#DejaVuSans-48\"/>\n     </g>\n    </g>\n   </g>\n  </g>\n  <g id=\"axes_1\">\n   <g id=\"Line3DCollection_4\">\n    <path clip-path=\"url(#p93903c30f7)\" d=\"M 256.808524 232.250874 \nL 240.582658 218.335238 \n\" style=\"fill:none;stroke:#0000ff;stroke-width:1.5;\"/>\n    <path clip-path=\"url(#p93903c30f7)\" d=\"M 256.808524 232.250874 \nL 250.671055 228.758235 \n\" style=\"fill:none;stroke:#0000ff;stroke-width:1.5;\"/>\n    <path clip-path=\"url(#p93903c30f7)\" d=\"M 256.808524 232.250874 \nL 253.548839 227.683044 \n\" style=\"fill:none;stroke:#0000ff;stroke-width:1.5;\"/>\n   </g>\n   <g id=\"Path3DCollection_1\">\n    <defs>\n     <path d=\"M 0 2.236068 \nC 0.593012 2.236068 1.161816 2.000462 1.581139 1.581139 \nC 2.000462 1.161816 2.236068 0.593012 2.236068 -0 \nC 2.236068 -0.593012 2.000462 -1.161816 1.581139 -1.581139 \nC 1.161816 -2.000462 0.593012 -2.236068 0 -2.236068 \nC -0.593012 -2.236068 -1.161816 -2.000462 -1.581139 -1.581139 \nC -2.000462 -1.161816 -2.236068 -0.593012 -2.236068 0 \nC -2.236068 0.593012 -2.000462 1.161816 -1.581139 1.581139 \nC -1.161816 2.000462 -0.593012 2.236068 0 2.236068 \nz\n\" id=\"C0_0_aac40eb5cc\"/>\n    </defs>\n    <g clip-path=\"url(#p93903c30f7)\">\n     <use style=\"fill:#e24a33;fill-opacity:0.3;stroke:#e24a33;stroke-opacity:0.3;stroke-width:0.5;\" x=\"187.805119\" xlink:href=\"#C0_0_aac40eb5cc\" y=\"199.182701\"/>\n    </g>\n    <g clip-path=\"url(#p93903c30f7)\">\n     <use style=\"fill:#e24a33;fill-opacity:0.434679;stroke:#e24a33;stroke-opacity:0.434679;stroke-width:0.5;\" x=\"233.733899\" xlink:href=\"#C0_0_aac40eb5cc\" y=\"178.195278\"/>\n    </g>\n    <g clip-path=\"url(#p93903c30f7)\">\n     <use style=\"fill:#e24a33;fill-opacity:0.457443;stroke:#e24a33;stroke-opacity:0.457443;stroke-width:0.5;\" x=\"139.853549\" xlink:href=\"#C0_0_aac40eb5cc\" y=\"257.046537\"/>\n    </g>\n    <g clip-path=\"url(#p93903c30f7)\">\n     <use style=\"fill:#e24a33;fill-opacity:0.462594;stroke:#e24a33;stroke-opacity:0.462594;stroke-width:0.5;\" x=\"202.412697\" xlink:href=\"#C0_0_aac40eb5cc\" y=\"210.260011\"/>\n    </g>\n    <g clip-path=\"url(#p93903c30f7)\">\n     <use style=\"fill:#e24a33;fill-opacity:0.489174;stroke:#e24a33;stroke-opacity:0.489174;stroke-width:0.5;\" x=\"171.638226\" xlink:href=\"#C0_0_aac40eb5cc\" y=\"219.755369\"/>\n    </g>\n    <g clip-path=\"url(#p93903c30f7)\">\n     <use style=\"fill:#e24a33;fill-opacity:0.491106;stroke:#e24a33;stroke-opacity:0.491106;stroke-width:0.5;\" x=\"220.054797\" xlink:href=\"#C0_0_aac40eb5cc\" y=\"183.033894\"/>\n    </g>\n    <g clip-path=\"url(#p93903c30f7)\">\n     <use style=\"fill:#e24a33;fill-opacity:0.499206;stroke:#e24a33;stroke-opacity:0.499206;stroke-width:0.5;\" x=\"138.933896\" xlink:href=\"#C0_0_aac40eb5cc\" y=\"228.015583\"/>\n    </g>\n    <g clip-path=\"url(#p93903c30f7)\">\n     <use style=\"fill:#e24a33;fill-opacity:0.508272;stroke:#e24a33;stroke-opacity:0.508272;stroke-width:0.5;\" x=\"138.059006\" xlink:href=\"#C0_0_aac40eb5cc\" y=\"251.292112\"/>\n    </g>\n    <g clip-path=\"url(#p93903c30f7)\">\n     <use style=\"fill:#e24a33;fill-opacity:0.521682;stroke:#e24a33;stroke-opacity:0.521682;stroke-width:0.5;\" x=\"173.177828\" xlink:href=\"#C0_0_aac40eb5cc\" y=\"227.598482\"/>\n    </g>\n    <g clip-path=\"url(#p93903c30f7)\">\n     <use style=\"fill:#e24a33;fill-opacity:0.540714;stroke:#e24a33;stroke-opacity:0.540714;stroke-width:0.5;\" x=\"232.990401\" xlink:href=\"#C0_0_aac40eb5cc\" y=\"186.705981\"/>\n    </g>\n    <g clip-path=\"url(#p93903c30f7)\">\n     <use style=\"fill:#e24a33;fill-opacity:0.548214;stroke:#e24a33;stroke-opacity:0.548214;stroke-width:0.5;\" x=\"285.775518\" xlink:href=\"#C0_0_aac40eb5cc\" y=\"196.504092\"/>\n    </g>\n    <g clip-path=\"url(#p93903c30f7)\">\n     <use style=\"fill:#e24a33;fill-opacity:0.576379;stroke:#e24a33;stroke-opacity:0.576379;stroke-width:0.5;\" x=\"237.254403\" xlink:href=\"#C0_0_aac40eb5cc\" y=\"221.775327\"/>\n    </g>\n    <g clip-path=\"url(#p93903c30f7)\">\n     <use style=\"fill:#e24a33;fill-opacity:0.5901;stroke:#e24a33;stroke-opacity:0.5901;stroke-width:0.5;\" x=\"327.398622\" xlink:href=\"#C0_0_aac40eb5cc\" y=\"135.883179\"/>\n    </g>\n    <g clip-path=\"url(#p93903c30f7)\">\n     <use style=\"fill:#e24a33;fill-opacity:0.592673;stroke:#e24a33;stroke-opacity:0.592673;stroke-width:0.5;\" x=\"233.324016\" xlink:href=\"#C0_0_aac40eb5cc\" y=\"216.450201\"/>\n    </g>\n    <g clip-path=\"url(#p93903c30f7)\">\n     <use style=\"fill:#e24a33;fill-opacity:0.595648;stroke:#e24a33;stroke-opacity:0.595648;stroke-width:0.5;\" x=\"316.024462\" xlink:href=\"#C0_0_aac40eb5cc\" y=\"147.183967\"/>\n    </g>\n    <g clip-path=\"url(#p93903c30f7)\">\n     <use style=\"fill:#e24a33;fill-opacity:0.6003;stroke:#e24a33;stroke-opacity:0.6003;stroke-width:0.5;\" x=\"255.098925\" xlink:href=\"#C0_0_aac40eb5cc\" y=\"203.201956\"/>\n    </g>\n    <g clip-path=\"url(#p93903c30f7)\">\n     <use style=\"fill:#e24a33;fill-opacity:0.613428;stroke:#e24a33;stroke-opacity:0.613428;stroke-width:0.5;\" x=\"351.974316\" xlink:href=\"#C0_0_aac40eb5cc\" y=\"163.717171\"/>\n    </g>\n    <g clip-path=\"url(#p93903c30f7)\">\n     <use style=\"fill:#e24a33;fill-opacity:0.631534;stroke:#e24a33;stroke-opacity:0.631534;stroke-width:0.5;\" x=\"228.007038\" xlink:href=\"#C0_0_aac40eb5cc\" y=\"205.758966\"/>\n    </g>\n    <g clip-path=\"url(#p93903c30f7)\">\n     <use style=\"fill:#e24a33;fill-opacity:0.632439;stroke:#e24a33;stroke-opacity:0.632439;stroke-width:0.5;\" x=\"93.06872\" xlink:href=\"#C0_0_aac40eb5cc\" y=\"284.148202\"/>\n    </g>\n    <g clip-path=\"url(#p93903c30f7)\">\n     <use style=\"fill:#e24a33;fill-opacity:0.644207;stroke:#e24a33;stroke-opacity:0.644207;stroke-width:0.5;\" x=\"361.747954\" xlink:href=\"#C0_0_aac40eb5cc\" y=\"107.488852\"/>\n    </g>\n    <g clip-path=\"url(#p93903c30f7)\">\n     <use style=\"fill:#e24a33;fill-opacity:0.645178;stroke:#e24a33;stroke-opacity:0.645178;stroke-width:0.5;\" x=\"175.557679\" xlink:href=\"#C0_0_aac40eb5cc\" y=\"294.357092\"/>\n    </g>\n    <g clip-path=\"url(#p93903c30f7)\">\n     <use style=\"fill:#e24a33;fill-opacity:0.646049;stroke:#e24a33;stroke-opacity:0.646049;stroke-width:0.5;\" x=\"200.556068\" xlink:href=\"#C0_0_aac40eb5cc\" y=\"247.635659\"/>\n    </g>\n    <g clip-path=\"url(#p93903c30f7)\">\n     <use style=\"fill:#e24a33;fill-opacity:0.660954;stroke:#e24a33;stroke-opacity:0.660954;stroke-width:0.5;\" x=\"249.441356\" xlink:href=\"#C0_0_aac40eb5cc\" y=\"173.639609\"/>\n    </g>\n    <g clip-path=\"url(#p93903c30f7)\">\n     <use style=\"fill:#e24a33;fill-opacity:0.667088;stroke:#e24a33;stroke-opacity:0.667088;stroke-width:0.5;\" x=\"241.545676\" xlink:href=\"#C0_0_aac40eb5cc\" y=\"229.651058\"/>\n    </g>\n    <g clip-path=\"url(#p93903c30f7)\">\n     <use style=\"fill:#e24a33;fill-opacity:0.669078;stroke:#e24a33;stroke-opacity:0.669078;stroke-width:0.5;\" x=\"274.409987\" xlink:href=\"#C0_0_aac40eb5cc\" y=\"206.163038\"/>\n    </g>\n    <g clip-path=\"url(#p93903c30f7)\">\n     <use style=\"fill:#e24a33;fill-opacity:0.67496;stroke:#e24a33;stroke-opacity:0.67496;stroke-width:0.5;\" x=\"190.072387\" xlink:href=\"#C0_0_aac40eb5cc\" y=\"232.962876\"/>\n    </g>\n    <g clip-path=\"url(#p93903c30f7)\">\n     <use style=\"fill:#e24a33;fill-opacity:0.676986;stroke:#e24a33;stroke-opacity:0.676986;stroke-width:0.5;\" x=\"116.393391\" xlink:href=\"#C0_0_aac40eb5cc\" y=\"301.330409\"/>\n    </g>\n    <g clip-path=\"url(#p93903c30f7)\">\n     <use style=\"fill:#e24a33;fill-opacity:0.683008;stroke:#e24a33;stroke-opacity:0.683008;stroke-width:0.5;\" x=\"305.257492\" xlink:href=\"#C0_0_aac40eb5cc\" y=\"174.050976\"/>\n    </g>\n    <g clip-path=\"url(#p93903c30f7)\">\n     <use style=\"fill:#e24a33;fill-opacity:0.68827;stroke:#e24a33;stroke-opacity:0.68827;stroke-width:0.5;\" x=\"354.627731\" xlink:href=\"#C0_0_aac40eb5cc\" y=\"177.453058\"/>\n    </g>\n    <g clip-path=\"url(#p93903c30f7)\">\n     <use style=\"fill:#e24a33;fill-opacity:0.693028;stroke:#e24a33;stroke-opacity:0.693028;stroke-width:0.5;\" x=\"394.010518\" xlink:href=\"#C0_0_aac40eb5cc\" y=\"123.143169\"/>\n    </g>\n    <g clip-path=\"url(#p93903c30f7)\">\n     <use style=\"fill:#e24a33;fill-opacity:0.694415;stroke:#e24a33;stroke-opacity:0.694415;stroke-width:0.5;\" x=\"370.651476\" xlink:href=\"#C0_0_aac40eb5cc\" y=\"168.510682\"/>\n    </g>\n    <g clip-path=\"url(#p93903c30f7)\">\n     <use style=\"fill:#e24a33;fill-opacity:0.700739;stroke:#e24a33;stroke-opacity:0.700739;stroke-width:0.5;\" x=\"228.45688\" xlink:href=\"#C0_0_aac40eb5cc\" y=\"217.580583\"/>\n    </g>\n    <g clip-path=\"url(#p93903c30f7)\">\n     <use style=\"fill:#e24a33;fill-opacity:0.701247;stroke:#e24a33;stroke-opacity:0.701247;stroke-width:0.5;\" x=\"270.687558\" xlink:href=\"#C0_0_aac40eb5cc\" y=\"187.835622\"/>\n    </g>\n    <g clip-path=\"url(#p93903c30f7)\">\n     <use style=\"fill:#e24a33;fill-opacity:0.710583;stroke:#e24a33;stroke-opacity:0.710583;stroke-width:0.5;\" x=\"252.711521\" xlink:href=\"#C0_0_aac40eb5cc\" y=\"221.395433\"/>\n    </g>\n    <g clip-path=\"url(#p93903c30f7)\">\n     <use style=\"fill:#e24a33;fill-opacity:0.711973;stroke:#e24a33;stroke-opacity:0.711973;stroke-width:0.5;\" x=\"272.501868\" xlink:href=\"#C0_0_aac40eb5cc\" y=\"244.473215\"/>\n    </g>\n    <g clip-path=\"url(#p93903c30f7)\">\n     <use style=\"fill:#e24a33;fill-opacity:0.7413;stroke:#e24a33;stroke-opacity:0.7413;stroke-width:0.5;\" x=\"312.163718\" xlink:href=\"#C0_0_aac40eb5cc\" y=\"186.600713\"/>\n    </g>\n    <g clip-path=\"url(#p93903c30f7)\">\n     <use style=\"fill:#e24a33;fill-opacity:0.752571;stroke:#e24a33;stroke-opacity:0.752571;stroke-width:0.5;\" x=\"224.225807\" xlink:href=\"#C0_0_aac40eb5cc\" y=\"260.325386\"/>\n    </g>\n    <g clip-path=\"url(#p93903c30f7)\">\n     <use style=\"fill:#e24a33;fill-opacity:0.768142;stroke:#e24a33;stroke-opacity:0.768142;stroke-width:0.5;\" x=\"139.026355\" xlink:href=\"#C0_0_aac40eb5cc\" y=\"292.151549\"/>\n    </g>\n    <g clip-path=\"url(#p93903c30f7)\">\n     <use style=\"fill:#e24a33;fill-opacity:0.769994;stroke:#e24a33;stroke-opacity:0.769994;stroke-width:0.5;\" x=\"304.300582\" xlink:href=\"#C0_0_aac40eb5cc\" y=\"202.356719\"/>\n    </g>\n    <g clip-path=\"url(#p93903c30f7)\">\n     <use style=\"fill:#e24a33;fill-opacity:0.796686;stroke:#e24a33;stroke-opacity:0.796686;stroke-width:0.5;\" x=\"310.562307\" xlink:href=\"#C0_0_aac40eb5cc\" y=\"246.671753\"/>\n    </g>\n    <g clip-path=\"url(#p93903c30f7)\">\n     <use style=\"fill:#e24a33;fill-opacity:0.809714;stroke:#e24a33;stroke-opacity:0.809714;stroke-width:0.5;\" x=\"128.880994\" xlink:href=\"#C0_0_aac40eb5cc\" y=\"279.932331\"/>\n    </g>\n    <g clip-path=\"url(#p93903c30f7)\">\n     <use style=\"fill:#e24a33;fill-opacity:0.814566;stroke:#e24a33;stroke-opacity:0.814566;stroke-width:0.5;\" x=\"153.614528\" xlink:href=\"#C0_0_aac40eb5cc\" y=\"245.602303\"/>\n    </g>\n    <g clip-path=\"url(#p93903c30f7)\">\n     <use style=\"fill:#e24a33;fill-opacity:0.856299;stroke:#e24a33;stroke-opacity:0.856299;stroke-width:0.5;\" x=\"190.827511\" xlink:href=\"#C0_0_aac40eb5cc\" y=\"289.372224\"/>\n    </g>\n    <g clip-path=\"url(#p93903c30f7)\">\n     <use style=\"fill:#e24a33;fill-opacity:0.866368;stroke:#e24a33;stroke-opacity:0.866368;stroke-width:0.5;\" x=\"321.132024\" xlink:href=\"#C0_0_aac40eb5cc\" y=\"204.137679\"/>\n    </g>\n    <g clip-path=\"url(#p93903c30f7)\">\n     <use style=\"fill:#e24a33;fill-opacity:0.871551;stroke:#e24a33;stroke-opacity:0.871551;stroke-width:0.5;\" x=\"236.438142\" xlink:href=\"#C0_0_aac40eb5cc\" y=\"273.833386\"/>\n    </g>\n    <g clip-path=\"url(#p93903c30f7)\">\n     <use style=\"fill:#e24a33;fill-opacity:0.901501;stroke:#e24a33;stroke-opacity:0.901501;stroke-width:0.5;\" x=\"244.304344\" xlink:href=\"#C0_0_aac40eb5cc\" y=\"233.289926\"/>\n    </g>\n    <g clip-path=\"url(#p93903c30f7)\">\n     <use style=\"fill:#e24a33;fill-opacity:0.957007;stroke:#e24a33;stroke-opacity:0.957007;stroke-width:0.5;\" x=\"249.279973\" xlink:href=\"#C0_0_aac40eb5cc\" y=\"240.889004\"/>\n    </g>\n    <g clip-path=\"url(#p93903c30f7)\">\n     <use style=\"fill:#e24a33;fill-opacity:0.968014;stroke:#e24a33;stroke-opacity:0.968014;stroke-width:0.5;\" x=\"274.732533\" xlink:href=\"#C0_0_aac40eb5cc\" y=\"264.902968\"/>\n    </g>\n    <g clip-path=\"url(#p93903c30f7)\">\n     <use style=\"fill:#e24a33;fill-opacity:0.969048;stroke:#e24a33;stroke-opacity:0.969048;stroke-width:0.5;\" x=\"301.097071\" xlink:href=\"#C0_0_aac40eb5cc\" y=\"228.108889\"/>\n    </g>\n    <g clip-path=\"url(#p93903c30f7)\">\n     <use style=\"fill:#e24a33;stroke:#e24a33;stroke-width:0.5;\" x=\"236.972296\" xlink:href=\"#C0_0_aac40eb5cc\" y=\"266.212329\"/>\n    </g>\n   </g>\n   <g id=\"Poly3DCollection_1\">\n    <path clip-path=\"url(#p93903c30f7)\" d=\"M 166.664177 211.913894 \nL 187.45947 205.714187 \nL 199.439034 192.955274 \nL 178.694758 199.2081 \nz\n\" style=\"fill:#d0442f;fill-opacity:0.7;\"/>\n    <path clip-path=\"url(#p93903c30f7)\" d=\"M 154.469264 224.793242 \nL 175.315029 218.648704 \nL 187.45947 205.714187 \nL 166.664177 211.913894 \nz\n\" style=\"fill:#d0442f;fill-opacity:0.7;\"/>\n    <path clip-path=\"url(#p93903c30f7)\" d=\"M 187.45947 205.714187 \nL 208.570918 199.420225 \nL 220.496531 186.608034 \nL 199.439034 192.955274 \nz\n\" style=\"fill:#d0442f;fill-opacity:0.7;\"/>\n    <path clip-path=\"url(#p93903c30f7)\" d=\"M 142.106629 237.849726 \nL 163.002281 231.762477 \nL 175.315029 218.648704 \nL 154.469264 224.793242 \nz\n\" style=\"fill:#d0442f;fill-opacity:0.7;\"/>\n    <path clip-path=\"url(#p93903c30f7)\" d=\"M 175.315029 218.648704 \nL 196.479912 212.410103 \nL 208.570918 199.420225 \nL 187.45947 205.714187 \nz\n\" style=\"fill:#d0442f;fill-opacity:0.7;\"/>\n    <path clip-path=\"url(#p93903c30f7)\" d=\"M 208.570918 199.420225 \nL 230.005784 193.029842 \nL 241.874398 180.164228 \nL 220.496531 186.608034 \nz\n\" style=\"fill:#d0442f;fill-opacity:0.7;\"/>\n    <path clip-path=\"url(#p93903c30f7)\" d=\"M 129.572788 251.087025 \nL 150.517706 245.059256 \nL 163.002281 231.762477 \nL 142.106629 237.849726 \nz\n\" style=\"fill:#d0442f;fill-opacity:0.7;\"/>\n    <path clip-path=\"url(#p93903c30f7)\" d=\"M 163.002281 231.762477 \nL 184.22005 225.58139 \nL 196.479912 212.410103 \nL 175.315029 218.648704 \nz\n\" style=\"fill:#d0442f;fill-opacity:0.7;\"/>\n    <path clip-path=\"url(#p93903c30f7)\" d=\"M 196.479912 212.410103 \nL 217.971299 206.07526 \nL 230.005784 193.029842 \nL 208.570918 199.420225 \nz\n\" style=\"fill:#d0442f;fill-opacity:0.7;\"/>\n    <path clip-path=\"url(#p93903c30f7)\" d=\"M 230.005784 193.029842 \nL 251.771559 186.540805 \nL 263.580001 173.621633 \nL 241.874398 180.164228 \nz\n\" style=\"fill:#d0442f;fill-opacity:0.7;\"/>\n    <path clip-path=\"url(#p93903c30f7)\" d=\"M 116.864159 264.508921 \nL 137.857679 258.542901 \nL 150.517706 245.059256 \nL 129.572788 251.087025 \nz\n\" style=\"fill:#d0442f;fill-opacity:0.7;\"/>\n    <path clip-path=\"url(#p93903c30f7)\" d=\"M 150.517706 245.059256 \nL 171.78777 238.937914 \nL 184.22005 225.58139 \nL 163.002281 231.762477 \nz\n\" style=\"fill:#d0442f;fill-opacity:0.7;\"/>\n    <path clip-path=\"url(#p93903c30f7)\" d=\"M 184.22005 225.58139 \nL 205.767442 219.304279 \nL 217.971299 206.07526 \nL 196.479912 212.410103 \nz\n\" style=\"fill:#d0442f;fill-opacity:0.7;\"/>\n    <path clip-path=\"url(#p93903c30f7)\" d=\"M 217.971299 206.07526 \nL 239.796804 199.641932 \nL 251.771559 186.540805 \nL 230.005784 193.029842 \nz\n\" style=\"fill:#d0442f;fill-opacity:0.7;\"/>\n    <path clip-path=\"url(#p93903c30f7)\" d=\"M 251.771559 186.540805 \nL 273.875965 179.950811 \nL 285.620936 166.977962 \nL 263.580001 173.621633 \nz\n\" style=\"fill:#d0442f;fill-opacity:0.7;\"/>\n    <path clip-path=\"url(#p93903c30f7)\" d=\"M 103.977061 278.119303 \nL 125.018477 272.217378 \nL 137.857679 258.542901 \nL 116.864159 264.508921 \nz\n\" style=\"fill:#d0442f;fill-opacity:0.7;\"/>\n    <path clip-path=\"url(#p93903c30f7)\" d=\"M 137.857679 258.542901 \nL 159.179407 252.48361 \nL 171.78777 238.937914 \nL 150.517706 245.059256 \nz\n\" style=\"fill:#d0442f;fill-opacity:0.7;\"/>\n    <path clip-path=\"url(#p93903c30f7)\" d=\"M 171.78777 238.937914 \nL 193.39061 232.720801 \nL 205.767442 219.304279 \nL 184.22005 225.58139 \nz\n\" style=\"fill:#d0442f;fill-opacity:0.7;\"/>\n    <path clip-path=\"url(#p93903c30f7)\" d=\"M 205.767442 219.304279 \nL 227.652197 212.928888 \nL 239.796804 199.641932 \nL 217.971299 206.07526 \nz\n\" style=\"fill:#d0442f;fill-opacity:0.7;\"/>\n    <path clip-path=\"url(#p93903c30f7)\" d=\"M 239.796804 199.641932 \nL 261.964278 193.107805 \nL 273.875965 179.950811 \nL 251.771559 186.540805 \nz\n\" style=\"fill:#d0442f;fill-opacity:0.7;\"/>\n    <path clip-path=\"url(#p93903c30f7)\" d=\"M 273.875965 179.950811 \nL 296.326966 173.257488 \nL 308.005034 160.230853 \nL 285.620936 166.977962 \nz\n\" style=\"fill:#d0442f;fill-opacity:0.7;\"/>\n    <path clip-path=\"url(#p93903c30f7)\" d=\"M 90.907708 291.922169 \nL 111.996268 286.086767 \nL 125.018477 272.217378 \nL 103.977061 278.119303 \nz\n\" style=\"fill:#d0442f;fill-opacity:0.7;\"/>\n    <path clip-path=\"url(#p93903c30f7)\" d=\"M 125.018477 272.217378 \nL 146.391196 266.222526 \nL 159.179407 252.48361 \nL 137.857679 258.542901 \nz\n\" style=\"fill:#d0442f;fill-opacity:0.7;\"/>\n    <path clip-path=\"url(#p93903c30f7)\" d=\"M 159.179407 252.48361 \nL 180.837102 246.328843 \nL 193.39061 232.720801 \nL 171.78777 238.937914 \nz\n\" style=\"fill:#d0442f;fill-opacity:0.7;\"/>\n    <path clip-path=\"url(#p93903c30f7)\" d=\"M 193.39061 232.720801 \nL 215.334099 226.405653 \nL 227.652197 212.928888 \nL 205.767442 219.304279 \nz\n\" style=\"fill:#d0442f;fill-opacity:0.7;\"/>\n    <path clip-path=\"url(#p93903c30f7)\" d=\"M 227.652197 212.928888 \nL 249.882302 206.452891 \nL 261.964278 193.107805 \nL 239.796804 199.641932 \nz\n\" style=\"fill:#d0442f;fill-opacity:0.7;\"/>\n    <path clip-path=\"url(#p93903c30f7)\" d=\"M 261.964278 193.107805 \nL 284.481823 186.47049 \nL 296.326966 173.257488 \nL 273.875965 179.950811 \nz\n\" style=\"fill:#d0442f;fill-opacity:0.7;\"/>\n    <path clip-path=\"url(#p93903c30f7)\" d=\"M 296.326966 173.257488 \nL 319.132779 166.458384 \nL 330.740372 153.377872 \nL 308.005034 160.230853 \nz\n\" style=\"fill:#d0442f;fill-opacity:0.7;\"/>\n    <path clip-path=\"url(#p93903c30f7)\" d=\"M 77.652205 305.921632 \nL 98.787113 300.155265 \nL 111.996268 286.086767 \nL 90.907708 291.922169 \nz\n\" style=\"fill:#d0442f;fill-opacity:0.7;\"/>\n    <path clip-path=\"url(#p93903c30f7)\" d=\"M 111.996268 286.086767 \nL 133.41926 280.158824 \nL 146.391196 266.222526 \nL 125.018477 272.217378 \nz\n\" style=\"fill:#d0442f;fill-opacity:0.7;\"/>\n    <path clip-path=\"url(#p93903c30f7)\" d=\"M 146.391196 266.222526 \nL 168.103106 260.132533 \nL 180.837102 246.328843 \nL 159.179407 252.48361 \nz\n\" style=\"fill:#d0442f;fill-opacity:0.7;\"/>\n    <path clip-path=\"url(#p93903c30f7)\" d=\"M 180.837102 246.328843 \nL 202.838766 240.076325 \nL 215.334099 226.405653 \nL 193.39061 232.720801 \nz\n\" style=\"fill:#d0442f;fill-opacity:0.7;\"/>\n    <path clip-path=\"url(#p93903c30f7)\" d=\"M 215.334099 226.405653 \nL 237.626357 219.990132 \nL 249.882302 206.452891 \nL 227.652197 212.928888 \nz\n\" style=\"fill:#d0442f;fill-opacity:0.7;\"/>\n    <path clip-path=\"url(#p93903c30f7)\" d=\"M 249.882302 206.452891 \nL 272.465996 199.873887 \nL 284.481823 186.47049 \nL 261.964278 193.107805 \nz\n\" style=\"fill:#d0442f;fill-opacity:0.7;\"/>\n    <path clip-path=\"url(#p93903c30f7)\" d=\"M 284.481823 186.47049 \nL 307.357798 179.727523 \nL 319.132779 166.458384 \nL 296.326966 173.257488 \nz\n\" style=\"fill:#d0442f;fill-opacity:0.7;\"/>\n    <path clip-path=\"url(#p93903c30f7)\" d=\"M 319.132779 166.458384 \nL 342.301882 159.550972 \nL 353.835283 146.416507 \nL 330.740372 153.377872 \nz\n\" style=\"fill:#d0442f;fill-opacity:0.7;\"/>\n    <path clip-path=\"url(#p93903c30f7)\" d=\"M 64.206548 320.121922 \nL 85.386955 314.427191 \nL 98.787113 300.155265 \nL 77.652205 305.921632 \nz\n\" style=\"fill:#d0442f;fill-opacity:0.7;\"/>\n    <path clip-path=\"url(#p93903c30f7)\" d=\"M 98.787113 300.155265 \nL 120.259611 294.296791 \nL 133.41926 280.158824 \nL 111.996268 286.086767 \nz\n\" style=\"fill:#d0442f;fill-opacity:0.7;\"/>\n    <path clip-path=\"url(#p93903c30f7)\" d=\"M 133.41926 280.158824 \nL 155.184702 274.136123 \nL 168.103106 260.132533 \nL 146.391196 266.222526 \nz\n\" style=\"fill:#d0442f;fill-opacity:0.7;\"/>\n    <path clip-path=\"url(#p93903c30f7)\" d=\"M 168.103106 260.132533 \nL 190.162345 253.945119 \nL 202.838766 240.076325 \nL 180.837102 246.328843 \nz\n\" style=\"fill:#d0442f;fill-opacity:0.7;\"/>\n    <path clip-path=\"url(#p93903c30f7)\" d=\"M 202.838766 240.076325 \nL 225.192661 233.723709 \nL 237.626357 219.990132 \nL 215.334099 226.405653 \nz\n\" style=\"fill:#d0442f;fill-opacity:0.7;\"/>\n    <path clip-path=\"url(#p93903c30f7)\" d=\"M 237.626357 219.990132 \nL 260.275767 213.471826 \nL 272.465996 199.873887 \nL 249.882302 206.452891 \nz\n\" style=\"fill:#d0442f;fill-opacity:0.7;\"/>\n    <path clip-path=\"url(#p93903c30f7)\" d=\"M 272.465996 199.873887 \nL 295.411783 193.1894 \nL 307.357798 179.727523 \nL 284.481823 186.47049 \nz\n\" style=\"fill:#d0442f;fill-opacity:0.7;\"/>\n    <path clip-path=\"url(#p93903c30f7)\" d=\"M 307.357798 179.727523 \nL 330.600829 172.876363 \nL 342.301882 159.550972 \nL 319.132779 166.458384 \nz\n\" style=\"fill:#d0442f;fill-opacity:0.7;\"/>\n    <path clip-path=\"url(#p93903c30f7)\" d=\"M 342.301882 159.550972 \nL 365.843025 152.532644 \nL 377.298364 139.344166 \nL 353.835283 146.416507 \nz\n\" style=\"fill:#d0442f;fill-opacity:0.7;\"/>\n    <path clip-path=\"url(#p93903c30f7)\" d=\"M 85.386955 314.427191 \nL 106.908145 308.640835 \nL 120.259611 294.296791 \nL 98.787113 300.155265 \nz\n\" style=\"fill:#d0442f;fill-opacity:0.7;\"/>\n    <path clip-path=\"url(#p93903c30f7)\" d=\"M 120.259611 294.296791 \nL 142.077854 288.343986 \nL 155.184702 274.136123 \nL 133.41926 280.158824 \nz\n\" style=\"fill:#d0442f;fill-opacity:0.7;\"/>\n    <path clip-path=\"url(#p93903c30f7)\" d=\"M 155.184702 274.136123 \nL 177.300871 268.016372 \nL 190.162345 253.945119 \nL 168.103106 260.132533 \nz\n\" style=\"fill:#d0442f;fill-opacity:0.7;\"/>\n    <path clip-path=\"url(#p93903c30f7)\" d=\"M 190.162345 253.945119 \nL 212.577316 247.657924 \nL 225.192661 233.723709 \nL 202.838766 240.076325 \nz\n\" style=\"fill:#d0442f;fill-opacity:0.7;\"/>\n    <path clip-path=\"url(#p93903c30f7)\" d=\"M 225.192661 233.723709 \nL 247.907311 227.268572 \nL 260.275767 213.471826 \nL 237.626357 219.990132 \nz\n\" style=\"fill:#d0442f;fill-opacity:0.7;\"/>\n    <path clip-path=\"url(#p93903c30f7)\" d=\"M 260.275767 213.471826 \nL 283.290979 206.848245 \nL 295.411783 193.1894 \nL 272.465996 199.873887 \nz\n\" style=\"fill:#d0442f;fill-opacity:0.7;\"/>\n    <path clip-path=\"url(#p93903c30f7)\" d=\"M 295.411783 193.1894 \nL 318.728441 186.396872 \nL 330.600829 172.876363 \nL 307.357798 179.727523 \nz\n\" style=\"fill:#d0442f;fill-opacity:0.7;\"/>\n    <path clip-path=\"url(#p93903c30f7)\" d=\"M 330.600829 172.876363 \nL 354.219821 165.914383 \nL 365.843025 152.532644 \nL 342.301882 159.550972 \nz\n\" style=\"fill:#d0442f;fill-opacity:0.7;\"/>\n    <path clip-path=\"url(#p93903c30f7)\" d=\"M 106.908145 308.640835 \nL 128.77841 302.760624 \nL 142.077854 288.343986 \nL 120.259611 294.296791 \nz\n\" style=\"fill:#d0442f;fill-opacity:0.7;\"/>\n    <path clip-path=\"url(#p93903c30f7)\" d=\"M 142.077854 288.343986 \nL 164.250261 282.294552 \nL 177.300871 268.016372 \nL 155.184702 274.136123 \nz\n\" style=\"fill:#d0442f;fill-opacity:0.7;\"/>\n    <path clip-path=\"url(#p93903c30f7)\" d=\"M 177.300871 268.016372 \nL 199.776314 261.797207 \nL 212.577316 247.657924 \nL 190.162345 253.945119 \nz\n\" style=\"fill:#d0442f;fill-opacity:0.7;\"/>\n    <path clip-path=\"url(#p93903c30f7)\" d=\"M 212.577316 247.657924 \nL 235.356693 241.268517 \nL 247.907311 227.268572 \nL 225.192661 233.723709 \nz\n\" style=\"fill:#d0442f;fill-opacity:0.7;\"/>\n    <path clip-path=\"url(#p93903c30f7)\" d=\"M 247.907311 227.268572 \nL 270.991523 220.708412 \nL 283.290979 206.848245 \nL 260.275767 213.471826 \nz\n\" style=\"fill:#d0442f;fill-opacity:0.7;\"/>\n    <path clip-path=\"url(#p93903c30f7)\" d=\"M 283.290979 206.848245 \nL 306.680929 200.116817 \nL 318.728441 186.396872 \nL 295.411783 193.1894 \nz\n\" style=\"fill:#d0442f;fill-opacity:0.7;\"/>\n    <path clip-path=\"url(#p93903c30f7)\" d=\"M 318.728441 186.396872 \nL 342.425037 179.493662 \nL 354.219821 165.914383 \nL 330.600829 172.876363 \nz\n\" style=\"fill:#d0442f;fill-opacity:0.7;\"/>\n    <path clip-path=\"url(#p93903c30f7)\" d=\"M 128.77841 302.760624 \nL 151.006313 296.784255 \nL 164.250261 282.294552 \nL 142.077854 288.343986 \nz\n\" style=\"fill:#d0442f;fill-opacity:0.7;\"/>\n    <path clip-path=\"url(#p93903c30f7)\" d=\"M 164.250261 282.294552 \nL 186.785525 276.146117 \nL 199.776314 261.797207 \nL 177.300871 268.016372 \nz\n\" style=\"fill:#d0442f;fill-opacity:0.7;\"/>\n    <path clip-path=\"url(#p93903c30f7)\" d=\"M 199.776314 261.797207 \nL 222.619857 255.476185 \nL 235.356693 241.268517 \nL 212.577316 247.657924 \nz\n\" style=\"fill:#d0442f;fill-opacity:0.7;\"/>\n    <path clip-path=\"url(#p93903c30f7)\" d=\"M 235.356693 241.268517 \nL 258.509435 234.774385 \nL 270.991523 220.708412 \nL 247.907311 227.268572 \nz\n\" style=\"fill:#d0442f;fill-opacity:0.7;\"/>\n    <path clip-path=\"url(#p93903c30f7)\" d=\"M 270.991523 220.708412 \nL 294.454388 214.040644 \nL 306.680929 200.116817 \nL 283.290979 206.848245 \nz\n\" style=\"fill:#d0442f;fill-opacity:0.7;\"/>\n    <path clip-path=\"url(#p93903c30f7)\" d=\"M 306.680929 200.116817 \nL 330.454844 193.274888 \nL 342.425037 179.493662 \nL 318.728441 186.396872 \nz\n\" style=\"fill:#d0442f;fill-opacity:0.7;\"/>\n    <path clip-path=\"url(#p93903c30f7)\" d=\"M 151.006313 296.784255 \nL 173.600698 290.709352 \nL 186.785525 276.146117 \nL 164.250261 282.294552 \nz\n\" style=\"fill:#d0442f;fill-opacity:0.7;\"/>\n    <path clip-path=\"url(#p93903c30f7)\" d=\"M 186.785525 276.146117 \nL 209.692627 269.896231 \nL 222.619857 255.476185 \nL 199.776314 261.797207 \nz\n\" style=\"fill:#d0442f;fill-opacity:0.7;\"/>\n    <path clip-path=\"url(#p93903c30f7)\" d=\"M 222.619857 255.476185 \nL 245.840617 249.050783 \nL 258.509435 234.774385 \nL 235.356693 241.268517 \nz\n\" style=\"fill:#d0442f;fill-opacity:0.7;\"/>\n    <path clip-path=\"url(#p93903c30f7)\" d=\"M 258.509435 234.774385 \nL 282.044798 228.172931 \nL 294.454388 214.040644 \nL 270.991523 220.708412 \nz\n\" style=\"fill:#d0442f;fill-opacity:0.7;\"/>\n    <path clip-path=\"url(#p93903c30f7)\" d=\"M 294.454388 214.040644 \nL 318.3053 207.2626 \nL 330.454844 193.274888 \nL 306.680929 200.116817 \nz\n\" style=\"fill:#d0442f;fill-opacity:0.7;\"/>\n    <path clip-path=\"url(#p93903c30f7)\" d=\"M 173.600698 290.709352 \nL 196.570703 284.533455 \nL 209.692627 269.896231 \nL 186.785525 276.146117 \nz\n\" style=\"fill:#d0442f;fill-opacity:0.7;\"/>\n    <path clip-path=\"url(#p93903c30f7)\" d=\"M 209.692627 269.896231 \nL 232.980847 263.542363 \nL 245.840617 249.050783 \nL 222.619857 255.476185 \nz\n\" style=\"fill:#d0442f;fill-opacity:0.7;\"/>\n    <path clip-path=\"url(#p93903c30f7)\" d=\"M 245.840617 249.050783 \nL 269.448016 242.518395 \nL 282.044798 228.172931 \nL 258.509435 234.774385 \nz\n\" style=\"fill:#d0442f;fill-opacity:0.7;\"/>\n    <path clip-path=\"url(#p93903c30f7)\" d=\"M 282.044798 228.172931 \nL 305.972345 221.461473 \nL 318.3053 207.2626 \nL 294.454388 214.040644 \nz\n\" style=\"fill:#d0442f;fill-opacity:0.7;\"/>\n    <path clip-path=\"url(#p93903c30f7)\" d=\"M 196.570703 284.533455 \nL 219.925776 278.254027 \nL 232.980847 263.542363 \nL 209.692627 269.896231 \nz\n\" style=\"fill:#d0442f;fill-opacity:0.7;\"/>\n    <path clip-path=\"url(#p93903c30f7)\" d=\"M 232.980847 263.542363 \nL 256.659776 257.081895 \nL 269.448016 242.518395 \nL 245.840617 249.050783 \nz\n\" style=\"fill:#d0442f;fill-opacity:0.7;\"/>\n    <path clip-path=\"url(#p93903c30f7)\" d=\"M 269.448016 242.518395 \nL 293.451792 235.876325 \nL 305.972345 221.461473 \nL 282.044798 228.172931 \nz\n\" style=\"fill:#d0442f;fill-opacity:0.7;\"/>\n    <path clip-path=\"url(#p93903c30f7)\" d=\"M 219.925776 278.254027 \nL 243.675679 271.868442 \nL 256.659776 257.081895 \nL 232.980847 263.542363 \nz\n\" style=\"fill:#d0442f;fill-opacity:0.7;\"/>\n    <path clip-path=\"url(#p93903c30f7)\" d=\"M 256.659776 257.081895 \nL 280.73933 250.512122 \nL 293.451792 235.876325 \nL 269.448016 242.518395 \nz\n\" style=\"fill:#d0442f;fill-opacity:0.7;\"/>\n    <path clip-path=\"url(#p93903c30f7)\" d=\"M 243.675679 271.868442 \nL 267.830512 265.373984 \nL 280.73933 250.512122 \nL 256.659776 257.081895 \nz\n\" style=\"fill:#d0442f;fill-opacity:0.7;\"/>\n   </g>\n  </g>\n </g>\n <defs>\n  <clipPath id=\"p93903c30f7\">\n   <rect height=\"434.88\" width=\"434.88\" x=\"7.2\" y=\"7.2\"/>\n  </clipPath>\n </defs>\n</svg>\n",
      "image/png": "[encoded data removed]"
     },
     "metadata": {}
    }
   ],
   "source": [
    "import numpy as np\n",
    "from sklearn.decomposition import PCA\n",
    "from mpl_toolkits.mplot3d import Axes3D\n",
    "\n",
    "pca = PCA(n_components=3)\n",
    "\n",
    "pca.fit(X)\n",
    "eig_vec = pca.components_\n",
    "\n",
    "print(pca.explained_variance_ratio_)\n",
    "\n",
    "# This is the normal vector of minimum variance\n",
    "normal = eig_vec[2, :]  # (a, b, c)\n",
    "centroid = np.mean(X, axis=0)\n",
    "print(normal)\n",
    "\n",
    "# Every point (x, y, z) on the plane should satisfy a*x+b*y+c*z = d\n",
    "# Taking centroid as a point on the plane\n",
    "d = -centroid.dot(normal)\n",
    "\n",
    "# Draw plane\n",
    "xx, yy = np.meshgrid(np.arange(np.min(X[:, 0]), np.max(X[:, 0])), np.arange(np.min(X[:, 1]), np.max(X[:, 1])))\n",
    "z = (-normal[0] * xx - normal[1] * yy - d) * 1. / normal[2]\n",
    "\n",
    "# plot the surface\n",
    "plt3d = plt.figure(figsize=(12, 8)).gca(projection='3d')\n",
    "plt3d.plot_surface(xx, yy, z, alpha=0.7)\n",
    "plt3d.scatter(*(X.T))\n",
    "plt3d.quiver3D(*centroid, *normal, color='blue')\n",
    "plt.show()\n"
   ]
  },
  {
   "cell_type": "code",
   "execution_count": 57,
   "metadata": {},
   "outputs": [
    {
     "output_type": "display_data",
     "data": {
      "application/vnd.plotly.v1+json": {
       "config": {
        "plotlyServerURL": "https://plot.ly"
       },
       "data": [
        {
         "mode": "markers",
         "type": "scatter3d",
         "x": [
          1.915194503788923,
          6.221087710398319,
          4.377277390071145,
          7.853585837137692,
          7.799758081188035,
          2.7259260528264164,
          2.764642551430967,
          8.018721775350192,
          9.581393536837052,
          8.759326347420947,
          3.5781726995786665,
          5.009951255234587,
          6.834629351721363,
          7.127020269829002,
          3.7025075479039495,
          5.611961860656249,
          5.030831653078097,
          0.1376844959068224,
          7.728266216123741,
          8.826411906361166,
          3.648859839013723,
          6.153961784334937,
          0.7538124164297653,
          3.688240060019745,
          9.331401019825217,
          6.513781432265774,
          3.9720257772615417,
          7.887301429407455,
          3.1683612216887127,
          5.680986526260692,
          8.691273895612259,
          4.361734238956794,
          8.02147642080159,
          1.4376682451456455,
          7.0426097111833545,
          7.045813081895726,
          2.187921056740886,
          9.24867628615565,
          4.4214075540417666,
          9.093159589724724,
          0.598092227798519,
          1.8428708381381362,
          0.47355278801515155,
          6.748809435823302,
          5.946247799344489,
          5.333101629987506,
          0.43324062694803445,
          5.6143308006339785,
          3.2966844562091504,
          5.029668331126183
         ],
         "y": [
          1.1189431757440382,
          6.071937062184846,
          5.659446430505314,
          0.06764061990002812,
          6.17441708804297,
          9.121228864331544,
          7.905241330570334,
          9.920814661883615,
          9.588017621528664,
          7.919641352916398,
          2.8525096002450976,
          6.249167053059111,
          4.780937956706746,
          1.956751786658982,
          3.8231745203150647,
          0.5387368514623656,
          4.51648408260859,
          9.820047415219545,
          1.23942700486963,
          1.1938089792624842,
          7.385230561433468,
          5.873036334639846,
          4.716325343203678,
          1.0712681719386632,
          2.292185654606179,
          8.999651948366754,
          4.1675353780269315,
          5.358516625316159,
          0.0620851658712942,
          3.006417057703011,
          4.368931721756102,
          6.121489970657575,
          9.181980753805732,
          6.2573666996253525,
          7.059975650817733,
          1.4983371598992723,
          7.460634091367167,
          8.310069924335378,
          6.337257689509791,
          4.383098811224276,
          1.5257277467450536,
          5.684096152471901,
          5.282242775850605,
          9.514287637535933,
          4.803591785100161,
          5.025595633825503,
          5.368781929244097,
          8.192020670641583,
          0.5711563808885991,
          6.694217430745488
         ],
         "z": [
          1.2286878342468994,
          5.862339658492937,
          5.39722481460462,
          7.042889434771003,
          7.73820147706331,
          4.171335907351337,
          4.690502263954885,
          10.482028267012698,
          10.286314393288448,
          7.533157633424328,
          1.1392478733798321,
          7.381065859011626,
          4.515007310801009,
          7.4243886485899635,
          4.603819903756834,
          4.179524996365355,
          5.7007805853859566,
          1.1387761809487404,
          7.724992068988341,
          6.723121608045728,
          5.167132487504838,
          7.180383572190577,
          1.4124137522510458,
          5.767191174127571,
          8.469315165653764,
          7.88720988881742,
          3.489704718276367,
          7.319179180449174,
          4.040682994442993,
          4.2607555359657825,
          5.4908231868388055,
          4.346832700820379,
          7.278185999668504,
          2.769225660030497,
          7.636545106503256,
          5.118104492766614,
          2.890239393201176,
          8.0531362663984,
          3.858942451155457,
          8.399731469431767,
          1.4752727407799497,
          2.8162596846552717,
          2.4830169652022764,
          8.38885641701847,
          5.637847451136681,
          4.665937214835345,
          0.38838101190483254,
          4.766890055781227,
          2.905230442579464,
          5.117257270979321
         ]
        },
        {
         "opacity": 0.8,
         "showscale": false,
         "type": "surface",
         "x": [
          [
           0.1376844959068224,
           1.1376844959068224,
           2.1376844959068224,
           3.1376844959068224,
           4.137684495906822,
           5.137684495906822,
           6.137684495906822,
           7.137684495906822,
           8.137684495906822,
           9.137684495906822
          ],
          [
           0.1376844959068224,
           1.1376844959068224,
           2.1376844959068224,
           3.1376844959068224,
           4.137684495906822,
           5.137684495906822,
           6.137684495906822,
           7.137684495906822,
           8.137684495906822,
           9.137684495906822
          ],
          [
           0.1376844959068224,
           1.1376844959068224,
           2.1376844959068224,
           3.1376844959068224,
           4.137684495906822,
           5.137684495906822,
           6.137684495906822,
           7.137684495906822,
           8.137684495906822,
           9.137684495906822
          ],
          [
           0.1376844959068224,
           1.1376844959068224,
           2.1376844959068224,
           3.1376844959068224,
           4.137684495906822,
           5.137684495906822,
           6.137684495906822,
           7.137684495906822,
           8.137684495906822,
           9.137684495906822
          ],
          [
           0.1376844959068224,
           1.1376844959068224,
           2.1376844959068224,
           3.1376844959068224,
           4.137684495906822,
           5.137684495906822,
           6.137684495906822,
           7.137684495906822,
           8.137684495906822,
           9.137684495906822
          ],
          [
           0.1376844959068224,
           1.1376844959068224,
           2.1376844959068224,
           3.1376844959068224,
           4.137684495906822,
           5.137684495906822,
           6.137684495906822,
           7.137684495906822,
           8.137684495906822,
           9.137684495906822
          ],
          [
           0.1376844959068224,
           1.1376844959068224,
           2.1376844959068224,
           3.1376844959068224,
           4.137684495906822,
           5.137684495906822,
           6.137684495906822,
           7.137684495906822,
           8.137684495906822,
           9.137684495906822
          ],
          [
           0.1376844959068224,
           1.1376844959068224,
           2.1376844959068224,
           3.1376844959068224,
           4.137684495906822,
           5.137684495906822,
           6.137684495906822,
           7.137684495906822,
           8.137684495906822,
           9.137684495906822
          ],
          [
           0.1376844959068224,
           1.1376844959068224,
           2.1376844959068224,
           3.1376844959068224,
           4.137684495906822,
           5.137684495906822,
           6.137684495906822,
           7.137684495906822,
           8.137684495906822,
           9.137684495906822
          ],
          [
           0.1376844959068224,
           1.1376844959068224,
           2.1376844959068224,
           3.1376844959068224,
           4.137684495906822,
           5.137684495906822,
           6.137684495906822,
           7.137684495906822,
           8.137684495906822,
           9.137684495906822
          ]
         ],
         "y": [
          [
           0.0620851658712942,
           0.0620851658712942,
           0.0620851658712942,
           0.0620851658712942,
           0.0620851658712942,
           0.0620851658712942,
           0.0620851658712942,
           0.0620851658712942,
           0.0620851658712942,
           0.0620851658712942
          ],
          [
           1.0620851658712942,
           1.0620851658712942,
           1.0620851658712942,
           1.0620851658712942,
           1.0620851658712942,
           1.0620851658712942,
           1.0620851658712942,
           1.0620851658712942,
           1.0620851658712942,
           1.0620851658712942
          ],
          [
           2.062085165871294,
           2.062085165871294,
           2.062085165871294,
           2.062085165871294,
           2.062085165871294,
           2.062085165871294,
           2.062085165871294,
           2.062085165871294,
           2.062085165871294,
           2.062085165871294
          ],
          [
           3.062085165871294,
           3.062085165871294,
           3.062085165871294,
           3.062085165871294,
           3.062085165871294,
           3.062085165871294,
           3.062085165871294,
           3.062085165871294,
           3.062085165871294,
           3.062085165871294
          ],
          [
           4.062085165871294,
           4.062085165871294,
           4.062085165871294,
           4.062085165871294,
           4.062085165871294,
           4.062085165871294,
           4.062085165871294,
           4.062085165871294,
           4.062085165871294,
           4.062085165871294
          ],
          [
           5.062085165871294,
           5.062085165871294,
           5.062085165871294,
           5.062085165871294,
           5.062085165871294,
           5.062085165871294,
           5.062085165871294,
           5.062085165871294,
           5.062085165871294,
           5.062085165871294
          ],
          [
           6.062085165871294,
           6.062085165871294,
           6.062085165871294,
           6.062085165871294,
           6.062085165871294,
           6.062085165871294,
           6.062085165871294,
           6.062085165871294,
           6.062085165871294,
           6.062085165871294
          ],
          [
           7.062085165871294,
           7.062085165871294,
           7.062085165871294,
           7.062085165871294,
           7.062085165871294,
           7.062085165871294,
           7.062085165871294,
           7.062085165871294,
           7.062085165871294,
           7.062085165871294
          ],
          [
           8.062085165871295,
           8.062085165871295,
           8.062085165871295,
           8.062085165871295,
           8.062085165871295,
           8.062085165871295,
           8.062085165871295,
           8.062085165871295,
           8.062085165871295,
           8.062085165871295
          ],
          [
           9.062085165871295,
           9.062085165871295,
           9.062085165871295,
           9.062085165871295,
           9.062085165871295,
           9.062085165871295,
           9.062085165871295,
           9.062085165871295,
           9.062085165871295,
           9.062085165871295
          ]
         ],
         "z": [
          [
           -0.06113687877252997,
           0.7986972762836038,
           1.6585314313397375,
           2.518365586395871,
           3.378199741452005,
           4.2380338965081386,
           5.097868051564273,
           5.9577022066204055,
           6.817536361676539,
           7.677370516732673
          ],
          [
           0.13088118095040185,
           0.9907153360065356,
           1.8505494910626694,
           2.710383646118803,
           3.5702178011749375,
           4.430051956231071,
           5.289886111287205,
           6.149720266343338,
           7.009554421399471,
           7.869388576455606
          ],
          [
           0.3228992406733337,
           1.1827333957294675,
           2.042567550785601,
           2.9024017058417355,
           3.7622358608978685,
           4.622070015954003,
           5.481904171010136,
           6.341738326066269,
           7.201572481122403,
           8.061406636178537
          ],
          [
           0.5149173003962655,
           1.3747514554523992,
           2.234585610508533,
           3.0944197655646666,
           3.954253920620801,
           4.814088075676934,
           5.673922230733068,
           6.533756385789202,
           7.393590540845335,
           8.253424695901469
          ],
          [
           0.7069353601191973,
           1.5667695151753311,
           2.426603670231465,
           3.286437825287599,
           4.146271980343732,
           5.006106135399866,
           5.865940290456,
           6.725774445512133,
           7.585608600568266,
           8.4454427556244
          ],
          [
           0.8989534198421292,
           1.7587875748982629,
           2.6186217299543966,
           3.4784558850105305,
           4.338290040066664,
           5.198124195122798,
           6.057958350178932,
           6.917792505235066,
           7.777626660291198,
           8.637460815347334
          ],
          [
           1.090971479565061,
           1.9508056346211948,
           2.8106397896773285,
           3.670473944733463,
           4.530308099789596,
           5.39014225484573,
           6.249976409901864,
           7.109810564957996,
           7.96964472001413,
           8.829478875070265
          ],
          [
           1.2829895392879929,
           2.1428236943441266,
           3.0026578494002605,
           3.862492004456394,
           4.722326159512528,
           5.582160314568662,
           6.441994469624796,
           7.301828624680929,
           8.161662779737062,
           9.021496934793197
          ],
          [
           1.475007599010925,
           2.3348417540670585,
           3.194675909123192,
           4.054510064179326,
           4.91434421923546,
           5.774178374291594,
           6.634012529347729,
           7.49384668440386,
           8.353680839459996,
           9.21351499451613
          ],
          [
           1.6670256587338568,
           2.52685981378999,
           3.3866939688461244,
           4.246528123902259,
           5.106362278958392,
           5.966196434014525,
           6.826030589070659,
           7.685864744126793,
           8.545698899182925,
           9.40553305423906
          ]
         ]
        }
       ],
       "layout": {
        "height": 400,
        "margin": {
         "b": 0,
         "l": 0,
         "r": 0,
         "t": 0
        },
        "template": {
         "data": {
          "bar": [
           {
            "error_x": {
             "color": "#2a3f5f"
            },
            "error_y": {
             "color": "#2a3f5f"
            },
            "marker": {
             "line": {
              "color": "#E5ECF6",
              "width": 0.5
             }
            },
            "type": "bar"
           }
          ],
          "barpolar": [
           {
            "marker": {
             "line": {
              "color": "#E5ECF6",
              "width": 0.5
             }
            },
            "type": "barpolar"
           }
          ],
          "carpet": [
           {
            "aaxis": {
             "endlinecolor": "#2a3f5f",
             "gridcolor": "white",
             "linecolor": "white",
             "minorgridcolor": "white",
             "startlinecolor": "#2a3f5f"
            },
            "baxis": {
             "endlinecolor": "#2a3f5f",
             "gridcolor": "white",
             "linecolor": "white",
             "minorgridcolor": "white",
             "startlinecolor": "#2a3f5f"
            },
            "type": "carpet"
           }
          ],
          "choropleth": [
           {
            "colorbar": {
             "outlinewidth": 0,
             "ticks": ""
            },
            "type": "choropleth"
           }
          ],
          "contour": [
           {
            "colorbar": {
             "outlinewidth": 0,
             "ticks": ""
            },
            "colorscale": [
             [
              0,
              "#0d0887"
             ],
             [
              0.1111111111111111,
              "#46039f"
             ],
             [
              0.2222222222222222,
              "#7201a8"
             ],
             [
              0.3333333333333333,
              "#9c179e"
             ],
             [
              0.4444444444444444,
              "#bd3786"
             ],
             [
              0.5555555555555556,
              "#d8576b"
             ],
             [
              0.6666666666666666,
              "#ed7953"
             ],
             [
              0.7777777777777778,
              "#fb9f3a"
             ],
             [
              0.8888888888888888,
              "#fdca26"
             ],
             [
              1,
              "#f0f921"
             ]
            ],
            "type": "contour"
           }
          ],
          "contourcarpet": [
           {
            "colorbar": {
             "outlinewidth": 0,
             "ticks": ""
            },
            "type": "contourcarpet"
           }
          ],
          "heatmap": [
           {
            "colorbar": {
             "outlinewidth": 0,
             "ticks": ""
            },
            "colorscale": [
             [
              0,
              "#0d0887"
             ],
             [
              0.1111111111111111,
              "#46039f"
             ],
             [
              0.2222222222222222,
              "#7201a8"
             ],
             [
              0.3333333333333333,
              "#9c179e"
             ],
             [
              0.4444444444444444,
              "#bd3786"
             ],
             [
              0.5555555555555556,
              "#d8576b"
             ],
             [
              0.6666666666666666,
              "#ed7953"
             ],
             [
              0.7777777777777778,
              "#fb9f3a"
             ],
             [
              0.8888888888888888,
              "#fdca26"
             ],
             [
              1,
              "#f0f921"
             ]
            ],
            "type": "heatmap"
           }
          ],
          "heatmapgl": [
           {
            "colorbar": {
             "outlinewidth": 0,
             "ticks": ""
            },
            "colorscale": [
             [
              0,
              "#0d0887"
             ],
             [
              0.1111111111111111,
              "#46039f"
             ],
             [
              0.2222222222222222,
              "#7201a8"
             ],
             [
              0.3333333333333333,
              "#9c179e"
             ],
             [
              0.4444444444444444,
              "#bd3786"
             ],
             [
              0.5555555555555556,
              "#d8576b"
             ],
             [
              0.6666666666666666,
              "#ed7953"
             ],
             [
              0.7777777777777778,
              "#fb9f3a"
             ],
             [
              0.8888888888888888,
              "#fdca26"
             ],
             [
              1,
              "#f0f921"
             ]
            ],
            "type": "heatmapgl"
           }
          ],
          "histogram": [
           {
            "marker": {
             "colorbar": {
              "outlinewidth": 0,
              "ticks": ""
             }
            },
            "type": "histogram"
           }
          ],
          "histogram2d": [
           {
            "colorbar": {
             "outlinewidth": 0,
             "ticks": ""
            },
            "colorscale": [
             [
              0,
              "#0d0887"
             ],
             [
              0.1111111111111111,
              "#46039f"
             ],
             [
              0.2222222222222222,
              "#7201a8"
             ],
             [
              0.3333333333333333,
              "#9c179e"
             ],
             [
              0.4444444444444444,
              "#bd3786"
             ],
             [
              0.5555555555555556,
              "#d8576b"
             ],
             [
              0.6666666666666666,
              "#ed7953"
             ],
             [
              0.7777777777777778,
              "#fb9f3a"
             ],
             [
              0.8888888888888888,
              "#fdca26"
             ],
             [
              1,
              "#f0f921"
             ]
            ],
            "type": "histogram2d"
           }
          ],
          "histogram2dcontour": [
           {
            "colorbar": {
             "outlinewidth": 0,
             "ticks": ""
            },
            "colorscale": [
             [
              0,
              "#0d0887"
             ],
             [
              0.1111111111111111,
              "#46039f"
             ],
             [
              0.2222222222222222,
              "#7201a8"
             ],
             [
              0.3333333333333333,
              "#9c179e"
             ],
             [
              0.4444444444444444,
              "#bd3786"
             ],
             [
              0.5555555555555556,
              "#d8576b"
             ],
             [
              0.6666666666666666,
              "#ed7953"
             ],
             [
              0.7777777777777778,
              "#fb9f3a"
             ],
             [
              0.8888888888888888,
              "#fdca26"
             ],
             [
              1,
              "#f0f921"
             ]
            ],
            "type": "histogram2dcontour"
           }
          ],
          "mesh3d": [
           {
            "colorbar": {
             "outlinewidth": 0,
             "ticks": ""
            },
            "type": "mesh3d"
           }
          ],
          "parcoords": [
           {
            "line": {
             "colorbar": {
              "outlinewidth": 0,
              "ticks": ""
             }
            },
            "type": "parcoords"
           }
          ],
          "pie": [
           {
            "automargin": true,
            "type": "pie"
           }
          ],
          "scatter": [
           {
            "marker": {
             "colorbar": {
              "outlinewidth": 0,
              "ticks": ""
             }
            },
            "type": "scatter"
           }
          ],
          "scatter3d": [
           {
            "line": {
             "colorbar": {
              "outlinewidth": 0,
              "ticks": ""
             }
            },
            "marker": {
             "colorbar": {
              "outlinewidth": 0,
              "ticks": ""
             }
            },
            "type": "scatter3d"
           }
          ],
          "scattercarpet": [
           {
            "marker": {
             "colorbar": {
              "outlinewidth": 0,
              "ticks": ""
             }
            },
            "type": "scattercarpet"
           }
          ],
          "scattergeo": [
           {
            "marker": {
             "colorbar": {
              "outlinewidth": 0,
              "ticks": ""
             }
            },
            "type": "scattergeo"
           }
          ],
          "scattergl": [
           {
            "marker": {
             "colorbar": {
              "outlinewidth": 0,
              "ticks": ""
             }
            },
            "type": "scattergl"
           }
          ],
          "scattermapbox": [
           {
            "marker": {
             "colorbar": {
              "outlinewidth": 0,
              "ticks": ""
             }
            },
            "type": "scattermapbox"
           }
          ],
          "scatterpolar": [
           {
            "marker": {
             "colorbar": {
              "outlinewidth": 0,
              "ticks": ""
             }
            },
            "type": "scatterpolar"
           }
          ],
          "scatterpolargl": [
           {
            "marker": {
             "colorbar": {
              "outlinewidth": 0,
              "ticks": ""
             }
            },
            "type": "scatterpolargl"
           }
          ],
          "scatterternary": [
           {
            "marker": {
             "colorbar": {
              "outlinewidth": 0,
              "ticks": ""
             }
            },
            "type": "scatterternary"
           }
          ],
          "surface": [
           {
            "colorbar": {
             "outlinewidth": 0,
             "ticks": ""
            },
            "colorscale": [
             [
              0,
              "#0d0887"
             ],
             [
              0.1111111111111111,
              "#46039f"
             ],
             [
              0.2222222222222222,
              "#7201a8"
             ],
             [
              0.3333333333333333,
              "#9c179e"
             ],
             [
              0.4444444444444444,
              "#bd3786"
             ],
             [
              0.5555555555555556,
              "#d8576b"
             ],
             [
              0.6666666666666666,
              "#ed7953"
             ],
             [
              0.7777777777777778,
              "#fb9f3a"
             ],
             [
              0.8888888888888888,
              "#fdca26"
             ],
             [
              1,
              "#f0f921"
             ]
            ],
            "type": "surface"
           }
          ],
          "table": [
           {
            "cells": {
             "fill": {
              "color": "#EBF0F8"
             },
             "line": {
              "color": "white"
             }
            },
            "header": {
             "fill": {
              "color": "#C8D4E3"
             },
             "line": {
              "color": "white"
             }
            },
            "type": "table"
           }
          ]
         },
         "layout": {
          "annotationdefaults": {
           "arrowcolor": "#2a3f5f",
           "arrowhead": 0,
           "arrowwidth": 1
          },
          "autotypenumbers": "strict",
          "coloraxis": {
           "colorbar": {
            "outlinewidth": 0,
            "ticks": ""
           }
          },
          "colorscale": {
           "diverging": [
            [
             0,
             "#8e0152"
            ],
            [
             0.1,
             "#c51b7d"
            ],
            [
             0.2,
             "#de77ae"
            ],
            [
             0.3,
             "#f1b6da"
            ],
            [
             0.4,
             "#fde0ef"
            ],
            [
             0.5,
             "#f7f7f7"
            ],
            [
             0.6,
             "#e6f5d0"
            ],
            [
             0.7,
             "#b8e186"
            ],
            [
             0.8,
             "#7fbc41"
            ],
            [
             0.9,
             "#4d9221"
            ],
            [
             1,
             "#276419"
            ]
           ],
           "sequential": [
            [
             0,
             "#0d0887"
            ],
            [
             0.1111111111111111,
             "#46039f"
            ],
            [
             0.2222222222222222,
             "#7201a8"
            ],
            [
             0.3333333333333333,
             "#9c179e"
            ],
            [
             0.4444444444444444,
             "#bd3786"
            ],
            [
             0.5555555555555556,
             "#d8576b"
            ],
            [
             0.6666666666666666,
             "#ed7953"
            ],
            [
             0.7777777777777778,
             "#fb9f3a"
            ],
            [
             0.8888888888888888,
             "#fdca26"
            ],
            [
             1,
             "#f0f921"
            ]
           ],
           "sequentialminus": [
            [
             0,
             "#0d0887"
            ],
            [
             0.1111111111111111,
             "#46039f"
            ],
            [
             0.2222222222222222,
             "#7201a8"
            ],
            [
             0.3333333333333333,
             "#9c179e"
            ],
            [
             0.4444444444444444,
             "#bd3786"
            ],
            [
             0.5555555555555556,
             "#d8576b"
            ],
            [
             0.6666666666666666,
             "#ed7953"
            ],
            [
             0.7777777777777778,
             "#fb9f3a"
            ],
            [
             0.8888888888888888,
             "#fdca26"
            ],
            [
             1,
             "#f0f921"
            ]
           ]
          },
          "colorway": [
           "#636efa",
           "#EF553B",
           "#00cc96",
           "#ab63fa",
           "#FFA15A",
           "#19d3f3",
           "#FF6692",
           "#B6E880",
           "#FF97FF",
           "#FECB52"
          ],
          "font": {
           "color": "#2a3f5f"
          },
          "geo": {
           "bgcolor": "white",
           "lakecolor": "white",
           "landcolor": "#E5ECF6",
           "showlakes": true,
           "showland": true,
           "subunitcolor": "white"
          },
          "hoverlabel": {
           "align": "left"
          },
          "hovermode": "closest",
          "mapbox": {
           "style": "light"
          },
          "paper_bgcolor": "white",
          "plot_bgcolor": "#E5ECF6",
          "polar": {
           "angularaxis": {
            "gridcolor": "white",
            "linecolor": "white",
            "ticks": ""
           },
           "bgcolor": "#E5ECF6",
           "radialaxis": {
            "gridcolor": "white",
            "linecolor": "white",
            "ticks": ""
           }
          },
          "scene": {
           "xaxis": {
            "backgroundcolor": "#E5ECF6",
            "gridcolor": "white",
            "gridwidth": 2,
            "linecolor": "white",
            "showbackground": true,
            "ticks": "",
            "zerolinecolor": "white"
           },
           "yaxis": {
            "backgroundcolor": "#E5ECF6",
            "gridcolor": "white",
            "gridwidth": 2,
            "linecolor": "white",
            "showbackground": true,
            "ticks": "",
            "zerolinecolor": "white"
           },
           "zaxis": {
            "backgroundcolor": "#E5ECF6",
            "gridcolor": "white",
            "gridwidth": 2,
            "linecolor": "white",
            "showbackground": true,
            "ticks": "",
            "zerolinecolor": "white"
           }
          },
          "shapedefaults": {
           "line": {
            "color": "#2a3f5f"
           }
          },
          "ternary": {
           "aaxis": {
            "gridcolor": "white",
            "linecolor": "white",
            "ticks": ""
           },
           "baxis": {
            "gridcolor": "white",
            "linecolor": "white",
            "ticks": ""
           },
           "bgcolor": "#E5ECF6",
           "caxis": {
            "gridcolor": "white",
            "linecolor": "white",
            "ticks": ""
           }
          },
          "title": {
           "x": 0.05
          },
          "xaxis": {
           "automargin": true,
           "gridcolor": "white",
           "linecolor": "white",
           "ticks": "",
           "title": {
            "standoff": 15
           },
           "zerolinecolor": "white",
           "zerolinewidth": 2
          },
          "yaxis": {
           "automargin": true,
           "gridcolor": "white",
           "linecolor": "white",
           "ticks": "",
           "title": {
            "standoff": 15
           },
           "zerolinecolor": "white",
           "zerolinewidth": 2
          }
         }
        },
        "title": {
         "text": "data points"
        },
        "width": 400
       }
      }
     },
     "metadata": {}
    }
   ],
   "source": [
    "import plotly.express as px\n",
    "import plotly.graph_objects as go\n",
    "\n",
    "fig = go.Figure(data=[\n",
    "    go.Scatter3d(x=X[:, 0], y=X[:, 1], z=X[:, 2], mode='markers'),\n",
    "    go.Surface(x=xx, y=yy, z=z, showscale=False, opacity=0.8),\n",
    "])\n",
    "\n",
    "fig.update_layout(\n",
    "    title='data points',\n",
    "    width=400,\n",
    "    height=400,\n",
    "    margin=dict(l=0, r=0, b=0, t=0),\n",
    ")\n",
    "fig.show()"
   ]
  },
  {
   "source": [],
   "cell_type": "markdown",
   "metadata": {}
  },
  {
   "source": [
    "### scipy\n",
    "\n",
    "Сверим мое решение с тем, что реализовано в scipy\n",
    "\n",
    "сформулируем задачу как регрессию $z$ по переменным $x,y$  \n",
    "$z \\approx \\beta_0 x + \\beta_1 y + \\beta_2$.  \n",
    "в результате получим параметры $\\beta_i$ такие, что ортогональное расстояние наименьшее. "
   ],
   "cell_type": "markdown",
   "metadata": {}
  },
  {
   "cell_type": "code",
   "execution_count": 232,
   "metadata": {},
   "outputs": [
    {
     "output_type": "stream",
     "name": "stdout",
     "text": [
      "Beta: [ 0.85983352  0.19201913 -0.19144687]\nBeta Std Error: [0.06009224 0.05548452 0.44380248]\nBeta Covariance: [[ 5.14840491e-03 -2.10872049e-04 -2.58183546e-02]\n [-2.10872049e-04  4.38914149e-03 -2.14663209e-02]\n [-2.58183546e-02 -2.14663209e-02  2.80811835e-01]]\nResidual Variance: 0.7013972098089103\nInverse Condition #: 0.045794474969635804\nReason(s) for Halting:\n  Sum of squares convergence\nScipy betas:\n[ 0.85983352  0.19201913 -0.19144687]\nmy betas:\n0.85983416 0.19201806 -0.19144418\n"
     ]
    }
   ],
   "source": [
    "import scipy.odr.odrpack as odrpack\n",
    "\n",
    "x = np.row_stack((X[:, 0], X[:, 1]))\n",
    "z = X[:, 2]\n",
    "\n",
    "def f(B, x):\n",
    "    return B[0] * x[0] + B[1] * x[1] + B[2]\n",
    "linear = odrpack.Model(f)\n",
    "mydata = odrpack.RealData(x, z)\n",
    "\n",
    "myodr = odrpack.ODR(mydata, linear, beta0=[1., 1.,1.])\n",
    "myoutput = myodr.run()\n",
    "myoutput.pprint()\n",
    "\n",
    "betas = myoutput.beta\n",
    "print(\"Scipy betas:\")\n",
    "print(betas)\n",
    "print(\"my betas:\")\n",
    "print(\"{:.8} {:.8} {:.8}\".format(-normal[0] / normal[2], -normal[1] / normal[2], -d / normal[2]))"
   ]
  },
  {
   "source": [
    "References:\n",
    "\n",
    "1. [страница 84](http://oc.cs.msu.ru/smirnov/PPP/Maple_Matlab_(Gander_Hrebicek).pdf) (кстати прикольная книжка)\n",
    "2. [https://www.ltu.se/cms_fs/1.51590!/svd-fitting.pdf]\n",
    "3. Hastie, Tibshirani -- глава 14\n",
    "3. [https://www2.math.ethz.ch/education/bachelor/lectures/hs2014/other/linalg_INFK/svdneu.pdf]\n",
    "4. [http://www.ime.unicamp.br/~marianar/MI602/material%20extra/svd-regression-analysis.pdf]\n",
    "5. [готовое решение ODR scipy](https://docs.scipy.org/doc/scipy/reference/odr.html)"
   ],
   "cell_type": "markdown",
   "metadata": {}
  },
  {
   "source": [
    "---\n",
    "## Task 7 (Прокрустово преобразование)"
   ],
   "cell_type": "markdown",
   "metadata": {}
  },
  {
   "source": [
    "[полезная книжка](http://oc.cs.msu.ru/smirnov/PPP/Maple_Matlab_(Gander_Hrebicek).pdf) -- страницы 81 и 339"
   ],
   "cell_type": "markdown",
   "metadata": {}
  }
 ]
}