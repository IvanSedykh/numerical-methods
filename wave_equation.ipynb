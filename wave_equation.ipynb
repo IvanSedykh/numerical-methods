{
 "cells": [
  {
   "cell_type": "code",
   "execution_count": null,
   "source": [
    "import numpy as np\n",
    "import matplotlib.pyplot as plt"
   ],
   "outputs": [],
   "metadata": {}
  },
  {
   "cell_type": "code",
   "execution_count": null,
   "source": [
    "L, T = 1, 1\n",
    "c = 2.\n",
    "\n",
    "Nx = 100\n",
    "Nt = 800\n",
    "\n",
    "tau = T / Nt\n",
    "h = L / Nx\n",
    "gamma = c*tau / h\n",
    "\n",
    "print('gamma = ', gamma)\n",
    "\n",
    "# set the grids\n",
    "y = np.zeros((Nt+1, Nx+1), dtype=float)  # the solution\n",
    "\n",
    "xj = np.linspace(0, 1, Nx+1, endpoint=True)\n",
    "tn = np.linspace(0, 1, Nt+1, endpoint=True)"
   ],
   "outputs": [],
   "metadata": {}
  },
  {
   "cell_type": "code",
   "execution_count": null,
   "source": [
    "# initial conditions\n",
    "def u0(x):\n",
    "    return np.sin(2.*np.pi*x)\n",
    "    \n",
    "def u0p(x):\n",
    "    ret = np.ones_like(x)\n",
    "    ret[x > 0.5] = 0\n",
    "    return ret"
   ],
   "outputs": [],
   "metadata": {}
  },
  {
   "cell_type": "code",
   "execution_count": null,
   "source": [
    "def make_step(y, n, gamma):\n",
    "    \"\"\"Make a step n -> n+1.\"\"\"\n",
    "    assert n >= 1\n",
    "    y[n+1, 0] = 0\n",
    "    y[n+1, Nx] = 0\n",
    "    for j in range(1, Nx):\n",
    "        y[n+1, j] = 2.*y[n, j] - y[n-1, j] + gamma**2 * (y[n, j+1] - 2.*y[n, j] + y[n, j-1])\n",
    "\n",
    "# set initial conditions\n",
    "y[0, :] = u0(xj)\n",
    "y[1, :] =  y[0, :]          # u0(xj) + tau*u0p(xj)\n",
    "for n in range(1, Nt):\n",
    "    make_step(y, n, gamma)"
   ],
   "outputs": [],
   "metadata": {}
  },
  {
   "cell_type": "code",
   "execution_count": null,
   "source": [
    "# draw / animate\n",
    "# http://louistiao.me/posts/notebooks/embedding-matplotlib-animations-in-jupyter-as-interactive-javascript-widgets/\n",
    "\n",
    "def init():\n",
    "    line.set_data([], [])\n",
    "    return line,\n",
    "\n",
    "def animate(n):\n",
    "    line.set_data(xj, y[n, :])\n",
    "    return line,\n",
    "\n",
    "from matplotlib import animation, rc\n",
    "from IPython.display import HTML\n",
    "%matplotlib inline\n",
    "\n",
    "fig, ax = plt.subplots()\n",
    "ax.set_xlim([0, 1])\n",
    "ax.set_ylim([-1.1, 1.1])\n",
    "line, = ax.plot([], [], '.-', lw=2)\n",
    "\n",
    "anim = animation.FuncAnimation(fig, animate, init_func=init,\n",
    "                               frames=Nt, interval=20, \n",
    "                               blit=True);"
   ],
   "outputs": [],
   "metadata": {}
  },
  {
   "cell_type": "code",
   "execution_count": null,
   "source": [
    "HTML(anim.to_jshtml())"
   ],
   "outputs": [],
   "metadata": {}
  },
  {
   "cell_type": "code",
   "execution_count": null,
   "source": [],
   "outputs": [],
   "metadata": {}
  }
 ],
 "metadata": {
  "kernelspec": {
   "name": "python3",
   "display_name": "Python 3.9.4 64-bit"
  },
  "language_info": {
   "codemirror_mode": {
    "name": "ipython",
    "version": 3
   },
   "file_extension": ".py",
   "mimetype": "text/x-python",
   "name": "python",
   "nbconvert_exporter": "python",
   "pygments_lexer": "ipython3",
   "version": "3.9.4"
  },
  "interpreter": {
   "hash": "aee8b7b246df8f9039afb4144a1f6fd8d2ca17a180786b69acc140d282b71a49"
  }
 },
 "nbformat": 4,
 "nbformat_minor": 5
}